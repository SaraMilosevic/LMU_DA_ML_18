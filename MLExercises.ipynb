{
 "cells": [
  {
   "cell_type": "markdown",
   "metadata": {},
   "source": [
    "## Exercises for Machine Learning\n",
    "\n",
    "### Notebook examples\n",
    "* Check in detail the examples presented\n",
    "  * Vary methods, models, parameters, plots, ...\n",
    "\n",
    "### Titanic data\n",
    "A classical dataset for ML is the [passenger list of the Titanic](https://www.kaggle.com/c/titanic/data), with info on survival, gender, age, deck, ...\n",
    "* On **Kaggle** you can find a very nice **[notebook](https://www.kaggle.com/startupsci/titanic-data-science-solutions/notebook)** which does a very detailed analysis of the data and applies and compares many different ML models for it.\n",
    "  * It is very instructive to go through that NB step-by-step\n",
    "\n"
   ]
  },
  {
   "cell_type": "code",
   "execution_count": null,
   "metadata": {
    "collapsed": true
   },
   "outputs": [],
   "source": []
  }
 ],
 "metadata": {
  "anaconda-cloud": {},
  "kernelspec": {
   "display_name": "Python 3",
   "language": "python",
   "name": "python3"
  },
  "language_info": {
   "codemirror_mode": {
    "name": "ipython",
    "version": 3
   },
   "file_extension": ".py",
   "mimetype": "text/x-python",
   "name": "python",
   "nbconvert_exporter": "python",
   "pygments_lexer": "ipython3",
   "version": "3.6.0"
  },
  "toc": {
   "nav_menu": {},
   "number_sections": true,
   "sideBar": true,
   "skip_h1_title": false,
   "title_cell": "Table of Contents",
   "title_sidebar": "Contents",
   "toc_cell": false,
   "toc_position": {},
   "toc_section_display": true,
   "toc_window_display": false
  }
 },
 "nbformat": 4,
 "nbformat_minor": 0
}
