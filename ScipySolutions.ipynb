{
 "cells": [
  {
   "cell_type": "code",
   "execution_count": null,
   "metadata": {},
   "outputs": [],
   "source": [
    "import numpy as np\n",
    "# common matplotlib shorthands\n",
    "import matplotlib.pyplot as plt\n",
    "\n"
   ]
  },
  {
   "cell_type": "code",
   "execution_count": null,
   "metadata": {},
   "outputs": [],
   "source": [
    "data = np.loadtxt('rohr1.dat')"
   ]
  },
  {
   "cell_type": "code",
   "execution_count": null,
   "metadata": {},
   "outputs": [],
   "source": [
    "len(data)"
   ]
  },
  {
   "cell_type": "code",
   "execution_count": null,
   "metadata": {},
   "outputs": [],
   "source": [
    "print (data.mean(), data.std())"
   ]
  },
  {
   "cell_type": "code",
   "execution_count": null,
   "metadata": {},
   "outputs": [],
   "source": [
    "plt.hist(data, 50)\n",
    "plt.grid(True);"
   ]
  },
  {
   "cell_type": "code",
   "execution_count": null,
   "metadata": {},
   "outputs": [],
   "source": [
    "x,y = np.loadtxt('rohr2.dat',unpack=True)"
   ]
  },
  {
   "cell_type": "code",
   "execution_count": null,
   "metadata": {},
   "outputs": [],
   "source": [
    "np.loadtxt?"
   ]
  },
  {
   "cell_type": "code",
   "execution_count": null,
   "metadata": {},
   "outputs": [],
   "source": [
    "d = np.loadtxt('rohr2.dat')"
   ]
  },
  {
   "cell_type": "code",
   "execution_count": null,
   "metadata": {},
   "outputs": [],
   "source": [
    "d.shape"
   ]
  },
  {
   "cell_type": "code",
   "execution_count": null,
   "metadata": {},
   "outputs": [],
   "source": [
    "d.T"
   ]
  },
  {
   "cell_type": "code",
   "execution_count": null,
   "metadata": {},
   "outputs": [],
   "source": [
    "plt.plot(x,y,'.')\n",
    "plt.grid(True);"
   ]
  },
  {
   "cell_type": "code",
   "execution_count": null,
   "metadata": {},
   "outputs": [],
   "source": [
    "kwargs = dict(histtype='stepfilled', alpha=0.3, normed=True, bins=40)\n",
    "\n",
    "plt.hist(x, **kwargs)\n",
    "plt.hist(y, **kwargs)\n",
    "plt.grid(True);"
   ]
  },
  {
   "cell_type": "code",
   "execution_count": null,
   "metadata": {},
   "outputs": [],
   "source": [
    "dataff=np.loadtxt('faithful.csv',delimiter=',',skiprows=1)\n",
    "#dataff=np.loadtxt('faithful.csv',delimiter=',')\n"
   ]
  },
  {
   "cell_type": "code",
   "execution_count": null,
   "metadata": {},
   "outputs": [],
   "source": [
    "dataff.shape"
   ]
  },
  {
   "cell_type": "code",
   "execution_count": null,
   "metadata": {},
   "outputs": [],
   "source": [
    "dataff"
   ]
  },
  {
   "cell_type": "code",
   "execution_count": null,
   "metadata": {},
   "outputs": [],
   "source": [
    "dataff[:,2]"
   ]
  },
  {
   "cell_type": "code",
   "execution_count": null,
   "metadata": {},
   "outputs": [],
   "source": [
    "plt.plot(dataff[:,1],dataff[:,2],'.')\n",
    "plt.grid(True);"
   ]
  },
  {
   "cell_type": "code",
   "execution_count": null,
   "metadata": {},
   "outputs": [],
   "source": [
    "plt.hist(dataff[:,1],bins=50);"
   ]
  },
  {
   "cell_type": "code",
   "execution_count": null,
   "metadata": {},
   "outputs": [],
   "source": [
    "plt.plot(dataff[:-1,1],dataff[1:,1],'.')\n",
    "plt.grid(True);"
   ]
  },
  {
   "cell_type": "code",
   "execution_count": null,
   "metadata": {},
   "outputs": [],
   "source": [
    "import numpy as np\n",
    "import matplotlib.pyplot as plt\n",
    "from scipy.optimize import curve_fit\n",
    "# Input data\n",
    "\n",
    "counts = [728, 612, 581, 460, 381, 324, 305, 211, 203, 166, 139, \n",
    "          110, 120, 92, 85, 77, 48, 53, 47, 38, 30, 20, 22, 17, 17, 16, 18, 11, 9]\n",
    "\n",
    "\n",
    "n = len(counts)\n",
    "#isi = np.random.exponential(0.1 , size=n)\n",
    "dt = 30.\n",
    "tmax = dt*n \n",
    "x = np.arange(0 , tmax, dt)\n",
    "dcounts = np.sqrt(counts) # stat error\n",
    "\n",
    "plt.errorbar(x, counts, dcounts, fmt='ob')\n",
    "plt.yscale('log')\n",
    "plt.grid(True)"
   ]
  },
  {
   "cell_type": "code",
   "execution_count": null,
   "metadata": {},
   "outputs": [],
   "source": [
    "\n",
    "#\n",
    "# Function to fit\n",
    "# x - independent variable\n",
    "# p0, p1 - parameters\n",
    "fitfunc = lambda x, p0, p1 : p1 * np.exp (- x /p0 ) \n",
    "\n",
    "# Initial values for fit parameters\n",
    "pinit = np.array([ 100, 200. ])\n",
    "\n",
    "out,cov=curve_fit(fitfunc,x+dt/2, counts, pinit, dcounts)\n"
   ]
  },
  {
   "cell_type": "code",
   "execution_count": null,
   "metadata": {},
   "outputs": [],
   "source": [
    "out"
   ]
  },
  {
   "cell_type": "code",
   "execution_count": null,
   "metadata": {},
   "outputs": [],
   "source": [
    "#print ('Fit-result :', out)\n",
    "parnames = ['Slope','Height']\n",
    "for i in range(2):\n",
    "    print (\"%6s: %7.4f +-  %7.4f \" % ( parnames[i], out[i], \n",
    "                                      np.sqrt(cov[i][i])))\n",
    "\n",
    "l1='data'\n",
    "\n",
    "plt.errorbar(x, counts, dcounts, fmt='k.',label=l1)\n",
    "plt.yscale('log')\n",
    "plt.grid(True)\n",
    "\n",
    "l2='fit'\n",
    "plt.plot(x,fitfunc(x+dt/2,out[0],out[1]),'r-',lw=2,label=l2)\n",
    "\n",
    "plt.legend()\n",
    "#plt.yscale('linear')\n",
    "plt.yscale('log')\n",
    "\n"
   ]
  },
  {
   "cell_type": "code",
   "execution_count": null,
   "metadata": {},
   "outputs": [],
   "source": [
    "plt.yscale?"
   ]
  },
  {
   "cell_type": "markdown",
   "metadata": {},
   "source": [
    "##### ODE free fall w/ friction"
   ]
  },
  {
   "cell_type": "code",
   "execution_count": null,
   "metadata": {},
   "outputs": [],
   "source": [
    "# example for solving simple differential equation for free falling object\n",
    "# using odeint\n",
    "#\n",
    "import math\n",
    "import numpy as np\n",
    "import matplotlib.pyplot as plt\n",
    "from scipy.integrate import odeint\n",
    "\n",
    "def F(y, t): \n",
    "        \"\"\"\n",
    "        Return derivatives for 2nd order ODE y'' = g.\n",
    "        \"\"\"\n",
    "        g = 9.81\n",
    "        dy = [0, 0]         # preallocate list to store derivatives\n",
    "        dy[0] = y[1]        # first derivative of y(t)\n",
    "        dy[1] = -g          # second derivative of y(t)\n",
    "        return dy\n",
    "\n",
    "    \n",
    "def G(y, t):\n",
    "        \"\"\"\n",
    "        Return derivatives for 2nd order ODE y'' = g - Fr/m (including air-friction)\n",
    "        and 2dim movement \n",
    "        \"\"\"\n",
    "        # Luftwiderstandskraft Fussball\n",
    "        rhol = 1.184 # Luftdichte (kg/m^3)\n",
    "        rfb  =  0.11 # Fussballradius (m)\n",
    "        cwfb =  0.45 # Kugel CW-Wert\n",
    "        mfb  =  0.43 # Masse Fussball (kg)\n",
    "        g = 9.81 # Erdbeschleunigung\n",
    "        v = math.sqrt(y[1]**2+y[3]**2) # Geschwindigkeit\n",
    "        flw = 0.5 * cwfb * rhol * rfb*rfb * math.pi * v*v \\ air friction force\n",
    "        \n",
    "        \n",
    "        vx = y[1]\n",
    "        vy = y[3]\n",
    "        fx = vx/v * flw\n",
    "        fy = vy/v * flw\n",
    "#        print (y, fx, fy)\n",
    "\n",
    "        dy = [0, 0, 0, 0]           # preallocate list to store derivatives\n",
    "        dy[0] = vx                  # first derivative of x(t)\n",
    "        dy[1] = -fx/mfb             # second derivative of x(t)\n",
    "        dy[2] = vy                  # first derivative of y(t)\n",
    "        dy[3] = -g - fy/mfb         # second derivative of y(t)\n",
    "        return dy\n",
    "\n",
    "    \n",
    "    \n",
    "    \n",
    "# array of time values to study\n",
    "t_min = 0; t_max = 4; dt = 0.02\n",
    "t = np.arange(t_min, t_max+dt, dt)\n",
    "\n",
    "# initial conditions\n",
    "v0 = 140 / 3.6 # max speed 140 km/h (in m/s)\n",
    "angle = 40 * math.pi / 180. # \n",
    "vx = v0 * math.cos(angle)\n",
    "vy = v0 * math.sin(angle)\n",
    "\n",
    "\n",
    "\n",
    "y0 = (0.0, vx, 0.0, vy)\n",
    "\n",
    "\n",
    "y = odeint(G, y0, t)\n",
    "\n",
    "plt.figure()    # Height: Create figure; then add plots.\n",
    "plt.plot(y[:,0], y[:, 2], linewidth=2) # plot x vs y coord\n",
    "\n",
    "z = np.zeros(len(t)) \n",
    "plt.plot(y[:,0], z, 'r-') # plot horizontal line at y=0\n",
    "plt.ylim(-5,20)\n",
    "\n",
    "\n"
   ]
  },
  {
   "cell_type": "code",
   "execution_count": null,
   "metadata": {},
   "outputs": [],
   "source": []
  }
 ],
 "metadata": {
  "kernelspec": {
   "display_name": "Python 3",
   "language": "python",
   "name": "python3"
  },
  "language_info": {
   "codemirror_mode": {
    "name": "ipython",
    "version": 3
   },
   "file_extension": ".py",
   "mimetype": "text/x-python",
   "name": "python",
   "nbconvert_exporter": "python",
   "pygments_lexer": "ipython3",
   "version": "3.6.4"
  },
  "toc": {
   "nav_menu": {},
   "number_sections": true,
   "sideBar": true,
   "skip_h1_title": false,
   "title_cell": "Table of Contents",
   "title_sidebar": "Contents",
   "toc_cell": false,
   "toc_position": {},
   "toc_section_display": true,
   "toc_window_display": false
  }
 },
 "nbformat": 4,
 "nbformat_minor": 2
}
