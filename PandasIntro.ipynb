{
 "cells": [
  {
   "cell_type": "markdown",
   "metadata": {
    "toc": true
   },
   "source": [
    "<h1>Table of Contents<span class=\"tocSkip\"></span></h1>\n",
    "<div class=\"toc\"><ul class=\"toc-item\"><li><span><a href=\"#Pandas\" data-toc-modified-id=\"Pandas-1\"><span class=\"toc-item-num\">1&nbsp;&nbsp;</span>Pandas</a></span><ul class=\"toc-item\"><li><span><a href=\"#Pandas-data-formats\" data-toc-modified-id=\"Pandas-data-formats-1.1\"><span class=\"toc-item-num\">1.1&nbsp;&nbsp;</span>Pandas data formats</a></span><ul class=\"toc-item\"><li><span><a href=\"#Pandas-Series:\" data-toc-modified-id=\"Pandas-Series:-1.1.1\"><span class=\"toc-item-num\">1.1.1&nbsp;&nbsp;</span>Pandas Series:</a></span></li><li><span><a href=\"#Pandas-Dataframe\" data-toc-modified-id=\"Pandas-Dataframe-1.1.2\"><span class=\"toc-item-num\">1.1.2&nbsp;&nbsp;</span>Pandas Dataframe</a></span><ul class=\"toc-item\"><li><span><a href=\"#select-data-regions-in-DataFrame:\" data-toc-modified-id=\"select-data-regions-in-DataFrame:-1.1.2.1\"><span class=\"toc-item-num\">1.1.2.1&nbsp;&nbsp;</span>select data regions in DataFrame:</a></span></li></ul></li><li><span><a href=\"#Change-content-of-dataframe\" data-toc-modified-id=\"Change-content-of-dataframe-1.1.3\"><span class=\"toc-item-num\">1.1.3&nbsp;&nbsp;</span>Change content of dataframe</a></span></li><li><span><a href=\"#Functions-can-be-applied-to-content\" data-toc-modified-id=\"Functions-can-be-applied-to-content-1.1.4\"><span class=\"toc-item-num\">1.1.4&nbsp;&nbsp;</span>Functions can be applied to content</a></span></li></ul></li><li><span><a href=\"#First-practical-example:-Old-faithful-data\" data-toc-modified-id=\"First-practical-example:-Old-faithful-data-1.2\"><span class=\"toc-item-num\">1.2&nbsp;&nbsp;</span>First practical example: Old faithful data</a></span></li><li><span><a href=\"#Handling-missing-data-or-null-values-in-Pandas\" data-toc-modified-id=\"Handling-missing-data-or-null-values-in-Pandas-1.3\"><span class=\"toc-item-num\">1.3&nbsp;&nbsp;</span>Handling missing data or null-values in Pandas</a></span><ul class=\"toc-item\"><li><span><a href=\"#Python-None-object\" data-toc-modified-id=\"Python-None-object-1.3.1\"><span class=\"toc-item-num\">1.3.1&nbsp;&nbsp;</span>Python None object</a></span></li><li><span><a href=\"#Python-NaN\" data-toc-modified-id=\"Python-NaN-1.3.2\"><span class=\"toc-item-num\">1.3.2&nbsp;&nbsp;</span>Python NaN</a></span></li><li><span><a href=\"#NaN-and-None-in-Pandas\" data-toc-modified-id=\"NaN-and-None-in-Pandas-1.3.3\"><span class=\"toc-item-num\">1.3.3&nbsp;&nbsp;</span>NaN and None in Pandas</a></span></li></ul></li><li><span><a href=\"#Aggregations-in-Panda\" data-toc-modified-id=\"Aggregations-in-Panda-1.4\"><span class=\"toc-item-num\">1.4&nbsp;&nbsp;</span>Aggregations in Panda</a></span><ul class=\"toc-item\"><li><span><a href=\"#Grouping-in-Pandas\" data-toc-modified-id=\"Grouping-in-Pandas-1.4.1\"><span class=\"toc-item-num\">1.4.1&nbsp;&nbsp;</span>Grouping in Pandas</a></span></li></ul></li><li><span><a href=\"#Second-Example----Planets-Data\" data-toc-modified-id=\"Second-Example----Planets-Data-1.5\"><span class=\"toc-item-num\">1.5&nbsp;&nbsp;</span>Second Example -  Planets Data</a></span></li><li><span><a href=\"#Third-Example---Spread-sheet-data\" data-toc-modified-id=\"Third-Example---Spread-sheet-data-1.6\"><span class=\"toc-item-num\">1.6&nbsp;&nbsp;</span>Third Example - Spread sheet data</a></span></li><li><span><a href=\"#Fourth-Example---Time-series-data\" data-toc-modified-id=\"Fourth-Example---Time-series-data-1.7\"><span class=\"toc-item-num\">1.7&nbsp;&nbsp;</span>Fourth Example - Time series data</a></span></li></ul></li></ul></div>"
   ]
  },
  {
   "cell_type": "markdown",
   "metadata": {},
   "source": [
    "## Pandas\n",
    "\n",
    "\n",
    "Pandas is a set of Python Modules for  data analysis, i.e. \n",
    "\n",
    "* IO Tools to handle different many different data formats, such as   *txt, csv, xls, json, hdf5, sql, ...*\n",
    "* Tools to manipulate (filter, fix, extract, extend, ...) the data\n",
    "* special visualization tools (on top of matplotlib)\n",
    "* many features to combine, group, select, aggregate  specific properties of the data\n",
    "* A couple of smart instructions in pandas allow complex data-mining procedures which would otherwise take substantial programming effort.\n",
    "\n",
    "\n"
   ]
  },
  {
   "cell_type": "markdown",
   "metadata": {},
   "source": [
    "### Pandas data formats\n",
    "\n",
    "Pandas builds on special array types, which build/extend numpy arrays.\n",
    "\n",
    "* Series: one-dimensional array, can contain different data types, and supports flexible indexing\n",
    "* DataFrame: two-dimensional array, basically a table with rows and columns, can also contain diferent data types and has very \n",
    "flexible indexing\n",
    "\n",
    "\n"
   ]
  },
  {
   "cell_type": "code",
   "execution_count": 1,
   "metadata": {
    "collapsed": true
   },
   "outputs": [],
   "source": [
    "# Pandas Setup: \n",
    "import pandas as pd\n",
    "# and usually as well:\n",
    "import numpy as np\n",
    "import matplotlib.pyplot as plt"
   ]
  },
  {
   "cell_type": "markdown",
   "metadata": {},
   "source": [
    "#### Pandas Series:"
   ]
  },
  {
   "cell_type": "code",
   "execution_count": 2,
   "metadata": {
    "collapsed": false
   },
   "outputs": [
    {
     "name": "stdout",
     "output_type": "stream",
     "text": [
      "<class 'pandas.core.series.Series'>\n",
      "0    4\n",
      "1    3\n",
      "2    5\n",
      "3   -6\n",
      "dtype: int64\n"
     ]
    }
   ],
   "source": [
    "obj=pd.Series([4,3,5,-6])\n",
    "print(type(obj))\n",
    "print(obj)"
   ]
  },
  {
   "cell_type": "code",
   "execution_count": 3,
   "metadata": {
    "collapsed": false
   },
   "outputs": [
    {
     "name": "stdout",
     "output_type": "stream",
     "text": [
      "[ 4  3  5 -6]\n",
      "RangeIndex(start=0, stop=4, step=1)\n"
     ]
    }
   ],
   "source": [
    "# Pandas series is not just array but has associated index\n",
    "print(obj.values)\n",
    "print(obj.index)"
   ]
  },
  {
   "cell_type": "code",
   "execution_count": 39,
   "metadata": {
    "collapsed": false
   },
   "outputs": [
    {
     "name": "stdout",
     "output_type": "stream",
     "text": [
      "a    4\n",
      "b    3\n",
      "c    5\n",
      "d   -6\n",
      "dtype: int64\n",
      "Index(['a', 'b', 'c', 'd'], dtype='object')\n"
     ]
    }
   ],
   "source": [
    "# default index is just integer range\n",
    "#\n",
    "# But can specify different index explizitly:\n",
    "\n",
    "obj=pd.Series([4,3,5,-6],index=['a','b','c','d'])\n",
    "print(obj)\n",
    "print(obj.index)"
   ]
  },
  {
   "cell_type": "code",
   "execution_count": 44,
   "metadata": {
    "collapsed": false
   },
   "outputs": [
    {
     "data": {
      "text/plain": [
       "a    4\n",
       "b    3\n",
       "c    5\n",
       "dtype: int64"
      ]
     },
     "execution_count": 44,
     "metadata": {},
     "output_type": "execute_result"
    }
   ],
   "source": [
    "# can use explicit index 'a'-'d' for range\n",
    "obj['a':'c'] # watch out, last element included "
   ]
  },
  {
   "cell_type": "code",
   "execution_count": 45,
   "metadata": {
    "collapsed": false
   },
   "outputs": [
    {
     "data": {
      "text/plain": [
       "a    4\n",
       "b    3\n",
       "dtype: int64"
      ]
     },
     "execution_count": 45,
     "metadata": {},
     "output_type": "execute_result"
    }
   ],
   "source": [
    "# or implicit numerical index:\n",
    "obj[0:2] # watch out, last element not included "
   ]
  },
  {
   "cell_type": "code",
   "execution_count": 10,
   "metadata": {
    "collapsed": false
   },
   "outputs": [
    {
     "data": {
      "text/plain": [
       "I      4\n",
       "II     3\n",
       "III    5\n",
       "IV    -6\n",
       "dtype: int64"
      ]
     },
     "execution_count": 10,
     "metadata": {},
     "output_type": "execute_result"
    }
   ],
   "source": [
    "# or change index later on:\n",
    "obj.index=['I','II','III','IV']\n",
    "obj"
   ]
  },
  {
   "cell_type": "code",
   "execution_count": 11,
   "metadata": {
    "collapsed": false
   },
   "outputs": [
    {
     "data": {
      "text/plain": [
       "I      4\n",
       "III    5\n",
       "dtype: int64"
      ]
     },
     "execution_count": 11,
     "metadata": {},
     "output_type": "execute_result"
    }
   ],
   "source": [
    "# Usual numpy array operations can be used for Pandas series\n",
    "\n",
    "obj[obj>3] # select elements"
   ]
  },
  {
   "cell_type": "code",
   "execution_count": 12,
   "metadata": {
    "collapsed": false
   },
   "outputs": [
    {
     "data": {
      "text/plain": [
       "I      16\n",
       "II      9\n",
       "III    25\n",
       "IV     36\n",
       "dtype: int64"
      ]
     },
     "execution_count": 12,
     "metadata": {},
     "output_type": "execute_result"
    }
   ],
   "source": [
    "obj**2 # square"
   ]
  },
  {
   "cell_type": "code",
   "execution_count": 13,
   "metadata": {
    "collapsed": false
   },
   "outputs": [
    {
     "data": {
      "text/plain": [
       "I       54.598150\n",
       "II      20.085537\n",
       "III    148.413159\n",
       "IV       0.002479\n",
       "dtype: float64"
      ]
     },
     "execution_count": 13,
     "metadata": {},
     "output_type": "execute_result"
    }
   ],
   "source": [
    "np.exp(obj) # exp fct"
   ]
  },
  {
   "cell_type": "markdown",
   "metadata": {},
   "source": [
    "#### Pandas Dataframe\n",
    "\n",
    "the 2D version, they have both row and column index\n"
   ]
  },
  {
   "cell_type": "code",
   "execution_count": 2,
   "metadata": {
    "collapsed": false
   },
   "outputs": [
    {
     "name": "stdout",
     "output_type": "stream",
     "text": [
      "['2013-01-01' '2013-01-02' '2013-01-03' '2013-01-04' '2013-01-05'\n",
      " '2013-01-06']\n",
      "                   A         B         C         D\n",
      "2013-01-01  0.979135 -0.770164 -0.557598  0.280830\n",
      "2013-01-02 -0.346561  0.174413 -0.429051 -0.704129\n",
      "2013-01-03  1.038881 -0.322226 -1.152056 -0.492056\n",
      "2013-01-04 -0.200535  0.102704 -1.296753  1.571000\n",
      "2013-01-05 -0.710287 -0.772192  1.995469  0.209540\n",
      "2013-01-06  0.481489 -1.709427 -0.581858 -0.239843\n"
     ]
    }
   ],
   "source": [
    "# example creation \n",
    "# list of dates and row index\n",
    "dates = pd.date_range('20130101', periods=6).to_native_types()\n",
    "print(dates)\n",
    "# list of chars as row-index\n",
    "cols=list('ABCD')\n",
    "# real data as numpy 2d array filled with randoms nums:\n",
    "mydata = np.random.randn(6,4)\n",
    "df = pd.DataFrame( mydata, index=dates, columns=cols)\n",
    "\n",
    "print(df)"
   ]
  },
  {
   "cell_type": "markdown",
   "metadata": {},
   "source": [
    "##### select data regions in DataFrame:"
   ]
  },
  {
   "cell_type": "code",
   "execution_count": 5,
   "metadata": {
    "collapsed": false
   },
   "outputs": [
    {
     "data": {
      "text/plain": [
       "2013-01-01    0.822066\n",
       "2013-01-02   -0.928773\n",
       "2013-01-03   -0.070649\n",
       "2013-01-04   -2.174394\n",
       "2013-01-05    1.608317\n",
       "2013-01-06    0.031484\n",
       "Name: A, dtype: float64"
      ]
     },
     "execution_count": 5,
     "metadata": {},
     "output_type": "execute_result"
    }
   ],
   "source": [
    "# column\n",
    "df['A'] # column index "
   ]
  },
  {
   "cell_type": "code",
   "execution_count": 80,
   "metadata": {
    "collapsed": false
   },
   "outputs": [
    {
     "data": {
      "text/plain": [
       "2013-01-01   -0.283162\n",
       "2013-01-02   -0.293181\n",
       "2013-01-03   -0.168175\n",
       "2013-01-04    0.212738\n",
       "2013-01-05    1.923151\n",
       "2013-01-06    0.432166\n",
       "Name: A, dtype: float64"
      ]
     },
     "execution_count": 80,
     "metadata": {},
     "output_type": "execute_result"
    }
   ],
   "source": [
    "df.A # in most cases also this notation works to select col "
   ]
  },
  {
   "cell_type": "code",
   "execution_count": 3,
   "metadata": {
    "collapsed": false
   },
   "outputs": [
    {
     "name": "stdout",
     "output_type": "stream",
     "text": [
      "A   -0.710287\n",
      "B   -0.772192\n",
      "C    1.995469\n",
      "D    0.209540\n",
      "Name: 2013-01-05, dtype: float64\n"
     ]
    }
   ],
   "source": [
    "# select row with loc and explicit index\n",
    "print(df.loc['2013-01-05'])"
   ]
  },
  {
   "cell_type": "code",
   "execution_count": 84,
   "metadata": {
    "collapsed": false
   },
   "outputs": [
    {
     "name": "stdout",
     "output_type": "stream",
     "text": [
      "A    1.923151\n",
      "B    1.523149\n",
      "C    0.858808\n",
      "D    0.090881\n",
      "Name: 2013-01-05, dtype: float64\n"
     ]
    }
   ],
   "source": [
    "# select row with iloc and implicit index\n",
    "print(df.iloc[4])"
   ]
  },
  {
   "cell_type": "code",
   "execution_count": 85,
   "metadata": {
    "collapsed": false
   },
   "outputs": [
    {
     "data": {
      "text/plain": [
       "1.5231487251680123"
      ]
     },
     "execution_count": 85,
     "metadata": {},
     "output_type": "execute_result"
    }
   ],
   "source": [
    "# element with col and row\n",
    "df['B'].loc['2013-01-05']\n"
   ]
  },
  {
   "cell_type": "code",
   "execution_count": 86,
   "metadata": {
    "collapsed": false
   },
   "outputs": [
    {
     "data": {
      "text/plain": [
       "1.5231487251680123"
      ]
     },
     "execution_count": 86,
     "metadata": {},
     "output_type": "execute_result"
    }
   ],
   "source": [
    "# or more direct\n",
    "df['B']['2013-01-05']"
   ]
  },
  {
   "cell_type": "code",
   "execution_count": 6,
   "metadata": {
    "collapsed": false
   },
   "outputs": [
    {
     "data": {
      "text/plain": [
       "2013-01-01    0.822066\n",
       "2013-01-02   -0.928773\n",
       "2013-01-03   -0.070649\n",
       "2013-01-04   -2.174394\n",
       "Name: A, dtype: float64"
      ]
     },
     "execution_count": 6,
     "metadata": {},
     "output_type": "execute_result"
    }
   ],
   "source": [
    "# or range of rows\n",
    "df['A']['2013-01-01':'2013-01-04']"
   ]
  },
  {
   "cell_type": "code",
   "execution_count": 88,
   "metadata": {
    "collapsed": false
   },
   "outputs": [
    {
     "data": {
      "text/plain": [
       "2013-01-01    0.802113\n",
       "2013-01-02   -0.001986\n",
       "2013-01-03   -1.199549\n",
       "Name: B, dtype: float64"
      ]
     },
     "execution_count": 88,
     "metadata": {},
     "output_type": "execute_result"
    }
   ],
   "source": [
    "# or implicit row index\n",
    "df['B'][0:3] "
   ]
  },
  {
   "cell_type": "code",
   "execution_count": 4,
   "metadata": {
    "collapsed": false
   },
   "outputs": [
    {
     "data": {
      "text/plain": [
       "2013-01-01    0.979135\n",
       "2013-01-02   -0.346561\n",
       "2013-01-03    1.038881\n",
       "2013-01-04   -0.200535\n",
       "2013-01-05   -0.710287\n",
       "Name: A, dtype: float64"
      ]
     },
     "execution_count": 4,
     "metadata": {},
     "output_type": "execute_result"
    }
   ],
   "source": [
    "df['A']['2013-01-01':'2013-01-05']"
   ]
  },
  {
   "cell_type": "markdown",
   "metadata": {},
   "source": [
    "***\n",
    "Selecting range of rows also needs function"
   ]
  },
  {
   "cell_type": "code",
   "execution_count": 12,
   "metadata": {
    "collapsed": false
   },
   "outputs": [
    {
     "data": {
      "text/html": [
       "<div>\n",
       "<table border=\"1\" class=\"dataframe\">\n",
       "  <thead>\n",
       "    <tr style=\"text-align: right;\">\n",
       "      <th></th>\n",
       "      <th>A</th>\n",
       "      <th>B</th>\n",
       "      <th>C</th>\n",
       "      <th>D</th>\n",
       "    </tr>\n",
       "  </thead>\n",
       "  <tbody>\n",
       "  </tbody>\n",
       "</table>\n",
       "</div>"
      ],
      "text/plain": [
       "Empty DataFrame\n",
       "Columns: [A, B, C, D]\n",
       "Index: []"
      ]
     },
     "execution_count": 12,
     "metadata": {},
     "output_type": "execute_result"
    }
   ],
   "source": [
    "df['B':'C'] # naive attemptdoes not work"
   ]
  },
  {
   "cell_type": "code",
   "execution_count": 13,
   "metadata": {
    "collapsed": false
   },
   "outputs": [
    {
     "data": {
      "text/html": [
       "<div>\n",
       "<table border=\"1\" class=\"dataframe\">\n",
       "  <thead>\n",
       "    <tr style=\"text-align: right;\">\n",
       "      <th></th>\n",
       "      <th>B</th>\n",
       "      <th>C</th>\n",
       "    </tr>\n",
       "  </thead>\n",
       "  <tbody>\n",
       "    <tr>\n",
       "      <th>2013-01-01</th>\n",
       "      <td>-0.770164</td>\n",
       "      <td>-0.557598</td>\n",
       "    </tr>\n",
       "    <tr>\n",
       "      <th>2013-01-02</th>\n",
       "      <td>0.174413</td>\n",
       "      <td>-0.429051</td>\n",
       "    </tr>\n",
       "    <tr>\n",
       "      <th>2013-01-03</th>\n",
       "      <td>-0.322226</td>\n",
       "      <td>-1.152056</td>\n",
       "    </tr>\n",
       "    <tr>\n",
       "      <th>2013-01-04</th>\n",
       "      <td>0.102704</td>\n",
       "      <td>-1.296753</td>\n",
       "    </tr>\n",
       "    <tr>\n",
       "      <th>2013-01-05</th>\n",
       "      <td>-0.772192</td>\n",
       "      <td>1.995469</td>\n",
       "    </tr>\n",
       "    <tr>\n",
       "      <th>2013-01-06</th>\n",
       "      <td>-1.709427</td>\n",
       "      <td>-0.581858</td>\n",
       "    </tr>\n",
       "  </tbody>\n",
       "</table>\n",
       "</div>"
      ],
      "text/plain": [
       "                   B         C\n",
       "2013-01-01 -0.770164 -0.557598\n",
       "2013-01-02  0.174413 -0.429051\n",
       "2013-01-03 -0.322226 -1.152056\n",
       "2013-01-04  0.102704 -1.296753\n",
       "2013-01-05 -0.772192  1.995469\n",
       "2013-01-06 -1.709427 -0.581858"
      ]
     },
     "execution_count": 13,
     "metadata": {},
     "output_type": "execute_result"
    }
   ],
   "source": [
    "df.ix[:,'B':'C'] # df.ix allows to select arbitrary regions"
   ]
  },
  {
   "cell_type": "code",
   "execution_count": 14,
   "metadata": {
    "collapsed": false
   },
   "outputs": [
    {
     "data": {
      "text/html": [
       "<div>\n",
       "<table border=\"1\" class=\"dataframe\">\n",
       "  <thead>\n",
       "    <tr style=\"text-align: right;\">\n",
       "      <th></th>\n",
       "      <th>B</th>\n",
       "      <th>C</th>\n",
       "    </tr>\n",
       "  </thead>\n",
       "  <tbody>\n",
       "    <tr>\n",
       "      <th>2013-01-01</th>\n",
       "      <td>-0.770164</td>\n",
       "      <td>-0.557598</td>\n",
       "    </tr>\n",
       "    <tr>\n",
       "      <th>2013-01-02</th>\n",
       "      <td>0.174413</td>\n",
       "      <td>-0.429051</td>\n",
       "    </tr>\n",
       "    <tr>\n",
       "      <th>2013-01-03</th>\n",
       "      <td>-0.322226</td>\n",
       "      <td>-1.152056</td>\n",
       "    </tr>\n",
       "    <tr>\n",
       "      <th>2013-01-04</th>\n",
       "      <td>0.102704</td>\n",
       "      <td>-1.296753</td>\n",
       "    </tr>\n",
       "    <tr>\n",
       "      <th>2013-01-05</th>\n",
       "      <td>-0.772192</td>\n",
       "      <td>1.995469</td>\n",
       "    </tr>\n",
       "    <tr>\n",
       "      <th>2013-01-06</th>\n",
       "      <td>-1.709427</td>\n",
       "      <td>-0.581858</td>\n",
       "    </tr>\n",
       "  </tbody>\n",
       "</table>\n",
       "</div>"
      ],
      "text/plain": [
       "                   B         C\n",
       "2013-01-01 -0.770164 -0.557598\n",
       "2013-01-02  0.174413 -0.429051\n",
       "2013-01-03 -0.322226 -1.152056\n",
       "2013-01-04  0.102704 -1.296753\n",
       "2013-01-05 -0.772192  1.995469\n",
       "2013-01-06 -1.709427 -0.581858"
      ]
     },
     "execution_count": 14,
     "metadata": {},
     "output_type": "execute_result"
    }
   ],
   "source": [
    "df.ix[:,1:3] # equivalent with numerical col index"
   ]
  },
  {
   "cell_type": "code",
   "execution_count": 15,
   "metadata": {
    "collapsed": false
   },
   "outputs": [
    {
     "data": {
      "text/html": [
       "<div>\n",
       "<table border=\"1\" class=\"dataframe\">\n",
       "  <thead>\n",
       "    <tr style=\"text-align: right;\">\n",
       "      <th></th>\n",
       "      <th>C</th>\n",
       "      <th>D</th>\n",
       "    </tr>\n",
       "  </thead>\n",
       "  <tbody>\n",
       "    <tr>\n",
       "      <th>2013-01-02</th>\n",
       "      <td>-0.429051</td>\n",
       "      <td>-0.704129</td>\n",
       "    </tr>\n",
       "    <tr>\n",
       "      <th>2013-01-03</th>\n",
       "      <td>-1.152056</td>\n",
       "      <td>-0.492056</td>\n",
       "    </tr>\n",
       "    <tr>\n",
       "      <th>2013-01-04</th>\n",
       "      <td>-1.296753</td>\n",
       "      <td>1.571000</td>\n",
       "    </tr>\n",
       "  </tbody>\n",
       "</table>\n",
       "</div>"
      ],
      "text/plain": [
       "                   C         D\n",
       "2013-01-02 -0.429051 -0.704129\n",
       "2013-01-03 -1.152056 -0.492056\n",
       "2013-01-04 -1.296753  1.571000"
      ]
     },
     "execution_count": 15,
     "metadata": {},
     "output_type": "execute_result"
    }
   ],
   "source": [
    "df.ix[1:4,2:4] # arbitrary sub-range"
   ]
  },
  {
   "cell_type": "code",
   "execution_count": 90,
   "metadata": {
    "collapsed": false
   },
   "outputs": [
    {
     "data": {
      "text/html": [
       "<div>\n",
       "<table border=\"1\" class=\"dataframe\">\n",
       "  <thead>\n",
       "    <tr style=\"text-align: right;\">\n",
       "      <th></th>\n",
       "      <th>2013-01-01</th>\n",
       "      <th>2013-01-02</th>\n",
       "      <th>2013-01-03</th>\n",
       "      <th>2013-01-04</th>\n",
       "      <th>2013-01-05</th>\n",
       "      <th>2013-01-06</th>\n",
       "    </tr>\n",
       "  </thead>\n",
       "  <tbody>\n",
       "    <tr>\n",
       "      <th>A</th>\n",
       "      <td>-0.283162</td>\n",
       "      <td>-0.293181</td>\n",
       "      <td>-0.168175</td>\n",
       "      <td>0.212738</td>\n",
       "      <td>1.923151</td>\n",
       "      <td>0.432166</td>\n",
       "    </tr>\n",
       "    <tr>\n",
       "      <th>B</th>\n",
       "      <td>0.802113</td>\n",
       "      <td>-0.001986</td>\n",
       "      <td>-1.199549</td>\n",
       "      <td>0.635739</td>\n",
       "      <td>1.523149</td>\n",
       "      <td>0.374024</td>\n",
       "    </tr>\n",
       "    <tr>\n",
       "      <th>C</th>\n",
       "      <td>1.368224</td>\n",
       "      <td>-1.969019</td>\n",
       "      <td>0.765801</td>\n",
       "      <td>0.198867</td>\n",
       "      <td>0.858808</td>\n",
       "      <td>1.289608</td>\n",
       "    </tr>\n",
       "    <tr>\n",
       "      <th>D</th>\n",
       "      <td>2.093894</td>\n",
       "      <td>2.045868</td>\n",
       "      <td>-0.927639</td>\n",
       "      <td>-1.366262</td>\n",
       "      <td>0.090881</td>\n",
       "      <td>-0.368687</td>\n",
       "    </tr>\n",
       "  </tbody>\n",
       "</table>\n",
       "</div>"
      ],
      "text/plain": [
       "   2013-01-01  2013-01-02  2013-01-03  2013-01-04  2013-01-05  2013-01-06\n",
       "A   -0.283162   -0.293181   -0.168175    0.212738    1.923151    0.432166\n",
       "B    0.802113   -0.001986   -1.199549    0.635739    1.523149    0.374024\n",
       "C    1.368224   -1.969019    0.765801    0.198867    0.858808    1.289608\n",
       "D    2.093894    2.045868   -0.927639   -1.366262    0.090881   -0.368687"
      ]
     },
     "execution_count": 90,
     "metadata": {},
     "output_type": "execute_result"
    }
   ],
   "source": [
    "# transpose row <--> columns\n",
    "df.T "
   ]
  },
  {
   "cell_type": "markdown",
   "metadata": {},
   "source": [
    "#### Change content of dataframe\n",
    "Many nice ways to modify content, some examples:"
   ]
  },
  {
   "cell_type": "code",
   "execution_count": 7,
   "metadata": {
    "collapsed": false
   },
   "outputs": [
    {
     "data": {
      "text/html": [
       "<div>\n",
       "<table border=\"1\" class=\"dataframe\">\n",
       "  <thead>\n",
       "    <tr style=\"text-align: right;\">\n",
       "      <th></th>\n",
       "      <th>A</th>\n",
       "      <th>B</th>\n",
       "      <th>C</th>\n",
       "      <th>D</th>\n",
       "    </tr>\n",
       "  </thead>\n",
       "  <tbody>\n",
       "    <tr>\n",
       "      <th>2013-01-01</th>\n",
       "      <td>0.822066</td>\n",
       "      <td>0.145510</td>\n",
       "      <td>0.316715</td>\n",
       "      <td>-1.286961</td>\n",
       "    </tr>\n",
       "    <tr>\n",
       "      <th>2013-01-02</th>\n",
       "      <td>-0.928773</td>\n",
       "      <td>-0.299273</td>\n",
       "      <td>-1.055631</td>\n",
       "      <td>0.251197</td>\n",
       "    </tr>\n",
       "    <tr>\n",
       "      <th>2013-01-03</th>\n",
       "      <td>-0.070649</td>\n",
       "      <td>1.346340</td>\n",
       "      <td>-0.922670</td>\n",
       "      <td>-0.030426</td>\n",
       "    </tr>\n",
       "    <tr>\n",
       "      <th>2013-01-04</th>\n",
       "      <td>-2.174394</td>\n",
       "      <td>-1.449455</td>\n",
       "      <td>-0.383416</td>\n",
       "      <td>0.196338</td>\n",
       "    </tr>\n",
       "    <tr>\n",
       "      <th>2013-01-05</th>\n",
       "      <td>1.608317</td>\n",
       "      <td>0.496390</td>\n",
       "      <td>-0.079569</td>\n",
       "      <td>0.722444</td>\n",
       "    </tr>\n",
       "    <tr>\n",
       "      <th>2013-01-06</th>\n",
       "      <td>0.031484</td>\n",
       "      <td>-0.659165</td>\n",
       "      <td>0.373514</td>\n",
       "      <td>0.462375</td>\n",
       "    </tr>\n",
       "  </tbody>\n",
       "</table>\n",
       "</div>"
      ],
      "text/plain": [
       "                   A         B         C         D\n",
       "2013-01-01  0.822066  0.145510  0.316715 -1.286961\n",
       "2013-01-02 -0.928773 -0.299273 -1.055631  0.251197\n",
       "2013-01-03 -0.070649  1.346340 -0.922670 -0.030426\n",
       "2013-01-04 -2.174394 -1.449455 -0.383416  0.196338\n",
       "2013-01-05  1.608317  0.496390 -0.079569  0.722444\n",
       "2013-01-06  0.031484 -0.659165  0.373514  0.462375"
      ]
     },
     "execution_count": 7,
     "metadata": {},
     "output_type": "execute_result"
    }
   ],
   "source": [
    "df3 = df.copy() # independent copy\n",
    "#df3['2013-01-04']\n",
    "df3"
   ]
  },
  {
   "cell_type": "code",
   "execution_count": 8,
   "metadata": {
    "collapsed": false
   },
   "outputs": [
    {
     "data": {
      "text/html": [
       "<div>\n",
       "<table border=\"1\" class=\"dataframe\">\n",
       "  <thead>\n",
       "    <tr style=\"text-align: right;\">\n",
       "      <th></th>\n",
       "      <th>A</th>\n",
       "      <th>B</th>\n",
       "      <th>C</th>\n",
       "      <th>D</th>\n",
       "    </tr>\n",
       "  </thead>\n",
       "  <tbody>\n",
       "    <tr>\n",
       "      <th>2013-01-01</th>\n",
       "      <td>0.822066</td>\n",
       "      <td>0.145510</td>\n",
       "      <td>0.316715</td>\n",
       "      <td>-1.286961</td>\n",
       "    </tr>\n",
       "    <tr>\n",
       "      <th>2013-01-02</th>\n",
       "      <td>-0.928773</td>\n",
       "      <td>-0.299273</td>\n",
       "      <td>-1.055631</td>\n",
       "      <td>0.251197</td>\n",
       "    </tr>\n",
       "    <tr>\n",
       "      <th>2013-01-03</th>\n",
       "      <td>-0.070649</td>\n",
       "      <td>1.346340</td>\n",
       "      <td>-0.922670</td>\n",
       "      <td>-0.030426</td>\n",
       "    </tr>\n",
       "    <tr>\n",
       "      <th>2013-01-05</th>\n",
       "      <td>1.608317</td>\n",
       "      <td>0.496390</td>\n",
       "      <td>-0.079569</td>\n",
       "      <td>0.722444</td>\n",
       "    </tr>\n",
       "    <tr>\n",
       "      <th>2013-01-06</th>\n",
       "      <td>0.031484</td>\n",
       "      <td>-0.659165</td>\n",
       "      <td>0.373514</td>\n",
       "      <td>0.462375</td>\n",
       "    </tr>\n",
       "  </tbody>\n",
       "</table>\n",
       "</div>"
      ],
      "text/plain": [
       "                   A         B         C         D\n",
       "2013-01-01  0.822066  0.145510  0.316715 -1.286961\n",
       "2013-01-02 -0.928773 -0.299273 -1.055631  0.251197\n",
       "2013-01-03 -0.070649  1.346340 -0.922670 -0.030426\n",
       "2013-01-05  1.608317  0.496390 -0.079569  0.722444\n",
       "2013-01-06  0.031484 -0.659165  0.373514  0.462375"
      ]
     },
     "execution_count": 8,
     "metadata": {},
     "output_type": "execute_result"
    }
   ],
   "source": [
    "# delete row\n",
    "df3.drop('2013-01-04')"
   ]
  },
  {
   "cell_type": "code",
   "execution_count": 9,
   "metadata": {
    "collapsed": false
   },
   "outputs": [
    {
     "data": {
      "text/html": [
       "<div>\n",
       "<table border=\"1\" class=\"dataframe\">\n",
       "  <thead>\n",
       "    <tr style=\"text-align: right;\">\n",
       "      <th></th>\n",
       "      <th>A</th>\n",
       "      <th>B</th>\n",
       "      <th>C</th>\n",
       "      <th>D</th>\n",
       "    </tr>\n",
       "  </thead>\n",
       "  <tbody>\n",
       "    <tr>\n",
       "      <th>2013-01-01</th>\n",
       "      <td>0.822066</td>\n",
       "      <td>0.145510</td>\n",
       "      <td>0.316715</td>\n",
       "      <td>-1.286961</td>\n",
       "    </tr>\n",
       "    <tr>\n",
       "      <th>2013-01-02</th>\n",
       "      <td>-0.928773</td>\n",
       "      <td>-0.299273</td>\n",
       "      <td>-1.055631</td>\n",
       "      <td>0.251197</td>\n",
       "    </tr>\n",
       "    <tr>\n",
       "      <th>2013-01-03</th>\n",
       "      <td>-0.070649</td>\n",
       "      <td>1.346340</td>\n",
       "      <td>-0.922670</td>\n",
       "      <td>-0.030426</td>\n",
       "    </tr>\n",
       "    <tr>\n",
       "      <th>2013-01-04</th>\n",
       "      <td>-2.174394</td>\n",
       "      <td>-1.449455</td>\n",
       "      <td>-0.383416</td>\n",
       "      <td>0.196338</td>\n",
       "    </tr>\n",
       "    <tr>\n",
       "      <th>2013-01-05</th>\n",
       "      <td>1.608317</td>\n",
       "      <td>0.496390</td>\n",
       "      <td>-0.079569</td>\n",
       "      <td>0.722444</td>\n",
       "    </tr>\n",
       "    <tr>\n",
       "      <th>2013-01-06</th>\n",
       "      <td>0.031484</td>\n",
       "      <td>-0.659165</td>\n",
       "      <td>0.373514</td>\n",
       "      <td>0.462375</td>\n",
       "    </tr>\n",
       "  </tbody>\n",
       "</table>\n",
       "</div>"
      ],
      "text/plain": [
       "                   A         B         C         D\n",
       "2013-01-01  0.822066  0.145510  0.316715 -1.286961\n",
       "2013-01-02 -0.928773 -0.299273 -1.055631  0.251197\n",
       "2013-01-03 -0.070649  1.346340 -0.922670 -0.030426\n",
       "2013-01-04 -2.174394 -1.449455 -0.383416  0.196338\n",
       "2013-01-05  1.608317  0.496390 -0.079569  0.722444\n",
       "2013-01-06  0.031484 -0.659165  0.373514  0.462375"
      ]
     },
     "execution_count": 9,
     "metadata": {},
     "output_type": "execute_result"
    }
   ],
   "source": [
    "# df3 unchanged\n",
    "df3"
   ]
  },
  {
   "cell_type": "code",
   "execution_count": 10,
   "metadata": {
    "collapsed": false
   },
   "outputs": [],
   "source": [
    "# delete column, need to specify axis\n",
    "# and set inplace to make change in Dataframe\n",
    "df3.drop('A',axis=1,inplace=True)"
   ]
  },
  {
   "cell_type": "code",
   "execution_count": 11,
   "metadata": {
    "collapsed": false
   },
   "outputs": [
    {
     "data": {
      "text/html": [
       "<div>\n",
       "<table border=\"1\" class=\"dataframe\">\n",
       "  <thead>\n",
       "    <tr style=\"text-align: right;\">\n",
       "      <th></th>\n",
       "      <th>B</th>\n",
       "      <th>C</th>\n",
       "      <th>D</th>\n",
       "    </tr>\n",
       "  </thead>\n",
       "  <tbody>\n",
       "    <tr>\n",
       "      <th>2013-01-01</th>\n",
       "      <td>0.145510</td>\n",
       "      <td>0.316715</td>\n",
       "      <td>-1.286961</td>\n",
       "    </tr>\n",
       "    <tr>\n",
       "      <th>2013-01-02</th>\n",
       "      <td>-0.299273</td>\n",
       "      <td>-1.055631</td>\n",
       "      <td>0.251197</td>\n",
       "    </tr>\n",
       "    <tr>\n",
       "      <th>2013-01-03</th>\n",
       "      <td>1.346340</td>\n",
       "      <td>-0.922670</td>\n",
       "      <td>-0.030426</td>\n",
       "    </tr>\n",
       "    <tr>\n",
       "      <th>2013-01-04</th>\n",
       "      <td>-1.449455</td>\n",
       "      <td>-0.383416</td>\n",
       "      <td>0.196338</td>\n",
       "    </tr>\n",
       "    <tr>\n",
       "      <th>2013-01-05</th>\n",
       "      <td>0.496390</td>\n",
       "      <td>-0.079569</td>\n",
       "      <td>0.722444</td>\n",
       "    </tr>\n",
       "    <tr>\n",
       "      <th>2013-01-06</th>\n",
       "      <td>-0.659165</td>\n",
       "      <td>0.373514</td>\n",
       "      <td>0.462375</td>\n",
       "    </tr>\n",
       "  </tbody>\n",
       "</table>\n",
       "</div>"
      ],
      "text/plain": [
       "                   B         C         D\n",
       "2013-01-01  0.145510  0.316715 -1.286961\n",
       "2013-01-02 -0.299273 -1.055631  0.251197\n",
       "2013-01-03  1.346340 -0.922670 -0.030426\n",
       "2013-01-04 -1.449455 -0.383416  0.196338\n",
       "2013-01-05  0.496390 -0.079569  0.722444\n",
       "2013-01-06 -0.659165  0.373514  0.462375"
      ]
     },
     "execution_count": 11,
     "metadata": {},
     "output_type": "execute_result"
    }
   ],
   "source": [
    "df3"
   ]
  },
  {
   "cell_type": "code",
   "execution_count": 12,
   "metadata": {
    "collapsed": false
   },
   "outputs": [
    {
     "data": {
      "text/html": [
       "<div>\n",
       "<table border=\"1\" class=\"dataframe\">\n",
       "  <thead>\n",
       "    <tr style=\"text-align: right;\">\n",
       "      <th></th>\n",
       "      <th>A</th>\n",
       "      <th>B</th>\n",
       "      <th>C</th>\n",
       "      <th>D</th>\n",
       "      <th>E</th>\n",
       "    </tr>\n",
       "  </thead>\n",
       "  <tbody>\n",
       "    <tr>\n",
       "      <th>2013-01-01</th>\n",
       "      <td>0.822066</td>\n",
       "      <td>0.145510</td>\n",
       "      <td>0.316715</td>\n",
       "      <td>-1.286961</td>\n",
       "      <td>one</td>\n",
       "    </tr>\n",
       "    <tr>\n",
       "      <th>2013-01-02</th>\n",
       "      <td>-0.928773</td>\n",
       "      <td>-0.299273</td>\n",
       "      <td>-1.055631</td>\n",
       "      <td>0.251197</td>\n",
       "      <td>one</td>\n",
       "    </tr>\n",
       "    <tr>\n",
       "      <th>2013-01-03</th>\n",
       "      <td>-0.070649</td>\n",
       "      <td>1.346340</td>\n",
       "      <td>-0.922670</td>\n",
       "      <td>-0.030426</td>\n",
       "      <td>two</td>\n",
       "    </tr>\n",
       "    <tr>\n",
       "      <th>2013-01-04</th>\n",
       "      <td>-2.174394</td>\n",
       "      <td>-1.449455</td>\n",
       "      <td>-0.383416</td>\n",
       "      <td>0.196338</td>\n",
       "      <td>three</td>\n",
       "    </tr>\n",
       "    <tr>\n",
       "      <th>2013-01-05</th>\n",
       "      <td>1.608317</td>\n",
       "      <td>0.496390</td>\n",
       "      <td>-0.079569</td>\n",
       "      <td>0.722444</td>\n",
       "      <td>four</td>\n",
       "    </tr>\n",
       "    <tr>\n",
       "      <th>2013-01-06</th>\n",
       "      <td>0.031484</td>\n",
       "      <td>-0.659165</td>\n",
       "      <td>0.373514</td>\n",
       "      <td>0.462375</td>\n",
       "      <td>three</td>\n",
       "    </tr>\n",
       "  </tbody>\n",
       "</table>\n",
       "</div>"
      ],
      "text/plain": [
       "                   A         B         C         D      E\n",
       "2013-01-01  0.822066  0.145510  0.316715 -1.286961    one\n",
       "2013-01-02 -0.928773 -0.299273 -1.055631  0.251197    one\n",
       "2013-01-03 -0.070649  1.346340 -0.922670 -0.030426    two\n",
       "2013-01-04 -2.174394 -1.449455 -0.383416  0.196338  three\n",
       "2013-01-05  1.608317  0.496390 -0.079569  0.722444   four\n",
       "2013-01-06  0.031484 -0.659165  0.373514  0.462375  three"
      ]
     },
     "execution_count": 12,
     "metadata": {},
     "output_type": "execute_result"
    }
   ],
   "source": [
    "# add new column\n",
    "df4 = df.copy()\n",
    "df4['E'] = ['one', 'one','two','three','four','three']\n",
    "df4"
   ]
  },
  {
   "cell_type": "code",
   "execution_count": 99,
   "metadata": {
    "collapsed": false
   },
   "outputs": [
    {
     "data": {
      "text/html": [
       "<div>\n",
       "<table border=\"1\" class=\"dataframe\">\n",
       "  <thead>\n",
       "    <tr style=\"text-align: right;\">\n",
       "      <th></th>\n",
       "      <th>A</th>\n",
       "      <th>B</th>\n",
       "      <th>C</th>\n",
       "      <th>D</th>\n",
       "      <th>E</th>\n",
       "    </tr>\n",
       "  </thead>\n",
       "  <tbody>\n",
       "    <tr>\n",
       "      <th>2013-01-03</th>\n",
       "      <td>-0.168175</td>\n",
       "      <td>-1.199549</td>\n",
       "      <td>0.765801</td>\n",
       "      <td>-0.927639</td>\n",
       "      <td>two</td>\n",
       "    </tr>\n",
       "    <tr>\n",
       "      <th>2013-01-05</th>\n",
       "      <td>1.923151</td>\n",
       "      <td>1.523149</td>\n",
       "      <td>0.858808</td>\n",
       "      <td>0.090881</td>\n",
       "      <td>four</td>\n",
       "    </tr>\n",
       "  </tbody>\n",
       "</table>\n",
       "</div>"
      ],
      "text/plain": [
       "                   A         B         C         D     E\n",
       "2013-01-03 -0.168175 -1.199549  0.765801 -0.927639   two\n",
       "2013-01-05  1.923151  1.523149  0.858808  0.090881  four"
      ]
     },
     "execution_count": 99,
     "metadata": {},
     "output_type": "execute_result"
    }
   ],
   "source": [
    "# select specific rows \n",
    "df4[df4['E'].isin(['two','four'])]"
   ]
  },
  {
   "cell_type": "markdown",
   "metadata": {},
   "source": [
    "#### Functions can be applied to content"
   ]
  },
  {
   "cell_type": "code",
   "execution_count": 101,
   "metadata": {
    "collapsed": false
   },
   "outputs": [
    {
     "data": {
      "text/html": [
       "<div>\n",
       "<table border=\"1\" class=\"dataframe\">\n",
       "  <thead>\n",
       "    <tr style=\"text-align: right;\">\n",
       "      <th></th>\n",
       "      <th>A</th>\n",
       "      <th>B</th>\n",
       "      <th>C</th>\n",
       "      <th>D</th>\n",
       "    </tr>\n",
       "  </thead>\n",
       "  <tbody>\n",
       "    <tr>\n",
       "      <th>2013-01-01</th>\n",
       "      <td>-0.283162</td>\n",
       "      <td>0.802113</td>\n",
       "      <td>1.368224</td>\n",
       "      <td>2.093894</td>\n",
       "    </tr>\n",
       "    <tr>\n",
       "      <th>2013-01-02</th>\n",
       "      <td>-0.293181</td>\n",
       "      <td>-0.001986</td>\n",
       "      <td>-1.969019</td>\n",
       "      <td>2.045868</td>\n",
       "    </tr>\n",
       "    <tr>\n",
       "      <th>2013-01-03</th>\n",
       "      <td>-0.168175</td>\n",
       "      <td>-1.199549</td>\n",
       "      <td>0.765801</td>\n",
       "      <td>-0.927639</td>\n",
       "    </tr>\n",
       "    <tr>\n",
       "      <th>2013-01-04</th>\n",
       "      <td>0.212738</td>\n",
       "      <td>0.635739</td>\n",
       "      <td>0.198867</td>\n",
       "      <td>-1.366262</td>\n",
       "    </tr>\n",
       "    <tr>\n",
       "      <th>2013-01-05</th>\n",
       "      <td>1.923151</td>\n",
       "      <td>1.523149</td>\n",
       "      <td>0.858808</td>\n",
       "      <td>0.090881</td>\n",
       "    </tr>\n",
       "    <tr>\n",
       "      <th>2013-01-06</th>\n",
       "      <td>0.432166</td>\n",
       "      <td>0.374024</td>\n",
       "      <td>1.289608</td>\n",
       "      <td>-0.368687</td>\n",
       "    </tr>\n",
       "  </tbody>\n",
       "</table>\n",
       "</div>"
      ],
      "text/plain": [
       "                   A         B         C         D\n",
       "2013-01-01 -0.283162  0.802113  1.368224  2.093894\n",
       "2013-01-02 -0.293181 -0.001986 -1.969019  2.045868\n",
       "2013-01-03 -0.168175 -1.199549  0.765801 -0.927639\n",
       "2013-01-04  0.212738  0.635739  0.198867 -1.366262\n",
       "2013-01-05  1.923151  1.523149  0.858808  0.090881\n",
       "2013-01-06  0.432166  0.374024  1.289608 -0.368687"
      ]
     },
     "execution_count": 101,
     "metadata": {},
     "output_type": "execute_result"
    }
   ],
   "source": [
    "df"
   ]
  },
  {
   "cell_type": "code",
   "execution_count": 102,
   "metadata": {
    "collapsed": false
   },
   "outputs": [
    {
     "data": {
      "text/html": [
       "<div>\n",
       "<table border=\"1\" class=\"dataframe\">\n",
       "  <thead>\n",
       "    <tr style=\"text-align: right;\">\n",
       "      <th></th>\n",
       "      <th>A</th>\n",
       "      <th>B</th>\n",
       "      <th>C</th>\n",
       "      <th>D</th>\n",
       "    </tr>\n",
       "  </thead>\n",
       "  <tbody>\n",
       "    <tr>\n",
       "      <th>2013-01-01</th>\n",
       "      <td>-0.283162</td>\n",
       "      <td>0.802113</td>\n",
       "      <td>1.368224</td>\n",
       "      <td>2.093894</td>\n",
       "    </tr>\n",
       "    <tr>\n",
       "      <th>2013-01-02</th>\n",
       "      <td>-0.576343</td>\n",
       "      <td>0.800126</td>\n",
       "      <td>-0.600795</td>\n",
       "      <td>4.139762</td>\n",
       "    </tr>\n",
       "    <tr>\n",
       "      <th>2013-01-03</th>\n",
       "      <td>-0.744518</td>\n",
       "      <td>-0.399423</td>\n",
       "      <td>0.165006</td>\n",
       "      <td>3.212123</td>\n",
       "    </tr>\n",
       "    <tr>\n",
       "      <th>2013-01-04</th>\n",
       "      <td>-0.531780</td>\n",
       "      <td>0.236316</td>\n",
       "      <td>0.363874</td>\n",
       "      <td>1.845861</td>\n",
       "    </tr>\n",
       "    <tr>\n",
       "      <th>2013-01-05</th>\n",
       "      <td>1.391371</td>\n",
       "      <td>1.759465</td>\n",
       "      <td>1.222682</td>\n",
       "      <td>1.936742</td>\n",
       "    </tr>\n",
       "    <tr>\n",
       "      <th>2013-01-06</th>\n",
       "      <td>1.823537</td>\n",
       "      <td>2.133488</td>\n",
       "      <td>2.512290</td>\n",
       "      <td>1.568056</td>\n",
       "    </tr>\n",
       "  </tbody>\n",
       "</table>\n",
       "</div>"
      ],
      "text/plain": [
       "                   A         B         C         D\n",
       "2013-01-01 -0.283162  0.802113  1.368224  2.093894\n",
       "2013-01-02 -0.576343  0.800126 -0.600795  4.139762\n",
       "2013-01-03 -0.744518 -0.399423  0.165006  3.212123\n",
       "2013-01-04 -0.531780  0.236316  0.363874  1.845861\n",
       "2013-01-05  1.391371  1.759465  1.222682  1.936742\n",
       "2013-01-06  1.823537  2.133488  2.512290  1.568056"
      ]
     },
     "execution_count": 102,
     "metadata": {},
     "output_type": "execute_result"
    }
   ],
   "source": [
    "df.apply(np.cumsum) # cumulative sum in each row"
   ]
  },
  {
   "cell_type": "code",
   "execution_count": 103,
   "metadata": {
    "collapsed": false
   },
   "outputs": [
    {
     "data": {
      "text/html": [
       "<div>\n",
       "<table border=\"1\" class=\"dataframe\">\n",
       "  <thead>\n",
       "    <tr style=\"text-align: right;\">\n",
       "      <th></th>\n",
       "      <th>A</th>\n",
       "      <th>B</th>\n",
       "      <th>C</th>\n",
       "      <th>D</th>\n",
       "    </tr>\n",
       "  </thead>\n",
       "  <tbody>\n",
       "    <tr>\n",
       "      <th>2013-01-01</th>\n",
       "      <td>0.753397</td>\n",
       "      <td>2.230247</td>\n",
       "      <td>3.928368</td>\n",
       "      <td>8.116459</td>\n",
       "    </tr>\n",
       "    <tr>\n",
       "      <th>2013-01-02</th>\n",
       "      <td>0.745887</td>\n",
       "      <td>0.998016</td>\n",
       "      <td>0.139594</td>\n",
       "      <td>7.735872</td>\n",
       "    </tr>\n",
       "    <tr>\n",
       "      <th>2013-01-03</th>\n",
       "      <td>0.845206</td>\n",
       "      <td>0.301330</td>\n",
       "      <td>2.150717</td>\n",
       "      <td>0.395486</td>\n",
       "    </tr>\n",
       "    <tr>\n",
       "      <th>2013-01-04</th>\n",
       "      <td>1.237061</td>\n",
       "      <td>1.888417</td>\n",
       "      <td>1.220020</td>\n",
       "      <td>0.255059</td>\n",
       "    </tr>\n",
       "    <tr>\n",
       "      <th>2013-01-05</th>\n",
       "      <td>6.842486</td>\n",
       "      <td>4.586645</td>\n",
       "      <td>2.360346</td>\n",
       "      <td>1.095139</td>\n",
       "    </tr>\n",
       "    <tr>\n",
       "      <th>2013-01-06</th>\n",
       "      <td>1.540591</td>\n",
       "      <td>1.453572</td>\n",
       "      <td>3.631364</td>\n",
       "      <td>0.691642</td>\n",
       "    </tr>\n",
       "  </tbody>\n",
       "</table>\n",
       "</div>"
      ],
      "text/plain": [
       "                   A         B         C         D\n",
       "2013-01-01  0.753397  2.230247  3.928368  8.116459\n",
       "2013-01-02  0.745887  0.998016  0.139594  7.735872\n",
       "2013-01-03  0.845206  0.301330  2.150717  0.395486\n",
       "2013-01-04  1.237061  1.888417  1.220020  0.255059\n",
       "2013-01-05  6.842486  4.586645  2.360346  1.095139\n",
       "2013-01-06  1.540591  1.453572  3.631364  0.691642"
      ]
     },
     "execution_count": 103,
     "metadata": {},
     "output_type": "execute_result"
    }
   ],
   "source": [
    "df.apply(np.exp) # exponential"
   ]
  },
  {
   "cell_type": "code",
   "execution_count": 104,
   "metadata": {
    "collapsed": false
   },
   "outputs": [
    {
     "data": {
      "text/plain": [
       "A    0.303923\n",
       "B    0.355581\n",
       "C    0.418715\n",
       "D    0.261343\n",
       "dtype: float64"
      ]
     },
     "execution_count": 104,
     "metadata": {},
     "output_type": "execute_result"
    }
   ],
   "source": [
    "df.mean()"
   ]
  },
  {
   "cell_type": "code",
   "execution_count": 105,
   "metadata": {
    "collapsed": false
   },
   "outputs": [
    {
     "data": {
      "text/plain": [
       "A    1.823537\n",
       "B    2.133488\n",
       "C    2.512290\n",
       "D    1.568056\n",
       "dtype: float64"
      ]
     },
     "execution_count": 105,
     "metadata": {},
     "output_type": "execute_result"
    }
   ],
   "source": [
    "df.sum()"
   ]
  },
  {
   "cell_type": "markdown",
   "metadata": {},
   "source": [
    ".... and much more stuff"
   ]
  },
  {
   "cell_type": "markdown",
   "metadata": {},
   "source": [
    "### First practical example: Old faithful data \n",
    "*(Eruptions of Geysir in Yellowstone National Park)*\n",
    "\n",
    "Redo it with Pandas ..."
   ]
  },
  {
   "cell_type": "code",
   "execution_count": 24,
   "metadata": {
    "collapsed": false
   },
   "outputs": [],
   "source": [
    "# analyse old faithful data with pandas\n",
    "import pandas as pd\n",
    "import matplotlib.pyplot as plt\n",
    "# can read data directly from web\n",
    "# interpret as csv format \n",
    "# and import as Pandas dataframe \n",
    "d=pd.read_csv('https://people.sc.fsu.edu/~jburkardt/data/csv/faithful.csv')\n"
   ]
  },
  {
   "cell_type": "code",
   "execution_count": 25,
   "metadata": {
    "collapsed": false
   },
   "outputs": [
    {
     "name": "stdout",
     "output_type": "stream",
     "text": [
      "<class 'pandas.core.frame.DataFrame'>\n",
      "RangeIndex: 272 entries, 0 to 271\n",
      "Data columns (total 3 columns):\n",
      "Index                        272 non-null int64\n",
      " \"Eruption length (mins)\"    272 non-null float64\n",
      "Eruption wait (mins)         272 non-null int64\n",
      "dtypes: float64(1), int64(2)\n",
      "memory usage: 6.5 KB\n"
     ]
    }
   ],
   "source": [
    "d.info() # extract general info on dataframe"
   ]
  },
  {
   "cell_type": "code",
   "execution_count": 26,
   "metadata": {
    "collapsed": false
   },
   "outputs": [
    {
     "data": {
      "text/html": [
       "<div>\n",
       "<table border=\"1\" class=\"dataframe\">\n",
       "  <thead>\n",
       "    <tr style=\"text-align: right;\">\n",
       "      <th></th>\n",
       "      <th>Index</th>\n",
       "      <th>\"Eruption length (mins)\"</th>\n",
       "      <th>Eruption wait (mins)</th>\n",
       "    </tr>\n",
       "  </thead>\n",
       "  <tbody>\n",
       "    <tr>\n",
       "      <th>0</th>\n",
       "      <td>1</td>\n",
       "      <td>3.600</td>\n",
       "      <td>79</td>\n",
       "    </tr>\n",
       "    <tr>\n",
       "      <th>1</th>\n",
       "      <td>2</td>\n",
       "      <td>1.800</td>\n",
       "      <td>54</td>\n",
       "    </tr>\n",
       "    <tr>\n",
       "      <th>2</th>\n",
       "      <td>3</td>\n",
       "      <td>3.333</td>\n",
       "      <td>74</td>\n",
       "    </tr>\n",
       "    <tr>\n",
       "      <th>3</th>\n",
       "      <td>4</td>\n",
       "      <td>2.283</td>\n",
       "      <td>62</td>\n",
       "    </tr>\n",
       "    <tr>\n",
       "      <th>4</th>\n",
       "      <td>5</td>\n",
       "      <td>4.533</td>\n",
       "      <td>85</td>\n",
       "    </tr>\n",
       "  </tbody>\n",
       "</table>\n",
       "</div>"
      ],
      "text/plain": [
       "   Index   \"Eruption length (mins)\"  Eruption wait (mins)\n",
       "0      1                      3.600                    79\n",
       "1      2                      1.800                    54\n",
       "2      3                      3.333                    74\n",
       "3      4                      2.283                    62\n",
       "4      5                      4.533                    85"
      ]
     },
     "execution_count": 26,
     "metadata": {},
     "output_type": "execute_result"
    }
   ],
   "source": [
    "d.head() # inspect first lines"
   ]
  },
  {
   "cell_type": "code",
   "execution_count": 27,
   "metadata": {
    "collapsed": false
   },
   "outputs": [
    {
     "data": {
      "text/html": [
       "<div>\n",
       "<table border=\"1\" class=\"dataframe\">\n",
       "  <thead>\n",
       "    <tr style=\"text-align: right;\">\n",
       "      <th></th>\n",
       "      <th>Index</th>\n",
       "      <th>\"Eruption length (mins)\"</th>\n",
       "      <th>Eruption wait (mins)</th>\n",
       "    </tr>\n",
       "  </thead>\n",
       "  <tbody>\n",
       "    <tr>\n",
       "      <th>count</th>\n",
       "      <td>272.000000</td>\n",
       "      <td>272.000000</td>\n",
       "      <td>272.000000</td>\n",
       "    </tr>\n",
       "    <tr>\n",
       "      <th>mean</th>\n",
       "      <td>136.500000</td>\n",
       "      <td>3.487783</td>\n",
       "      <td>70.897059</td>\n",
       "    </tr>\n",
       "    <tr>\n",
       "      <th>std</th>\n",
       "      <td>78.663842</td>\n",
       "      <td>1.141371</td>\n",
       "      <td>13.594974</td>\n",
       "    </tr>\n",
       "    <tr>\n",
       "      <th>min</th>\n",
       "      <td>1.000000</td>\n",
       "      <td>1.600000</td>\n",
       "      <td>43.000000</td>\n",
       "    </tr>\n",
       "    <tr>\n",
       "      <th>25%</th>\n",
       "      <td>68.750000</td>\n",
       "      <td>2.162750</td>\n",
       "      <td>58.000000</td>\n",
       "    </tr>\n",
       "    <tr>\n",
       "      <th>50%</th>\n",
       "      <td>136.500000</td>\n",
       "      <td>4.000000</td>\n",
       "      <td>76.000000</td>\n",
       "    </tr>\n",
       "    <tr>\n",
       "      <th>75%</th>\n",
       "      <td>204.250000</td>\n",
       "      <td>4.454250</td>\n",
       "      <td>82.000000</td>\n",
       "    </tr>\n",
       "    <tr>\n",
       "      <th>max</th>\n",
       "      <td>272.000000</td>\n",
       "      <td>5.100000</td>\n",
       "      <td>96.000000</td>\n",
       "    </tr>\n",
       "  </tbody>\n",
       "</table>\n",
       "</div>"
      ],
      "text/plain": [
       "            Index   \"Eruption length (mins)\"  Eruption wait (mins)\n",
       "count  272.000000                 272.000000            272.000000\n",
       "mean   136.500000                   3.487783             70.897059\n",
       "std     78.663842                   1.141371             13.594974\n",
       "min      1.000000                   1.600000             43.000000\n",
       "25%     68.750000                   2.162750             58.000000\n",
       "50%    136.500000                   4.000000             76.000000\n",
       "75%    204.250000                   4.454250             82.000000\n",
       "max    272.000000                   5.100000             96.000000"
      ]
     },
     "execution_count": 27,
     "metadata": {},
     "output_type": "execute_result"
    }
   ],
   "source": [
    "d.describe() # some basic statistic for each column"
   ]
  },
  {
   "cell_type": "code",
   "execution_count": 16,
   "metadata": {
    "collapsed": false
   },
   "outputs": [
    {
     "data": {
      "text/plain": [
       "Index(['Index', ' \"Eruption length (mins)\"', 'Eruption wait (mins)'], dtype='object')"
      ]
     },
     "execution_count": 16,
     "metadata": {},
     "output_type": "execute_result"
    }
   ],
   "source": [
    "d.columns"
   ]
  },
  {
   "cell_type": "code",
   "execution_count": 17,
   "metadata": {
    "collapsed": false
   },
   "outputs": [
    {
     "data": {
      "text/html": [
       "<div>\n",
       "<table border=\"1\" class=\"dataframe\">\n",
       "  <thead>\n",
       "    <tr style=\"text-align: right;\">\n",
       "      <th></th>\n",
       "      <th>Index</th>\n",
       "      <th>El</th>\n",
       "      <th>Ew</th>\n",
       "    </tr>\n",
       "  </thead>\n",
       "  <tbody>\n",
       "    <tr>\n",
       "      <th>0</th>\n",
       "      <td>1</td>\n",
       "      <td>3.600</td>\n",
       "      <td>79</td>\n",
       "    </tr>\n",
       "    <tr>\n",
       "      <th>1</th>\n",
       "      <td>2</td>\n",
       "      <td>1.800</td>\n",
       "      <td>54</td>\n",
       "    </tr>\n",
       "    <tr>\n",
       "      <th>2</th>\n",
       "      <td>3</td>\n",
       "      <td>3.333</td>\n",
       "      <td>74</td>\n",
       "    </tr>\n",
       "    <tr>\n",
       "      <th>3</th>\n",
       "      <td>4</td>\n",
       "      <td>2.283</td>\n",
       "      <td>62</td>\n",
       "    </tr>\n",
       "    <tr>\n",
       "      <th>4</th>\n",
       "      <td>5</td>\n",
       "      <td>4.533</td>\n",
       "      <td>85</td>\n",
       "    </tr>\n",
       "  </tbody>\n",
       "</table>\n",
       "</div>"
      ],
      "text/plain": [
       "   Index     El  Ew\n",
       "0      1  3.600  79\n",
       "1      2  1.800  54\n",
       "2      3  3.333  74\n",
       "3      4  2.283  62\n",
       "4      5  4.533  85"
      ]
     },
     "execution_count": 17,
     "metadata": {},
     "output_type": "execute_result"
    }
   ],
   "source": [
    "# lengthy column names are unpractical, re-name\n",
    "d.columns=['Index','El','Ew']\n",
    "d.head()"
   ]
  },
  {
   "cell_type": "code",
   "execution_count": null,
   "metadata": {
    "collapsed": false
   },
   "outputs": [],
   "source": [
    "print (d.Ew) # print all rows for Ew"
   ]
  },
  {
   "cell_type": "code",
   "execution_count": 125,
   "metadata": {
    "collapsed": false
   },
   "outputs": [
    {
     "data": {
      "image/png": "[encoded data removed]",
      "text/plain": [
       "<matplotlib.figure.Figure at 0x7fbc37c19fd0>"
      ]
     },
     "metadata": {},
     "output_type": "display_data"
    },
    {
     "data": {
      "image/png": "[encoded data removed]",
      "text/plain": [
       "<matplotlib.figure.Figure at 0x7fbc37c19da0>"
      ]
     },
     "metadata": {},
     "output_type": "display_data"
    },
    {
     "data": {
      "image/png": "[encoded data removed]",
      "text/plain": [
       "<matplotlib.figure.Figure at 0x7fbc37d9dcc0>"
      ]
     },
     "metadata": {},
     "output_type": "display_data"
    }
   ],
   "source": [
    "# make plots directly with Pandas\n",
    "d.El.plot.hist() # can call directly histogram for Pandas column\n",
    "plt.xlabel('El')\n",
    "fig=plt.figure() # trick to make new hist plot\n",
    "d.Ew.plot.hist()\n",
    "plt.xlabel('Ew')\n",
    "d.plot.scatter('Ew','El'); # and also scatter plot"
   ]
  },
  {
   "cell_type": "markdown",
   "metadata": {},
   "source": [
    "### Handling missing data or null-values in Pandas\n",
    "\n",
    "#### Python None object\n",
    "Python has special object `None` which is often used to specify empty or unassigned value to a variable\n",
    "\n",
    "This can also be used or happen with Numpy/Pandas "
   ]
  },
  {
   "cell_type": "code",
   "execution_count": 126,
   "metadata": {
    "collapsed": false
   },
   "outputs": [
    {
     "data": {
      "text/plain": [
       "array([1, None, 3, 4], dtype=object)"
      ]
     },
     "execution_count": 126,
     "metadata": {},
     "output_type": "execute_result"
    }
   ],
   "source": [
    "# \n",
    "vals1 = np.array([1, None, 3, 4])\n",
    "vals1"
   ]
  },
  {
   "cell_type": "code",
   "execution_count": 127,
   "metadata": {
    "collapsed": false
   },
   "outputs": [
    {
     "ename": "TypeError",
     "evalue": "unsupported operand type(s) for *: 'NoneType' and 'NoneType'",
     "output_type": "error",
     "traceback": [
      "\u001b[0;31m---------------------------------------------------------------------------\u001b[0m",
      "\u001b[0;31mTypeError\u001b[0m                                 Traceback (most recent call last)",
      "\u001b[0;32m<ipython-input-127-7341de4b3bae>\u001b[0m in \u001b[0;36m<module>\u001b[0;34m()\u001b[0m\n\u001b[1;32m      1\u001b[0m \u001b[0;31m# results in object-array which is not\u001b[0m\u001b[0;34m\u001b[0m\u001b[0;34m\u001b[0m\u001b[0m\n\u001b[0;32m----> 2\u001b[0;31m \u001b[0mvals1\u001b[0m\u001b[0;34m**\u001b[0m\u001b[0;36m2\u001b[0m\u001b[0;34m\u001b[0m\u001b[0m\n\u001b[0m",
      "\u001b[0;31mTypeError\u001b[0m: unsupported operand type(s) for *: 'NoneType' and 'NoneType'"
     ]
    }
   ],
   "source": [
    "# results in object-array with very limited use,\n",
    "# many numpy funcs/operations broken\n",
    "vals1**2"
   ]
  },
  {
   "cell_type": "markdown",
   "metadata": {},
   "source": [
    "#### Python NaN\n",
    "NaN (Not-a-number) is special floating point value which indicates that value cannot be treated as regular number, generally used in programming as specified in IEEE floating-point standard.\n",
    "\n",
    "Also defined for numpy (`np.nan`)\n"
   ]
  },
  {
   "cell_type": "code",
   "execution_count": 19,
   "metadata": {
    "collapsed": false
   },
   "outputs": [
    {
     "data": {
      "text/plain": [
       "dtype('float64')"
      ]
     },
     "execution_count": 19,
     "metadata": {},
     "output_type": "execute_result"
    }
   ],
   "source": [
    "vals2 = np.array([1, np.nan, 3, 4]) \n",
    "vals2.dtype"
   ]
  },
  {
   "cell_type": "code",
   "execution_count": 20,
   "metadata": {
    "collapsed": false
   },
   "outputs": [
    {
     "data": {
      "text/plain": [
       "array([  1.,  nan,   9.,  16.])"
      ]
     },
     "execution_count": 20,
     "metadata": {},
     "output_type": "execute_result"
    }
   ],
   "source": [
    "# results in float array which can be used\n",
    "# just no operation with the nan element  \n",
    "vals2**2"
   ]
  },
  {
   "cell_type": "code",
   "execution_count": null,
   "metadata": {
    "collapsed": true
   },
   "outputs": [],
   "source": []
  },
  {
   "cell_type": "markdown",
   "metadata": {},
   "source": [
    "####  NaN and None in Pandas\n",
    "\n",
    "Pandas does not make that strict distinction but treats ``NaN`` and ``None`` basically the same:"
   ]
  },
  {
   "cell_type": "code",
   "execution_count": 137,
   "metadata": {
    "collapsed": false
   },
   "outputs": [
    {
     "data": {
      "text/plain": [
       "0    1.0\n",
       "1    NaN\n",
       "2    2.0\n",
       "3    NaN\n",
       "dtype: float64"
      ]
     },
     "execution_count": 137,
     "metadata": {},
     "output_type": "execute_result"
    }
   ],
   "source": [
    "# pandas converts to nan and float array\n",
    "pd.Series([1, np.nan, 2, None])"
   ]
  },
  {
   "cell_type": "markdown",
   "metadata": {},
   "source": [
    "Pandas has special functions to efficienlty handle None/NaN valuse:\n",
    "\n",
    "- ``isnull()``: Generate a boolean mask indicating missing values\n",
    "- ``notnull()``: Opposite of ``isnull()``\n",
    "- ``dropna()``: Return a filtered version of the data\n",
    "- ``fillna()``: Return a copy of the data with missing values filled or imputed"
   ]
  },
  {
   "cell_type": "code",
   "execution_count": 142,
   "metadata": {
    "collapsed": false
   },
   "outputs": [
    {
     "name": "stdout",
     "output_type": "stream",
     "text": [
      "0        1\n",
      "1      NaN\n",
      "2    hello\n",
      "3     None\n",
      "dtype: object\n"
     ]
    }
   ],
   "source": [
    "data = pd.Series([1, np.nan, 'hello', None])\n",
    "print (data)"
   ]
  },
  {
   "cell_type": "code",
   "execution_count": 146,
   "metadata": {
    "collapsed": false
   },
   "outputs": [
    {
     "name": "stdout",
     "output_type": "stream",
     "text": [
      "0    False\n",
      "1     True\n",
      "2    False\n",
      "3     True\n",
      "dtype: bool\n"
     ]
    }
   ],
   "source": [
    "print (data.isnull()) # boolean output"
   ]
  },
  {
   "cell_type": "code",
   "execution_count": 145,
   "metadata": {
    "collapsed": false
   },
   "outputs": [
    {
     "name": "stdout",
     "output_type": "stream",
     "text": [
      "0        1\n",
      "2    hello\n",
      "dtype: object\n"
     ]
    }
   ],
   "source": [
    "print (data[data.notnull()]) # select only non-missing values"
   ]
  },
  {
   "cell_type": "code",
   "execution_count": 147,
   "metadata": {
    "collapsed": false
   },
   "outputs": [
    {
     "name": "stdout",
     "output_type": "stream",
     "text": [
      "0        1\n",
      "2    hello\n",
      "dtype: object\n"
     ]
    }
   ],
   "source": [
    "print (data.dropna()) # does the same"
   ]
  },
  {
   "cell_type": "code",
   "execution_count": 150,
   "metadata": {
    "collapsed": false
   },
   "outputs": [
    {
     "name": "stdout",
     "output_type": "stream",
     "text": [
      "0               1\n",
      "1    Fehlt leider\n",
      "2           hello\n",
      "3    Fehlt leider\n",
      "dtype: object\n"
     ]
    }
   ],
   "source": [
    "print (data.fillna('Fehlt leider')) # fill something instead"
   ]
  },
  {
   "cell_type": "markdown",
   "metadata": {},
   "source": [
    "In case of **Dataframes** more options for dropping (2 axes) and filling, see chapter *Handling Missing Data* in Book "
   ]
  },
  {
   "cell_type": "code",
   "execution_count": 21,
   "metadata": {
    "collapsed": false
   },
   "outputs": [
    {
     "name": "stdout",
     "output_type": "stream",
     "text": [
      "<class 'pandas.core.frame.DataFrame'>\n",
      "RangeIndex: 1035 entries, 0 to 1034\n",
      "Data columns (total 6 columns):\n",
      "method            1035 non-null object\n",
      "number            1035 non-null int64\n",
      "orbital_period    992 non-null float64\n",
      "mass              513 non-null float64\n",
      "distance          808 non-null float64\n",
      "year              1035 non-null int64\n",
      "dtypes: float64(3), int64(2), object(1)\n",
      "memory usage: 48.6+ KB\n"
     ]
    }
   ],
   "source": [
    "import seaborn as sns\n",
    "planets = sns.load_dataset('planets')\n",
    "planets.info()"
   ]
  },
  {
   "cell_type": "markdown",
   "metadata": {
    "collapsed": true
   },
   "source": [
    "### Aggregations in Panda"
   ]
  },
  {
   "cell_type": "code",
   "execution_count": 30,
   "metadata": {
    "collapsed": false
   },
   "outputs": [
    {
     "data": {
      "text/html": [
       "<div>\n",
       "<table border=\"1\" class=\"dataframe\">\n",
       "  <thead>\n",
       "    <tr style=\"text-align: right;\">\n",
       "      <th></th>\n",
       "      <th>A</th>\n",
       "      <th>B</th>\n",
       "      <th>C</th>\n",
       "    </tr>\n",
       "  </thead>\n",
       "  <tbody>\n",
       "    <tr>\n",
       "      <th>0</th>\n",
       "      <td>-1.060764</td>\n",
       "      <td>1.549060</td>\n",
       "      <td>0.530495</td>\n",
       "    </tr>\n",
       "    <tr>\n",
       "      <th>1</th>\n",
       "      <td>-1.144661</td>\n",
       "      <td>-1.531710</td>\n",
       "      <td>1.098750</td>\n",
       "    </tr>\n",
       "    <tr>\n",
       "      <th>2</th>\n",
       "      <td>-1.244256</td>\n",
       "      <td>-0.615940</td>\n",
       "      <td>2.142176</td>\n",
       "    </tr>\n",
       "    <tr>\n",
       "      <th>3</th>\n",
       "      <td>0.235430</td>\n",
       "      <td>0.421107</td>\n",
       "      <td>-0.676850</td>\n",
       "    </tr>\n",
       "    <tr>\n",
       "      <th>4</th>\n",
       "      <td>-0.301719</td>\n",
       "      <td>-0.322599</td>\n",
       "      <td>-0.777240</td>\n",
       "    </tr>\n",
       "  </tbody>\n",
       "</table>\n",
       "</div>"
      ],
      "text/plain": [
       "          A         B         C\n",
       "0 -1.060764  1.549060  0.530495\n",
       "1 -1.144661 -1.531710  1.098750\n",
       "2 -1.244256 -0.615940  2.142176\n",
       "3  0.235430  0.421107 -0.676850\n",
       "4 -0.301719 -0.322599 -0.777240"
      ]
     },
     "execution_count": 30,
     "metadata": {},
     "output_type": "execute_result"
    }
   ],
   "source": [
    "# simple df with gaussian random nums\n",
    "df = pd.DataFrame({'A': np.random.randn(5),\n",
    "                   'B': np.random.randn(5), 'C': np.random.randn(5)})\n",
    "df"
   ]
  },
  {
   "cell_type": "code",
   "execution_count": 31,
   "metadata": {
    "collapsed": false
   },
   "outputs": [
    {
     "data": {
      "text/html": [
       "<div>\n",
       "<table border=\"1\" class=\"dataframe\">\n",
       "  <thead>\n",
       "    <tr style=\"text-align: right;\">\n",
       "      <th></th>\n",
       "      <th>A</th>\n",
       "      <th>B</th>\n",
       "      <th>C</th>\n",
       "    </tr>\n",
       "  </thead>\n",
       "  <tbody>\n",
       "    <tr>\n",
       "      <th>count</th>\n",
       "      <td>5.000000</td>\n",
       "      <td>5.000000</td>\n",
       "      <td>5.000000</td>\n",
       "    </tr>\n",
       "    <tr>\n",
       "      <th>mean</th>\n",
       "      <td>-0.703194</td>\n",
       "      <td>-0.100017</td>\n",
       "      <td>0.463466</td>\n",
       "    </tr>\n",
       "    <tr>\n",
       "      <th>std</th>\n",
       "      <td>0.643758</td>\n",
       "      <td>1.157205</td>\n",
       "      <td>1.231444</td>\n",
       "    </tr>\n",
       "    <tr>\n",
       "      <th>min</th>\n",
       "      <td>-1.244256</td>\n",
       "      <td>-1.531710</td>\n",
       "      <td>-0.777240</td>\n",
       "    </tr>\n",
       "    <tr>\n",
       "      <th>25%</th>\n",
       "      <td>-1.144661</td>\n",
       "      <td>-0.615940</td>\n",
       "      <td>-0.676850</td>\n",
       "    </tr>\n",
       "    <tr>\n",
       "      <th>50%</th>\n",
       "      <td>-1.060764</td>\n",
       "      <td>-0.322599</td>\n",
       "      <td>0.530495</td>\n",
       "    </tr>\n",
       "    <tr>\n",
       "      <th>75%</th>\n",
       "      <td>-0.301719</td>\n",
       "      <td>0.421107</td>\n",
       "      <td>1.098750</td>\n",
       "    </tr>\n",
       "    <tr>\n",
       "      <th>max</th>\n",
       "      <td>0.235430</td>\n",
       "      <td>1.549060</td>\n",
       "      <td>2.142176</td>\n",
       "    </tr>\n",
       "  </tbody>\n",
       "</table>\n",
       "</div>"
      ],
      "text/plain": [
       "              A         B         C\n",
       "count  5.000000  5.000000  5.000000\n",
       "mean  -0.703194 -0.100017  0.463466\n",
       "std    0.643758  1.157205  1.231444\n",
       "min   -1.244256 -1.531710 -0.777240\n",
       "25%   -1.144661 -0.615940 -0.676850\n",
       "50%   -1.060764 -0.322599  0.530495\n",
       "75%   -0.301719  0.421107  1.098750\n",
       "max    0.235430  1.549060  2.142176"
      ]
     },
     "execution_count": 31,
     "metadata": {},
     "output_type": "execute_result"
    }
   ],
   "source": [
    "df.describe() # gives column-wise statistics"
   ]
  },
  {
   "cell_type": "markdown",
   "metadata": {},
   "source": [
    "These **aggregations** can also be called explicitly:"
   ]
  },
  {
   "cell_type": "code",
   "execution_count": 33,
   "metadata": {
    "collapsed": false
   },
   "outputs": [
    {
     "name": "stdout",
     "output_type": "stream",
     "text": [
      "-0.703194011617516 0.643757626737512 1.5490598932\n"
     ]
    }
   ],
   "source": [
    "print (df.A.mean(), df.A.std(), df.B.max())"
   ]
  },
  {
   "cell_type": "markdown",
   "metadata": {},
   "source": [
    "By default aggregation is column-wise but one can also do row-wise:"
   ]
  },
  {
   "cell_type": "code",
   "execution_count": 34,
   "metadata": {
    "collapsed": false
   },
   "outputs": [
    {
     "data": {
      "text/plain": [
       "0    0.339597\n",
       "1   -0.525874\n",
       "2    0.093993\n",
       "3   -0.006771\n",
       "4   -0.467186\n",
       "dtype: float64"
      ]
     },
     "execution_count": 34,
     "metadata": {},
     "output_type": "execute_result"
    }
   ],
   "source": [
    "df.mean(axis='columns') # gives mean value by row"
   ]
  },
  {
   "cell_type": "markdown",
   "metadata": {},
   "source": [
    "The following table summarizes some other built-in Pandas aggregations:\n",
    "\n",
    "| Aggregation              | Description                     |\n",
    "|--------------------------|---------------------------------|\n",
    "| ``count()``              | Total number of items           |\n",
    "| ``first()``, ``last()``  | First and last item             |\n",
    "| ``mean()``, ``median()`` | Mean and median                 |\n",
    "| ``min()``, ``max()``     | Minimum and maximum             |\n",
    "| ``std()``, ``var()``     | Standard deviation and variance |\n",
    "| ``mad()``                | Mean absolute deviation         |\n",
    "| ``prod()``               | Product of all items            |\n",
    "| ``sum()``                | Sum of all items                |\n",
    "\n",
    "These are all methods of ``DataFrame`` and ``Series`` objects."
   ]
  },
  {
   "cell_type": "markdown",
   "metadata": {},
   "source": [
    "#### Grouping in Pandas\n",
    "A frequent use case is that one is not just interested in overall aggregation but separated or split according to other criteria or keys.\n",
    "\n",
    "A simple example:"
   ]
  },
  {
   "cell_type": "code",
   "execution_count": 37,
   "metadata": {
    "collapsed": false
   },
   "outputs": [
    {
     "data": {
      "text/html": [
       "<div>\n",
       "<table border=\"1\" class=\"dataframe\">\n",
       "  <thead>\n",
       "    <tr style=\"text-align: right;\">\n",
       "      <th></th>\n",
       "      <th>key</th>\n",
       "      <th>data</th>\n",
       "    </tr>\n",
       "  </thead>\n",
       "  <tbody>\n",
       "    <tr>\n",
       "      <th>0</th>\n",
       "      <td>A</td>\n",
       "      <td>-0.948076</td>\n",
       "    </tr>\n",
       "    <tr>\n",
       "      <th>1</th>\n",
       "      <td>B</td>\n",
       "      <td>-0.302811</td>\n",
       "    </tr>\n",
       "    <tr>\n",
       "      <th>2</th>\n",
       "      <td>C</td>\n",
       "      <td>1.209410</td>\n",
       "    </tr>\n",
       "    <tr>\n",
       "      <th>3</th>\n",
       "      <td>A</td>\n",
       "      <td>0.485548</td>\n",
       "    </tr>\n",
       "    <tr>\n",
       "      <th>4</th>\n",
       "      <td>B</td>\n",
       "      <td>-0.526711</td>\n",
       "    </tr>\n",
       "    <tr>\n",
       "      <th>5</th>\n",
       "      <td>C</td>\n",
       "      <td>1.228849</td>\n",
       "    </tr>\n",
       "  </tbody>\n",
       "</table>\n",
       "</div>"
      ],
      "text/plain": [
       "  key      data\n",
       "0   A -0.948076\n",
       "1   B -0.302811\n",
       "2   C  1.209410\n",
       "3   A  0.485548\n",
       "4   B -0.526711\n",
       "5   C  1.228849"
      ]
     },
     "execution_count": 37,
     "metadata": {},
     "output_type": "execute_result"
    }
   ],
   "source": [
    "df = pd.DataFrame({'key': ['A', 'B', 'C', 'A', 'B', 'C'],\n",
    "                   'data': np.random.randn(6)}, columns=['key', 'data'])\n",
    "df"
   ]
  },
  {
   "cell_type": "markdown",
   "metadata": {},
   "source": [
    "Now one might be interested not just in overall aggregation (e.g. mean) but in aggregation separate for each key. \n",
    "Can in principle be done by selecting specific rows:"
   ]
  },
  {
   "cell_type": "code",
   "execution_count": 43,
   "metadata": {
    "collapsed": false
   },
   "outputs": [
    {
     "name": "stdout",
     "output_type": "stream",
     "text": [
      "  key      data\n",
      "0   A -0.948076\n",
      "3   A  0.485548\n"
     ]
    },
    {
     "data": {
      "text/plain": [
       "data   -0.231264\n",
       "dtype: float64"
      ]
     },
     "execution_count": 43,
     "metadata": {},
     "output_type": "execute_result"
    }
   ],
   "source": [
    "print (df[df.key=='A'])\n",
    "df[df.key=='A'].mean()"
   ]
  },
  {
   "cell_type": "markdown",
   "metadata": {},
   "source": [
    "A much more powerful alternative is to apply `groupby`, this automatically splits dataframe in subframes and then arbitrary aggregations can be applied:"
   ]
  },
  {
   "cell_type": "code",
   "execution_count": 44,
   "metadata": {
    "collapsed": false
   },
   "outputs": [
    {
     "data": {
      "text/plain": [
       "<pandas.core.groupby.DataFrameGroupBy object at 0x7fa4dcf51390>"
      ]
     },
     "execution_count": 44,
     "metadata": {},
     "output_type": "execute_result"
    }
   ],
   "source": [
    "df.groupby('key')"
   ]
  },
  {
   "cell_type": "markdown",
   "metadata": {},
   "source": [
    " `groupby` results in special object which allows subsequent aggregation calls:"
   ]
  },
  {
   "cell_type": "code",
   "execution_count": 38,
   "metadata": {
    "collapsed": false
   },
   "outputs": [
    {
     "data": {
      "text/html": [
       "<div>\n",
       "<table border=\"1\" class=\"dataframe\">\n",
       "  <thead>\n",
       "    <tr style=\"text-align: right;\">\n",
       "      <th></th>\n",
       "      <th>data</th>\n",
       "    </tr>\n",
       "    <tr>\n",
       "      <th>key</th>\n",
       "      <th></th>\n",
       "    </tr>\n",
       "  </thead>\n",
       "  <tbody>\n",
       "    <tr>\n",
       "      <th>A</th>\n",
       "      <td>-0.462528</td>\n",
       "    </tr>\n",
       "    <tr>\n",
       "      <th>B</th>\n",
       "      <td>-0.829522</td>\n",
       "    </tr>\n",
       "    <tr>\n",
       "      <th>C</th>\n",
       "      <td>2.438259</td>\n",
       "    </tr>\n",
       "  </tbody>\n",
       "</table>\n",
       "</div>"
      ],
      "text/plain": [
       "         data\n",
       "key          \n",
       "A   -0.462528\n",
       "B   -0.829522\n",
       "C    2.438259"
      ]
     },
     "execution_count": 38,
     "metadata": {},
     "output_type": "execute_result"
    }
   ],
   "source": [
    "df.groupby('key').sum()"
   ]
  },
  {
   "cell_type": "code",
   "execution_count": 46,
   "metadata": {
    "collapsed": false
   },
   "outputs": [
    {
     "data": {
      "text/html": [
       "<div>\n",
       "<table border=\"1\" class=\"dataframe\">\n",
       "  <thead>\n",
       "    <tr style=\"text-align: right;\">\n",
       "      <th></th>\n",
       "      <th></th>\n",
       "      <th>data</th>\n",
       "    </tr>\n",
       "    <tr>\n",
       "      <th>key</th>\n",
       "      <th></th>\n",
       "      <th></th>\n",
       "    </tr>\n",
       "  </thead>\n",
       "  <tbody>\n",
       "    <tr>\n",
       "      <th rowspan=\"8\" valign=\"top\">A</th>\n",
       "      <th>count</th>\n",
       "      <td>2.000000</td>\n",
       "    </tr>\n",
       "    <tr>\n",
       "      <th>mean</th>\n",
       "      <td>-0.231264</td>\n",
       "    </tr>\n",
       "    <tr>\n",
       "      <th>std</th>\n",
       "      <td>1.013725</td>\n",
       "    </tr>\n",
       "    <tr>\n",
       "      <th>min</th>\n",
       "      <td>-0.948076</td>\n",
       "    </tr>\n",
       "    <tr>\n",
       "      <th>25%</th>\n",
       "      <td>-0.589670</td>\n",
       "    </tr>\n",
       "    <tr>\n",
       "      <th>50%</th>\n",
       "      <td>-0.231264</td>\n",
       "    </tr>\n",
       "    <tr>\n",
       "      <th>75%</th>\n",
       "      <td>0.127142</td>\n",
       "    </tr>\n",
       "    <tr>\n",
       "      <th>max</th>\n",
       "      <td>0.485548</td>\n",
       "    </tr>\n",
       "    <tr>\n",
       "      <th rowspan=\"8\" valign=\"top\">B</th>\n",
       "      <th>count</th>\n",
       "      <td>2.000000</td>\n",
       "    </tr>\n",
       "    <tr>\n",
       "      <th>mean</th>\n",
       "      <td>-0.414761</td>\n",
       "    </tr>\n",
       "    <tr>\n",
       "      <th>std</th>\n",
       "      <td>0.158321</td>\n",
       "    </tr>\n",
       "    <tr>\n",
       "      <th>min</th>\n",
       "      <td>-0.526711</td>\n",
       "    </tr>\n",
       "    <tr>\n",
       "      <th>25%</th>\n",
       "      <td>-0.470736</td>\n",
       "    </tr>\n",
       "    <tr>\n",
       "      <th>50%</th>\n",
       "      <td>-0.414761</td>\n",
       "    </tr>\n",
       "    <tr>\n",
       "      <th>75%</th>\n",
       "      <td>-0.358786</td>\n",
       "    </tr>\n",
       "    <tr>\n",
       "      <th>max</th>\n",
       "      <td>-0.302811</td>\n",
       "    </tr>\n",
       "    <tr>\n",
       "      <th rowspan=\"8\" valign=\"top\">C</th>\n",
       "      <th>count</th>\n",
       "      <td>2.000000</td>\n",
       "    </tr>\n",
       "    <tr>\n",
       "      <th>mean</th>\n",
       "      <td>1.219130</td>\n",
       "    </tr>\n",
       "    <tr>\n",
       "      <th>std</th>\n",
       "      <td>0.013746</td>\n",
       "    </tr>\n",
       "    <tr>\n",
       "      <th>min</th>\n",
       "      <td>1.209410</td>\n",
       "    </tr>\n",
       "    <tr>\n",
       "      <th>25%</th>\n",
       "      <td>1.214270</td>\n",
       "    </tr>\n",
       "    <tr>\n",
       "      <th>50%</th>\n",
       "      <td>1.219130</td>\n",
       "    </tr>\n",
       "    <tr>\n",
       "      <th>75%</th>\n",
       "      <td>1.223989</td>\n",
       "    </tr>\n",
       "    <tr>\n",
       "      <th>max</th>\n",
       "      <td>1.228849</td>\n",
       "    </tr>\n",
       "  </tbody>\n",
       "</table>\n",
       "</div>"
      ],
      "text/plain": [
       "               data\n",
       "key                \n",
       "A   count  2.000000\n",
       "    mean  -0.231264\n",
       "    std    1.013725\n",
       "    min   -0.948076\n",
       "    25%   -0.589670\n",
       "    50%   -0.231264\n",
       "    75%    0.127142\n",
       "    max    0.485548\n",
       "B   count  2.000000\n",
       "    mean  -0.414761\n",
       "    std    0.158321\n",
       "    min   -0.526711\n",
       "    25%   -0.470736\n",
       "    50%   -0.414761\n",
       "    75%   -0.358786\n",
       "    max   -0.302811\n",
       "C   count  2.000000\n",
       "    mean   1.219130\n",
       "    std    0.013746\n",
       "    min    1.209410\n",
       "    25%    1.214270\n",
       "    50%    1.219130\n",
       "    75%    1.223989\n",
       "    max    1.228849"
      ]
     },
     "execution_count": 46,
     "metadata": {},
     "output_type": "execute_result"
    }
   ],
   "source": [
    "df.groupby('key').describe()"
   ]
  },
  {
   "cell_type": "markdown",
   "metadata": {},
   "source": [
    "**Illustrative figure to show effect of groupby**\n",
    "* Sequence of\n",
    "  * Split\n",
    "  * Apply\n",
    "  * Combine\n",
    "\n",
    "![](figures/03.08-split-apply-combine.png)"
   ]
  },
  {
   "cell_type": "markdown",
   "metadata": {},
   "source": [
    "### Second Example -  Planets Data\n",
    "\n",
    "Planets data which comes with the  [Seaborn package](http://seaborn.pydata.org/).\n",
    "It gives information on planets that astronomers have discovered around other stars (known as *extrasolar planets* or *exoplanets* for short). It can be downloaded with a simple Seaborn command:"
   ]
  },
  {
   "cell_type": "code",
   "execution_count": 47,
   "metadata": {
    "collapsed": false
   },
   "outputs": [
    {
     "data": {
      "text/plain": [
       "(1035, 6)"
      ]
     },
     "execution_count": 47,
     "metadata": {},
     "output_type": "execute_result"
    }
   ],
   "source": [
    "import seaborn as sns\n",
    "planets = sns.load_dataset('planets')\n",
    "planets.shape"
   ]
  },
  {
   "cell_type": "markdown",
   "metadata": {},
   "source": [
    "No big magic behind, simple csv file read via Pandas from Web server and stored as Dataframe"
   ]
  },
  {
   "cell_type": "code",
   "execution_count": 51,
   "metadata": {
    "collapsed": false
   },
   "outputs": [
    {
     "name": "stdout",
     "output_type": "stream",
     "text": [
      "<class 'pandas.core.frame.DataFrame'>\n",
      "RangeIndex: 1035 entries, 0 to 1034\n",
      "Data columns (total 6 columns):\n",
      "method            1035 non-null object\n",
      "number            1035 non-null int64\n",
      "orbital_period    992 non-null float64\n",
      "mass              513 non-null float64\n",
      "distance          808 non-null float64\n",
      "year              1035 non-null int64\n",
      "dtypes: float64(3), int64(2), object(1)\n",
      "memory usage: 48.6+ KB\n"
     ]
    },
    {
     "data": {
      "text/html": [
       "<div>\n",
       "<table border=\"1\" class=\"dataframe\">\n",
       "  <thead>\n",
       "    <tr style=\"text-align: right;\">\n",
       "      <th></th>\n",
       "      <th>method</th>\n",
       "      <th>number</th>\n",
       "      <th>orbital_period</th>\n",
       "      <th>mass</th>\n",
       "      <th>distance</th>\n",
       "      <th>year</th>\n",
       "    </tr>\n",
       "  </thead>\n",
       "  <tbody>\n",
       "    <tr>\n",
       "      <th>0</th>\n",
       "      <td>Radial Velocity</td>\n",
       "      <td>1</td>\n",
       "      <td>269.300</td>\n",
       "      <td>7.10</td>\n",
       "      <td>77.40</td>\n",
       "      <td>2006</td>\n",
       "    </tr>\n",
       "    <tr>\n",
       "      <th>1</th>\n",
       "      <td>Radial Velocity</td>\n",
       "      <td>1</td>\n",
       "      <td>874.774</td>\n",
       "      <td>2.21</td>\n",
       "      <td>56.95</td>\n",
       "      <td>2008</td>\n",
       "    </tr>\n",
       "    <tr>\n",
       "      <th>2</th>\n",
       "      <td>Radial Velocity</td>\n",
       "      <td>1</td>\n",
       "      <td>763.000</td>\n",
       "      <td>2.60</td>\n",
       "      <td>19.84</td>\n",
       "      <td>2011</td>\n",
       "    </tr>\n",
       "    <tr>\n",
       "      <th>3</th>\n",
       "      <td>Radial Velocity</td>\n",
       "      <td>1</td>\n",
       "      <td>326.030</td>\n",
       "      <td>19.40</td>\n",
       "      <td>110.62</td>\n",
       "      <td>2007</td>\n",
       "    </tr>\n",
       "    <tr>\n",
       "      <th>4</th>\n",
       "      <td>Radial Velocity</td>\n",
       "      <td>1</td>\n",
       "      <td>516.220</td>\n",
       "      <td>10.50</td>\n",
       "      <td>119.47</td>\n",
       "      <td>2009</td>\n",
       "    </tr>\n",
       "  </tbody>\n",
       "</table>\n",
       "</div>"
      ],
      "text/plain": [
       "            method  number  orbital_period   mass  distance  year\n",
       "0  Radial Velocity       1         269.300   7.10     77.40  2006\n",
       "1  Radial Velocity       1         874.774   2.21     56.95  2008\n",
       "2  Radial Velocity       1         763.000   2.60     19.84  2011\n",
       "3  Radial Velocity       1         326.030  19.40    110.62  2007\n",
       "4  Radial Velocity       1         516.220  10.50    119.47  2009"
      ]
     },
     "execution_count": 51,
     "metadata": {},
     "output_type": "execute_result"
    }
   ],
   "source": [
    "# do usual inspection\n",
    "planets.info()\n",
    "planets.head()"
   ]
  },
  {
   "cell_type": "code",
   "execution_count": 52,
   "metadata": {
    "collapsed": false
   },
   "outputs": [
    {
     "data": {
      "text/html": [
       "<div>\n",
       "<table border=\"1\" class=\"dataframe\">\n",
       "  <thead>\n",
       "    <tr style=\"text-align: right;\">\n",
       "      <th></th>\n",
       "      <th>number</th>\n",
       "      <th>orbital_period</th>\n",
       "      <th>mass</th>\n",
       "      <th>distance</th>\n",
       "      <th>year</th>\n",
       "    </tr>\n",
       "  </thead>\n",
       "  <tbody>\n",
       "    <tr>\n",
       "      <th>count</th>\n",
       "      <td>1035.000000</td>\n",
       "      <td>992.000000</td>\n",
       "      <td>513.000000</td>\n",
       "      <td>808.000000</td>\n",
       "      <td>1035.000000</td>\n",
       "    </tr>\n",
       "    <tr>\n",
       "      <th>mean</th>\n",
       "      <td>1.785507</td>\n",
       "      <td>2002.917596</td>\n",
       "      <td>2.638161</td>\n",
       "      <td>264.069282</td>\n",
       "      <td>2009.070531</td>\n",
       "    </tr>\n",
       "    <tr>\n",
       "      <th>std</th>\n",
       "      <td>1.240976</td>\n",
       "      <td>26014.728304</td>\n",
       "      <td>3.818617</td>\n",
       "      <td>733.116493</td>\n",
       "      <td>3.972567</td>\n",
       "    </tr>\n",
       "    <tr>\n",
       "      <th>min</th>\n",
       "      <td>1.000000</td>\n",
       "      <td>0.090706</td>\n",
       "      <td>0.003600</td>\n",
       "      <td>1.350000</td>\n",
       "      <td>1989.000000</td>\n",
       "    </tr>\n",
       "    <tr>\n",
       "      <th>25%</th>\n",
       "      <td>1.000000</td>\n",
       "      <td>5.442540</td>\n",
       "      <td>0.229000</td>\n",
       "      <td>32.560000</td>\n",
       "      <td>2007.000000</td>\n",
       "    </tr>\n",
       "    <tr>\n",
       "      <th>50%</th>\n",
       "      <td>1.000000</td>\n",
       "      <td>39.979500</td>\n",
       "      <td>1.260000</td>\n",
       "      <td>55.250000</td>\n",
       "      <td>2010.000000</td>\n",
       "    </tr>\n",
       "    <tr>\n",
       "      <th>75%</th>\n",
       "      <td>2.000000</td>\n",
       "      <td>526.005000</td>\n",
       "      <td>3.040000</td>\n",
       "      <td>178.500000</td>\n",
       "      <td>2012.000000</td>\n",
       "    </tr>\n",
       "    <tr>\n",
       "      <th>max</th>\n",
       "      <td>7.000000</td>\n",
       "      <td>730000.000000</td>\n",
       "      <td>25.000000</td>\n",
       "      <td>8500.000000</td>\n",
       "      <td>2014.000000</td>\n",
       "    </tr>\n",
       "  </tbody>\n",
       "</table>\n",
       "</div>"
      ],
      "text/plain": [
       "            number  orbital_period        mass     distance         year\n",
       "count  1035.000000      992.000000  513.000000   808.000000  1035.000000\n",
       "mean      1.785507     2002.917596    2.638161   264.069282  2009.070531\n",
       "std       1.240976    26014.728304    3.818617   733.116493     3.972567\n",
       "min       1.000000        0.090706    0.003600     1.350000  1989.000000\n",
       "25%       1.000000        5.442540    0.229000    32.560000  2007.000000\n",
       "50%       1.000000       39.979500    1.260000    55.250000  2010.000000\n",
       "75%       2.000000      526.005000    3.040000   178.500000  2012.000000\n",
       "max       7.000000   730000.000000   25.000000  8500.000000  2014.000000"
      ]
     },
     "execution_count": 52,
     "metadata": {},
     "output_type": "execute_result"
    }
   ],
   "source": [
    "planets.describe()"
   ]
  },
  {
   "cell_type": "code",
   "execution_count": 53,
   "metadata": {
    "collapsed": false
   },
   "outputs": [
    {
     "data": {
      "text/html": [
       "<div>\n",
       "<table border=\"1\" class=\"dataframe\">\n",
       "  <thead>\n",
       "    <tr style=\"text-align: right;\">\n",
       "      <th></th>\n",
       "      <th>number</th>\n",
       "      <th>orbital_period</th>\n",
       "      <th>mass</th>\n",
       "      <th>distance</th>\n",
       "      <th>year</th>\n",
       "    </tr>\n",
       "  </thead>\n",
       "  <tbody>\n",
       "    <tr>\n",
       "      <th>count</th>\n",
       "      <td>498.00000</td>\n",
       "      <td>498.000000</td>\n",
       "      <td>498.000000</td>\n",
       "      <td>498.000000</td>\n",
       "      <td>498.000000</td>\n",
       "    </tr>\n",
       "    <tr>\n",
       "      <th>mean</th>\n",
       "      <td>1.73494</td>\n",
       "      <td>835.778671</td>\n",
       "      <td>2.509320</td>\n",
       "      <td>52.068213</td>\n",
       "      <td>2007.377510</td>\n",
       "    </tr>\n",
       "    <tr>\n",
       "      <th>std</th>\n",
       "      <td>1.17572</td>\n",
       "      <td>1469.128259</td>\n",
       "      <td>3.636274</td>\n",
       "      <td>46.596041</td>\n",
       "      <td>4.167284</td>\n",
       "    </tr>\n",
       "    <tr>\n",
       "      <th>min</th>\n",
       "      <td>1.00000</td>\n",
       "      <td>1.328300</td>\n",
       "      <td>0.003600</td>\n",
       "      <td>1.350000</td>\n",
       "      <td>1989.000000</td>\n",
       "    </tr>\n",
       "    <tr>\n",
       "      <th>25%</th>\n",
       "      <td>1.00000</td>\n",
       "      <td>38.272250</td>\n",
       "      <td>0.212500</td>\n",
       "      <td>24.497500</td>\n",
       "      <td>2005.000000</td>\n",
       "    </tr>\n",
       "    <tr>\n",
       "      <th>50%</th>\n",
       "      <td>1.00000</td>\n",
       "      <td>357.000000</td>\n",
       "      <td>1.245000</td>\n",
       "      <td>39.940000</td>\n",
       "      <td>2009.000000</td>\n",
       "    </tr>\n",
       "    <tr>\n",
       "      <th>75%</th>\n",
       "      <td>2.00000</td>\n",
       "      <td>999.600000</td>\n",
       "      <td>2.867500</td>\n",
       "      <td>59.332500</td>\n",
       "      <td>2011.000000</td>\n",
       "    </tr>\n",
       "    <tr>\n",
       "      <th>max</th>\n",
       "      <td>6.00000</td>\n",
       "      <td>17337.500000</td>\n",
       "      <td>25.000000</td>\n",
       "      <td>354.000000</td>\n",
       "      <td>2014.000000</td>\n",
       "    </tr>\n",
       "  </tbody>\n",
       "</table>\n",
       "</div>"
      ],
      "text/plain": [
       "          number  orbital_period        mass    distance         year\n",
       "count  498.00000      498.000000  498.000000  498.000000   498.000000\n",
       "mean     1.73494      835.778671    2.509320   52.068213  2007.377510\n",
       "std      1.17572     1469.128259    3.636274   46.596041     4.167284\n",
       "min      1.00000        1.328300    0.003600    1.350000  1989.000000\n",
       "25%      1.00000       38.272250    0.212500   24.497500  2005.000000\n",
       "50%      1.00000      357.000000    1.245000   39.940000  2009.000000\n",
       "75%      2.00000      999.600000    2.867500   59.332500  2011.000000\n",
       "max      6.00000    17337.500000   25.000000  354.000000  2014.000000"
      ]
     },
     "execution_count": 53,
     "metadata": {},
     "output_type": "execute_result"
    }
   ],
   "source": [
    "# some missing data, might consider to remove these lines\n",
    "planets.dropna().describe()"
   ]
  },
  {
   "cell_type": "code",
   "execution_count": 57,
   "metadata": {
    "collapsed": false
   },
   "outputs": [
    {
     "data": {
      "text/html": [
       "<div>\n",
       "<table border=\"1\" class=\"dataframe\">\n",
       "  <thead>\n",
       "    <tr style=\"text-align: right;\">\n",
       "      <th></th>\n",
       "      <th>number</th>\n",
       "      <th>orbital_period</th>\n",
       "      <th>mass</th>\n",
       "      <th>distance</th>\n",
       "      <th>year</th>\n",
       "    </tr>\n",
       "    <tr>\n",
       "      <th>method</th>\n",
       "      <th></th>\n",
       "      <th></th>\n",
       "      <th></th>\n",
       "      <th></th>\n",
       "      <th></th>\n",
       "    </tr>\n",
       "  </thead>\n",
       "  <tbody>\n",
       "    <tr>\n",
       "      <th>Astrometry</th>\n",
       "      <td>1.000000</td>\n",
       "      <td>631.180000</td>\n",
       "      <td>NaN</td>\n",
       "      <td>17.875000</td>\n",
       "      <td>2011.500000</td>\n",
       "    </tr>\n",
       "    <tr>\n",
       "      <th>Eclipse Timing Variations</th>\n",
       "      <td>1.666667</td>\n",
       "      <td>4751.644444</td>\n",
       "      <td>5.125000</td>\n",
       "      <td>315.360000</td>\n",
       "      <td>2010.000000</td>\n",
       "    </tr>\n",
       "    <tr>\n",
       "      <th>Imaging</th>\n",
       "      <td>1.315789</td>\n",
       "      <td>118247.737500</td>\n",
       "      <td>NaN</td>\n",
       "      <td>67.715937</td>\n",
       "      <td>2009.131579</td>\n",
       "    </tr>\n",
       "    <tr>\n",
       "      <th>Microlensing</th>\n",
       "      <td>1.173913</td>\n",
       "      <td>3153.571429</td>\n",
       "      <td>NaN</td>\n",
       "      <td>4144.000000</td>\n",
       "      <td>2009.782609</td>\n",
       "    </tr>\n",
       "    <tr>\n",
       "      <th>Orbital Brightness Modulation</th>\n",
       "      <td>1.666667</td>\n",
       "      <td>0.709307</td>\n",
       "      <td>NaN</td>\n",
       "      <td>1180.000000</td>\n",
       "      <td>2011.666667</td>\n",
       "    </tr>\n",
       "    <tr>\n",
       "      <th>Pulsar Timing</th>\n",
       "      <td>2.200000</td>\n",
       "      <td>7343.021201</td>\n",
       "      <td>NaN</td>\n",
       "      <td>1200.000000</td>\n",
       "      <td>1998.400000</td>\n",
       "    </tr>\n",
       "    <tr>\n",
       "      <th>Pulsation Timing Variations</th>\n",
       "      <td>1.000000</td>\n",
       "      <td>1170.000000</td>\n",
       "      <td>NaN</td>\n",
       "      <td>NaN</td>\n",
       "      <td>2007.000000</td>\n",
       "    </tr>\n",
       "    <tr>\n",
       "      <th>Radial Velocity</th>\n",
       "      <td>1.721519</td>\n",
       "      <td>823.354680</td>\n",
       "      <td>2.630699</td>\n",
       "      <td>51.600208</td>\n",
       "      <td>2007.518987</td>\n",
       "    </tr>\n",
       "    <tr>\n",
       "      <th>Transit</th>\n",
       "      <td>1.954660</td>\n",
       "      <td>21.102073</td>\n",
       "      <td>1.470000</td>\n",
       "      <td>599.298080</td>\n",
       "      <td>2011.236776</td>\n",
       "    </tr>\n",
       "    <tr>\n",
       "      <th>Transit Timing Variations</th>\n",
       "      <td>2.250000</td>\n",
       "      <td>79.783500</td>\n",
       "      <td>NaN</td>\n",
       "      <td>1104.333333</td>\n",
       "      <td>2012.500000</td>\n",
       "    </tr>\n",
       "  </tbody>\n",
       "</table>\n",
       "</div>"
      ],
      "text/plain": [
       "                                 number  orbital_period      mass  \\\n",
       "method                                                              \n",
       "Astrometry                     1.000000      631.180000       NaN   \n",
       "Eclipse Timing Variations      1.666667     4751.644444  5.125000   \n",
       "Imaging                        1.315789   118247.737500       NaN   \n",
       "Microlensing                   1.173913     3153.571429       NaN   \n",
       "Orbital Brightness Modulation  1.666667        0.709307       NaN   \n",
       "Pulsar Timing                  2.200000     7343.021201       NaN   \n",
       "Pulsation Timing Variations    1.000000     1170.000000       NaN   \n",
       "Radial Velocity                1.721519      823.354680  2.630699   \n",
       "Transit                        1.954660       21.102073  1.470000   \n",
       "Transit Timing Variations      2.250000       79.783500       NaN   \n",
       "\n",
       "                                  distance         year  \n",
       "method                                                   \n",
       "Astrometry                       17.875000  2011.500000  \n",
       "Eclipse Timing Variations       315.360000  2010.000000  \n",
       "Imaging                          67.715937  2009.131579  \n",
       "Microlensing                   4144.000000  2009.782609  \n",
       "Orbital Brightness Modulation  1180.000000  2011.666667  \n",
       "Pulsar Timing                  1200.000000  1998.400000  \n",
       "Pulsation Timing Variations            NaN  2007.000000  \n",
       "Radial Velocity                  51.600208  2007.518987  \n",
       "Transit                         599.298080  2011.236776  \n",
       "Transit Timing Variations      1104.333333  2012.500000  "
      ]
     },
     "execution_count": 57,
     "metadata": {},
     "output_type": "execute_result"
    }
   ],
   "source": [
    "planets.groupby('method').mean()"
   ]
  },
  {
   "cell_type": "code",
   "execution_count": 58,
   "metadata": {
    "collapsed": false
   },
   "outputs": [
    {
     "data": {
      "text/plain": [
       "method\n",
       "Astrometry                          631.180000\n",
       "Eclipse Timing Variations          4751.644444\n",
       "Imaging                          118247.737500\n",
       "Microlensing                       3153.571429\n",
       "Orbital Brightness Modulation         0.709307\n",
       "Pulsar Timing                      7343.021201\n",
       "Pulsation Timing Variations        1170.000000\n",
       "Radial Velocity                     823.354680\n",
       "Transit                              21.102073\n",
       "Transit Timing Variations            79.783500\n",
       "Name: orbital_period, dtype: float64"
      ]
     },
     "execution_count": 58,
     "metadata": {},
     "output_type": "execute_result"
    }
   ],
   "source": [
    "# or only specific columns\n",
    "planets.groupby('method')['orbital_period'].mean()"
   ]
  },
  {
   "cell_type": "code",
   "execution_count": 60,
   "metadata": {
    "collapsed": false
   },
   "outputs": [
    {
     "data": {
      "text/html": [
       "<div>\n",
       "<table border=\"1\" class=\"dataframe\">\n",
       "  <thead>\n",
       "    <tr style=\"text-align: right;\">\n",
       "      <th></th>\n",
       "      <th>count</th>\n",
       "      <th>mean</th>\n",
       "      <th>std</th>\n",
       "      <th>min</th>\n",
       "      <th>25%</th>\n",
       "      <th>50%</th>\n",
       "      <th>75%</th>\n",
       "      <th>max</th>\n",
       "    </tr>\n",
       "    <tr>\n",
       "      <th>method</th>\n",
       "      <th></th>\n",
       "      <th></th>\n",
       "      <th></th>\n",
       "      <th></th>\n",
       "      <th></th>\n",
       "      <th></th>\n",
       "      <th></th>\n",
       "      <th></th>\n",
       "    </tr>\n",
       "  </thead>\n",
       "  <tbody>\n",
       "    <tr>\n",
       "      <th>Astrometry</th>\n",
       "      <td>2.0</td>\n",
       "      <td>2011.500000</td>\n",
       "      <td>2.121320</td>\n",
       "      <td>2010.0</td>\n",
       "      <td>2010.75</td>\n",
       "      <td>2011.5</td>\n",
       "      <td>2012.25</td>\n",
       "      <td>2013.0</td>\n",
       "    </tr>\n",
       "    <tr>\n",
       "      <th>Eclipse Timing Variations</th>\n",
       "      <td>9.0</td>\n",
       "      <td>2010.000000</td>\n",
       "      <td>1.414214</td>\n",
       "      <td>2008.0</td>\n",
       "      <td>2009.00</td>\n",
       "      <td>2010.0</td>\n",
       "      <td>2011.00</td>\n",
       "      <td>2012.0</td>\n",
       "    </tr>\n",
       "    <tr>\n",
       "      <th>Imaging</th>\n",
       "      <td>38.0</td>\n",
       "      <td>2009.131579</td>\n",
       "      <td>2.781901</td>\n",
       "      <td>2004.0</td>\n",
       "      <td>2008.00</td>\n",
       "      <td>2009.0</td>\n",
       "      <td>2011.00</td>\n",
       "      <td>2013.0</td>\n",
       "    </tr>\n",
       "    <tr>\n",
       "      <th>Microlensing</th>\n",
       "      <td>23.0</td>\n",
       "      <td>2009.782609</td>\n",
       "      <td>2.859697</td>\n",
       "      <td>2004.0</td>\n",
       "      <td>2008.00</td>\n",
       "      <td>2010.0</td>\n",
       "      <td>2012.00</td>\n",
       "      <td>2013.0</td>\n",
       "    </tr>\n",
       "    <tr>\n",
       "      <th>Orbital Brightness Modulation</th>\n",
       "      <td>3.0</td>\n",
       "      <td>2011.666667</td>\n",
       "      <td>1.154701</td>\n",
       "      <td>2011.0</td>\n",
       "      <td>2011.00</td>\n",
       "      <td>2011.0</td>\n",
       "      <td>2012.00</td>\n",
       "      <td>2013.0</td>\n",
       "    </tr>\n",
       "    <tr>\n",
       "      <th>Pulsar Timing</th>\n",
       "      <td>5.0</td>\n",
       "      <td>1998.400000</td>\n",
       "      <td>8.384510</td>\n",
       "      <td>1992.0</td>\n",
       "      <td>1992.00</td>\n",
       "      <td>1994.0</td>\n",
       "      <td>2003.00</td>\n",
       "      <td>2011.0</td>\n",
       "    </tr>\n",
       "    <tr>\n",
       "      <th>Pulsation Timing Variations</th>\n",
       "      <td>1.0</td>\n",
       "      <td>2007.000000</td>\n",
       "      <td>NaN</td>\n",
       "      <td>2007.0</td>\n",
       "      <td>2007.00</td>\n",
       "      <td>2007.0</td>\n",
       "      <td>2007.00</td>\n",
       "      <td>2007.0</td>\n",
       "    </tr>\n",
       "    <tr>\n",
       "      <th>Radial Velocity</th>\n",
       "      <td>553.0</td>\n",
       "      <td>2007.518987</td>\n",
       "      <td>4.249052</td>\n",
       "      <td>1989.0</td>\n",
       "      <td>2005.00</td>\n",
       "      <td>2009.0</td>\n",
       "      <td>2011.00</td>\n",
       "      <td>2014.0</td>\n",
       "    </tr>\n",
       "    <tr>\n",
       "      <th>Transit</th>\n",
       "      <td>397.0</td>\n",
       "      <td>2011.236776</td>\n",
       "      <td>2.077867</td>\n",
       "      <td>2002.0</td>\n",
       "      <td>2010.00</td>\n",
       "      <td>2012.0</td>\n",
       "      <td>2013.00</td>\n",
       "      <td>2014.0</td>\n",
       "    </tr>\n",
       "    <tr>\n",
       "      <th>Transit Timing Variations</th>\n",
       "      <td>4.0</td>\n",
       "      <td>2012.500000</td>\n",
       "      <td>1.290994</td>\n",
       "      <td>2011.0</td>\n",
       "      <td>2011.75</td>\n",
       "      <td>2012.5</td>\n",
       "      <td>2013.25</td>\n",
       "      <td>2014.0</td>\n",
       "    </tr>\n",
       "  </tbody>\n",
       "</table>\n",
       "</div>"
      ],
      "text/plain": [
       "                               count         mean       std     min      25%  \\\n",
       "method                                                                         \n",
       "Astrometry                       2.0  2011.500000  2.121320  2010.0  2010.75   \n",
       "Eclipse Timing Variations        9.0  2010.000000  1.414214  2008.0  2009.00   \n",
       "Imaging                         38.0  2009.131579  2.781901  2004.0  2008.00   \n",
       "Microlensing                    23.0  2009.782609  2.859697  2004.0  2008.00   \n",
       "Orbital Brightness Modulation    3.0  2011.666667  1.154701  2011.0  2011.00   \n",
       "Pulsar Timing                    5.0  1998.400000  8.384510  1992.0  1992.00   \n",
       "Pulsation Timing Variations      1.0  2007.000000       NaN  2007.0  2007.00   \n",
       "Radial Velocity                553.0  2007.518987  4.249052  1989.0  2005.00   \n",
       "Transit                        397.0  2011.236776  2.077867  2002.0  2010.00   \n",
       "Transit Timing Variations        4.0  2012.500000  1.290994  2011.0  2011.75   \n",
       "\n",
       "                                  50%      75%     max  \n",
       "method                                                  \n",
       "Astrometry                     2011.5  2012.25  2013.0  \n",
       "Eclipse Timing Variations      2010.0  2011.00  2012.0  \n",
       "Imaging                        2009.0  2011.00  2013.0  \n",
       "Microlensing                   2010.0  2012.00  2013.0  \n",
       "Orbital Brightness Modulation  2011.0  2012.00  2013.0  \n",
       "Pulsar Timing                  1994.0  2003.00  2011.0  \n",
       "Pulsation Timing Variations    2007.0  2007.00  2007.0  \n",
       "Radial Velocity                2009.0  2011.00  2014.0  \n",
       "Transit                        2012.0  2013.00  2014.0  \n",
       "Transit Timing Variations      2012.5  2013.25  2014.0  "
      ]
     },
     "execution_count": 60,
     "metadata": {},
     "output_type": "execute_result"
    }
   ],
   "source": [
    "# again describe can be applied on sub-split\n",
    "planets.groupby('method')['year'].describe().unstack()"
   ]
  },
  {
   "cell_type": "markdown",
   "metadata": {},
   "source": [
    "Gives useful information on dataset, e.g. Radial Velocity is most frequent method, followed by Transit, but latter only applied from 2013 onwards, ..."
   ]
  },
  {
   "cell_type": "markdown",
   "metadata": {},
   "source": [
    "### Third Example - Spread sheet data\n",
    "** WLCG Computing Resources ** see \n",
    "https://wlcg-rebus.cern.ch/apps/pledges/resources/"
   ]
  },
  {
   "cell_type": "code",
   "execution_count": null,
   "metadata": {
    "collapsed": true
   },
   "outputs": [],
   "source": [
    "#\n",
    "dwlcg.ATLAS.sum()\n",
    "# Fehler wg Mischung strings und Zahlen\n",
    "# --> leere Werte = leere Strings --> Null setzen\n",
    "dwlcg[dwlcg==\"\"]=0\n",
    "# geht jetzt:\n",
    "dwlcg.ATLAS.sum()\n",
    "# aber wenig sinnvoll, besser Summe per PledgeType\n",
    "dwlcg[dwlcg['PledgeType']=='CPU'].ATLAS.sum()\n",
    "#\n",
    "# oder einfacher mit groupby: \n",
    "# get sum per country and Pledgetype\n",
    "r = dwlcg.groupby(['PledgeType','Country'])['ATLAS'].sum()\n",
    "# Liefert Multi-index Series\n",
    "r['CPU']\n",
    "....\n",
    "r['CPU','UK']\n",
    "108249\n",
    "r[:,'UK']\n",
    "# back to DataFrame\n",
    "dr=r.unstack()\n",
    "dr['UK']['CPU']\n"
   ]
  },
  {
   "cell_type": "code",
   "execution_count": 50,
   "metadata": {
    "collapsed": false
   },
   "outputs": [
    {
     "name": "stdout",
     "output_type": "stream",
     "text": [
      "<class 'pandas.core.frame.DataFrame'>\n",
      "Int64Index: 189 entries, 0 to 188\n",
      "Data columns (total 9 columns):\n",
      "ALICE         189 non-null object\n",
      "ATLAS         189 non-null object\n",
      "CMS           189 non-null object\n",
      "Country       189 non-null object\n",
      "Federation    189 non-null object\n",
      "LHCb          189 non-null object\n",
      "PledgeType    189 non-null object\n",
      "PledgeUnit    189 non-null object\n",
      "Tier          189 non-null object\n",
      "dtypes: object(9)\n",
      "memory usage: 14.8+ KB\n"
     ]
    }
   ],
   "source": [
    "# json input\n",
    "#dwlcg = pd.read_json('https://wlcg-rebus.cern.ch/apps/pledges/resources/2016/all/json')\n",
    "dwlcg = pd.read_json('http://www-static.etp.physik.uni-muenchen.de/kurs/Computing/sw/source/wlcg.json')\n",
    "dwlcg.info()"
   ]
  },
  {
   "cell_type": "code",
   "execution_count": 17,
   "metadata": {
    "collapsed": false
   },
   "outputs": [
    {
     "data": {
      "text/html": [
       "<div>\n",
       "<table border=\"1\" class=\"dataframe\">\n",
       "  <thead>\n",
       "    <tr style=\"text-align: right;\">\n",
       "      <th></th>\n",
       "      <th>ALICE</th>\n",
       "      <th>ATLAS</th>\n",
       "      <th>CMS</th>\n",
       "      <th>Country</th>\n",
       "      <th>Federation</th>\n",
       "      <th>LHCb</th>\n",
       "      <th>PledgeType</th>\n",
       "      <th>PledgeUnit</th>\n",
       "      <th>Tier</th>\n",
       "    </tr>\n",
       "  </thead>\n",
       "  <tbody>\n",
       "    <tr>\n",
       "      <th>0</th>\n",
       "      <td>175000</td>\n",
       "      <td>205000</td>\n",
       "      <td>271000</td>\n",
       "      <td>Switzerland</td>\n",
       "      <td>CH-CERN</td>\n",
       "      <td>36000</td>\n",
       "      <td>CPU</td>\n",
       "      <td>HEP-SPEC06</td>\n",
       "      <td>Tier 0</td>\n",
       "    </tr>\n",
       "    <tr>\n",
       "      <th>1</th>\n",
       "      <td>14500</td>\n",
       "      <td>14000</td>\n",
       "      <td>15000</td>\n",
       "      <td>Switzerland</td>\n",
       "      <td>CH-CERN</td>\n",
       "      <td>5500</td>\n",
       "      <td>Disk</td>\n",
       "      <td>Tbytes</td>\n",
       "      <td>Tier 0</td>\n",
       "    </tr>\n",
       "    <tr>\n",
       "      <th>2</th>\n",
       "      <td>16200</td>\n",
       "      <td>33000</td>\n",
       "      <td>35000</td>\n",
       "      <td>Switzerland</td>\n",
       "      <td>CH-CERN</td>\n",
       "      <td>11200</td>\n",
       "      <td>Tape</td>\n",
       "      <td>Tbytes</td>\n",
       "      <td>Tier 0</td>\n",
       "    </tr>\n",
       "    <tr>\n",
       "      <th>3</th>\n",
       "      <td></td>\n",
       "      <td>46200</td>\n",
       "      <td></td>\n",
       "      <td>Canada</td>\n",
       "      <td>CA-TRIUMF</td>\n",
       "      <td></td>\n",
       "      <td>CPU</td>\n",
       "      <td>HEP-SPEC06</td>\n",
       "      <td>Tier 1</td>\n",
       "    </tr>\n",
       "    <tr>\n",
       "      <th>4</th>\n",
       "      <td></td>\n",
       "      <td>3900</td>\n",
       "      <td></td>\n",
       "      <td>Canada</td>\n",
       "      <td>CA-TRIUMF</td>\n",
       "      <td></td>\n",
       "      <td>Disk</td>\n",
       "      <td>Tbytes</td>\n",
       "      <td>Tier 1</td>\n",
       "    </tr>\n",
       "  </tbody>\n",
       "</table>\n",
       "</div>"
      ],
      "text/plain": [
       "    ALICE   ATLAS     CMS      Country Federation   LHCb PledgeType  \\\n",
       "0  175000  205000  271000  Switzerland    CH-CERN  36000        CPU   \n",
       "1   14500   14000   15000  Switzerland    CH-CERN   5500       Disk   \n",
       "2   16200   33000   35000  Switzerland    CH-CERN  11200       Tape   \n",
       "3           46200               Canada  CA-TRIUMF               CPU   \n",
       "4            3900               Canada  CA-TRIUMF              Disk   \n",
       "\n",
       "   PledgeUnit    Tier  \n",
       "0  HEP-SPEC06  Tier 0  \n",
       "1      Tbytes  Tier 0  \n",
       "2      Tbytes  Tier 0  \n",
       "3  HEP-SPEC06  Tier 1  \n",
       "4      Tbytes  Tier 1  "
      ]
     },
     "execution_count": 17,
     "metadata": {},
     "output_type": "execute_result"
    }
   ],
   "source": [
    "dwlcg.head()"
   ]
  },
  {
   "cell_type": "code",
   "execution_count": 51,
   "metadata": {
    "collapsed": false
   },
   "outputs": [
    {
     "data": {
      "text/html": [
       "<div>\n",
       "<table border=\"1\" class=\"dataframe\">\n",
       "  <thead>\n",
       "    <tr style=\"text-align: right;\">\n",
       "      <th></th>\n",
       "      <th>ALICE</th>\n",
       "      <th>ATLAS</th>\n",
       "      <th>CMS</th>\n",
       "      <th>Country</th>\n",
       "      <th>Federation</th>\n",
       "      <th>LHCb</th>\n",
       "      <th>PledgeType</th>\n",
       "      <th>PledgeUnit</th>\n",
       "      <th>Tier</th>\n",
       "    </tr>\n",
       "  </thead>\n",
       "  <tbody>\n",
       "    <tr>\n",
       "      <th>count</th>\n",
       "      <td>189</td>\n",
       "      <td>189</td>\n",
       "      <td>189</td>\n",
       "      <td>189</td>\n",
       "      <td>189</td>\n",
       "      <td>189</td>\n",
       "      <td>189</td>\n",
       "      <td>189</td>\n",
       "      <td>189</td>\n",
       "    </tr>\n",
       "    <tr>\n",
       "      <th>unique</th>\n",
       "      <td>71</td>\n",
       "      <td>107</td>\n",
       "      <td>82</td>\n",
       "      <td>41</td>\n",
       "      <td>87</td>\n",
       "      <td>50</td>\n",
       "      <td>3</td>\n",
       "      <td>2</td>\n",
       "      <td>3</td>\n",
       "    </tr>\n",
       "    <tr>\n",
       "      <th>top</th>\n",
       "      <td></td>\n",
       "      <td></td>\n",
       "      <td></td>\n",
       "      <td>USA</td>\n",
       "      <td>ES-PIC</td>\n",
       "      <td></td>\n",
       "      <td>Disk</td>\n",
       "      <td>Tbytes</td>\n",
       "      <td>Tier 2</td>\n",
       "    </tr>\n",
       "    <tr>\n",
       "      <th>freq</th>\n",
       "      <td>114</td>\n",
       "      <td>71</td>\n",
       "      <td>92</td>\n",
       "      <td>32</td>\n",
       "      <td>3</td>\n",
       "      <td>133</td>\n",
       "      <td>87</td>\n",
       "      <td>102</td>\n",
       "      <td>144</td>\n",
       "    </tr>\n",
       "  </tbody>\n",
       "</table>\n",
       "</div>"
      ],
      "text/plain": [
       "       ALICE ATLAS  CMS Country Federation LHCb PledgeType PledgeUnit    Tier\n",
       "count    189   189  189     189        189  189        189        189     189\n",
       "unique    71   107   82      41         87   50          3          2       3\n",
       "top                         USA     ES-PIC            Disk     Tbytes  Tier 2\n",
       "freq     114    71   92      32          3  133         87        102     144"
      ]
     },
     "execution_count": 51,
     "metadata": {},
     "output_type": "execute_result"
    }
   ],
   "source": [
    "dwlcg.describe() # not very meaningful, data too inhomogenous"
   ]
  },
  {
   "cell_type": "code",
   "execution_count": null,
   "metadata": {
    "collapsed": false
   },
   "outputs": [],
   "source": [
    "dwlcg.ATLAS.mean() # select col ATLAS and try to get mean\n",
    "# "
   ]
  },
  {
   "cell_type": "markdown",
   "metadata": {},
   "source": [
    "Gives error:  \n",
    "Empty fields had been filled as empty string (\"\"), therefore columns which should contain numeric data have mix of numeric and string data and are treated as un-specific   *object* data type."
   ]
  },
  {
   "cell_type": "code",
   "execution_count": 53,
   "metadata": {
    "collapsed": false
   },
   "outputs": [
    {
     "name": "stdout",
     "output_type": "stream",
     "text": [
      "ATLAS 118 12628.050847457627\n",
      "CMS 97 13201.164948453608\n",
      "ALICE 75 7744.32\n",
      "LHCb 56 5305.553571428572\n"
     ]
    }
   ],
   "source": [
    "# fix by enforcing conversion into numeric field\n",
    "for s in ['ATLAS','CMS','ALICE','LHCb']:\n",
    "    dwlcg[s]=dwlcg[s].apply(pd.to_numeric)\n",
    "    print (s, dwlcg[s].count(), dwlcg[s].mean())\n"
   ]
  },
  {
   "cell_type": "code",
   "execution_count": 55,
   "metadata": {
    "collapsed": false
   },
   "outputs": [
    {
     "name": "stdout",
     "output_type": "stream",
     "text": [
      "<class 'pandas.core.frame.DataFrame'>\n",
      "Int64Index: 189 entries, 0 to 188\n",
      "Data columns (total 9 columns):\n",
      "ALICE         75 non-null float64\n",
      "ATLAS         118 non-null float64\n",
      "CMS           97 non-null float64\n",
      "Country       189 non-null object\n",
      "Federation    189 non-null object\n",
      "LHCb          56 non-null float64\n",
      "PledgeType    189 non-null object\n",
      "PledgeUnit    189 non-null object\n",
      "Tier          189 non-null object\n",
      "dtypes: float64(4), object(5)\n",
      "memory usage: 14.8+ KB\n"
     ]
    }
   ],
   "source": [
    "dwlcg.info()"
   ]
  },
  {
   "cell_type": "code",
   "execution_count": 56,
   "metadata": {
    "collapsed": false
   },
   "outputs": [
    {
     "data": {
      "text/plain": [
       "12628.050847457627"
      ]
     },
     "execution_count": 56,
     "metadata": {},
     "output_type": "execute_result"
    }
   ],
   "source": [
    "dwlcg.ATLAS.mean() # now mean works ok"
   ]
  },
  {
   "cell_type": "markdown",
   "metadata": {},
   "source": [
    "Still not meaningfull, mix of different types of resources"
   ]
  },
  {
   "cell_type": "code",
   "execution_count": 57,
   "metadata": {
    "collapsed": false
   },
   "outputs": [
    {
     "data": {
      "text/plain": [
       "PledgeType\n",
       "CPU     24082.113208\n",
       "Disk     2086.188679\n",
       "Tape     8599.166667\n",
       "Name: ATLAS, dtype: float64"
      ]
     },
     "execution_count": 57,
     "metadata": {},
     "output_type": "execute_result"
    }
   ],
   "source": [
    "dwlcg.groupby(['PledgeType'])['ATLAS'].mean()"
   ]
  },
  {
   "cell_type": "markdown",
   "metadata": {},
   "source": [
    "Sum of resources for ATLAS "
   ]
  },
  {
   "cell_type": "code",
   "execution_count": 58,
   "metadata": {
    "collapsed": false
   },
   "outputs": [
    {
     "data": {
      "text/html": [
       "<div>\n",
       "<table border=\"1\" class=\"dataframe\">\n",
       "  <thead>\n",
       "    <tr style=\"text-align: right;\">\n",
       "      <th></th>\n",
       "      <th>ALICE</th>\n",
       "      <th>ATLAS</th>\n",
       "      <th>CMS</th>\n",
       "      <th>LHCb</th>\n",
       "    </tr>\n",
       "    <tr>\n",
       "      <th>PledgeType</th>\n",
       "      <th></th>\n",
       "      <th></th>\n",
       "      <th></th>\n",
       "      <th></th>\n",
       "    </tr>\n",
       "  </thead>\n",
       "  <tbody>\n",
       "    <tr>\n",
       "      <th>CPU</th>\n",
       "      <td>15277.666667</td>\n",
       "      <td>24082.113208</td>\n",
       "      <td>25139.931818</td>\n",
       "      <td>9452.48</td>\n",
       "    </tr>\n",
       "    <tr>\n",
       "      <th>Disk</th>\n",
       "      <td>1407.484848</td>\n",
       "      <td>2086.188679</td>\n",
       "      <td>1610.266667</td>\n",
       "      <td>935.00</td>\n",
       "    </tr>\n",
       "    <tr>\n",
       "      <th>Tape</th>\n",
       "      <td>3357.111111</td>\n",
       "      <td>8599.166667</td>\n",
       "      <td>12736.750000</td>\n",
       "      <td>4911.75</td>\n",
       "    </tr>\n",
       "  </tbody>\n",
       "</table>\n",
       "</div>"
      ],
      "text/plain": [
       "                   ALICE         ATLAS           CMS     LHCb\n",
       "PledgeType                                                   \n",
       "CPU         15277.666667  24082.113208  25139.931818  9452.48\n",
       "Disk         1407.484848   2086.188679   1610.266667   935.00\n",
       "Tape         3357.111111   8599.166667  12736.750000  4911.75"
      ]
     },
     "execution_count": 58,
     "metadata": {},
     "output_type": "execute_result"
    }
   ],
   "source": [
    "dwlcg.groupby(['PledgeType']).mean() # for all"
   ]
  },
  {
   "cell_type": "markdown",
   "metadata": {},
   "source": [
    "Further breakdown by country:"
   ]
  },
  {
   "cell_type": "code",
   "execution_count": 59,
   "metadata": {
    "collapsed": false
   },
   "outputs": [
    {
     "data": {
      "text/plain": [
       "PledgeType  Country           \n",
       "CPU         Australia              10700.0\n",
       "            Austria                 1857.0\n",
       "            Belgium                    NaN\n",
       "            Brazil                     NaN\n",
       "            Canada                 72700.0\n",
       "            China                   5780.0\n",
       "            Czech Republic         13000.0\n",
       "            Estonia                    NaN\n",
       "            Finland                    NaN\n",
       "            France                104167.0\n",
       "            Germany               102223.0\n",
       "            Greece                  1126.0\n",
       "            Hungary                    NaN\n",
       "            India                      NaN\n",
       "            Israel                  7000.0\n",
       "            Italy                  87300.0\n",
       "            Japan                  24000.0\n",
       "            Latin America           7840.0\n",
       "            Malaysia                   NaN\n",
       "            Mexico                     NaN\n",
       "            Netherlands            39600.0\n",
       "            Nordic                 28110.0\n",
       "            Pakistan                   NaN\n",
       "            Poland                  6700.0\n",
       "            Portugal                3000.0\n",
       "            Republic of Korea          NaN\n",
       "            Romania                19700.0\n",
       "            Russian Federation     59607.0\n",
       "            Slovakia                5200.0\n",
       "            Slovenia               20000.0\n",
       "                                    ...   \n",
       "Disk        Portugal                 190.0\n",
       "            Republic of Korea          NaN\n",
       "            Romania                 1087.0\n",
       "            Russian Federation      4843.0\n",
       "            Slovakia                 300.0\n",
       "            Slovenia                1500.0\n",
       "            South Africa               NaN\n",
       "            Spain                   5086.0\n",
       "            Sweden                   520.0\n",
       "            Switzerland            15225.0\n",
       "            Taipei                   455.0\n",
       "            Taiwan                  2700.0\n",
       "            Thailand                   NaN\n",
       "            Turkey                   550.0\n",
       "            UK                      9800.0\n",
       "            USA                    21700.0\n",
       "            Ukraine                    NaN\n",
       "Tape        Canada                  6500.0\n",
       "            France                  6760.0\n",
       "            Germany                 8125.0\n",
       "            Italy                   5850.0\n",
       "            Netherlands             6015.0\n",
       "            Nordic                  3540.0\n",
       "            Republic of Korea          NaN\n",
       "            Russian Federation      2960.0\n",
       "            Spain                   3315.0\n",
       "            Switzerland            33000.0\n",
       "            Taiwan                  4000.0\n",
       "            UK                      8125.0\n",
       "            USA                    15000.0\n",
       "Name: ATLAS, dtype: float64"
      ]
     },
     "execution_count": 59,
     "metadata": {},
     "output_type": "execute_result"
    }
   ],
   "source": [
    "dwlcg.groupby(['PledgeType','Country'])['ATLAS'].sum()"
   ]
  },
  {
   "cell_type": "code",
   "execution_count": 60,
   "metadata": {
    "collapsed": false
   },
   "outputs": [
    {
     "name": "stdout",
     "output_type": "stream",
     "text": [
      "Country\n",
      "Australia              10700.0\n",
      "Austria                 1857.0\n",
      "Belgium                    NaN\n",
      "Brazil                     NaN\n",
      "Canada                 72700.0\n",
      "China                   5780.0\n",
      "Czech Republic         13000.0\n",
      "Estonia                    NaN\n",
      "Finland                    NaN\n",
      "France                104167.0\n",
      "Germany               102223.0\n",
      "Greece                  1126.0\n",
      "Hungary                    NaN\n",
      "India                      NaN\n",
      "Israel                  7000.0\n",
      "Italy                  87300.0\n",
      "Japan                  24000.0\n",
      "Latin America           7840.0\n",
      "Malaysia                   NaN\n",
      "Mexico                     NaN\n",
      "Netherlands            39600.0\n",
      "Nordic                 28110.0\n",
      "Pakistan                   NaN\n",
      "Poland                  6700.0\n",
      "Portugal                3000.0\n",
      "Republic of Korea          NaN\n",
      "Romania                19700.0\n",
      "Russian Federation     59607.0\n",
      "Slovakia                5200.0\n",
      "Slovenia               20000.0\n",
      "South Africa               NaN\n",
      "Spain                  49050.0\n",
      "Sweden                  5050.0\n",
      "Switzerland           234000.0\n",
      "Taipei                  3654.0\n",
      "Taiwan                 20639.0\n",
      "Thailand                   NaN\n",
      "Turkey                  5100.0\n",
      "UK                    108249.0\n",
      "USA                   231000.0\n",
      "Ukraine                    NaN\n",
      "Name: ATLAS, dtype: float64\n",
      "CPU UK: 108249.0\n"
     ]
    },
    {
     "data": {
      "text/plain": [
       "PledgeType\n",
       "CPU     108249.0\n",
       "Disk      9800.0\n",
       "Tape      8125.0\n",
       "Name: ATLAS, dtype: float64"
      ]
     },
     "execution_count": 60,
     "metadata": {},
     "output_type": "execute_result"
    }
   ],
   "source": [
    "# can also be further  used:\n",
    "r = dwlcg.groupby(['PledgeType','Country'])['ATLAS'].sum()\n",
    "print (r['CPU'])\n",
    "print ('CPU UK:', r['CPU','UK'])\n",
    "r[:,'UK']\n"
   ]
  },
  {
   "cell_type": "code",
   "execution_count": 61,
   "metadata": {
    "collapsed": true
   },
   "outputs": [],
   "source": [
    "dr=r.unstack() # back to regular dataframe"
   ]
  },
  {
   "cell_type": "code",
   "execution_count": 62,
   "metadata": {
    "collapsed": false
   },
   "outputs": [
    {
     "data": {
      "text/html": [
       "<div>\n",
       "<table border=\"1\" class=\"dataframe\">\n",
       "  <thead>\n",
       "    <tr style=\"text-align: right;\">\n",
       "      <th>Country</th>\n",
       "      <th>Australia</th>\n",
       "      <th>Austria</th>\n",
       "      <th>Belgium</th>\n",
       "      <th>Brazil</th>\n",
       "      <th>Canada</th>\n",
       "      <th>China</th>\n",
       "      <th>Czech Republic</th>\n",
       "      <th>Estonia</th>\n",
       "      <th>Finland</th>\n",
       "      <th>France</th>\n",
       "      <th>...</th>\n",
       "      <th>Spain</th>\n",
       "      <th>Sweden</th>\n",
       "      <th>Switzerland</th>\n",
       "      <th>Taipei</th>\n",
       "      <th>Taiwan</th>\n",
       "      <th>Thailand</th>\n",
       "      <th>Turkey</th>\n",
       "      <th>UK</th>\n",
       "      <th>USA</th>\n",
       "      <th>Ukraine</th>\n",
       "    </tr>\n",
       "    <tr>\n",
       "      <th>PledgeType</th>\n",
       "      <th></th>\n",
       "      <th></th>\n",
       "      <th></th>\n",
       "      <th></th>\n",
       "      <th></th>\n",
       "      <th></th>\n",
       "      <th></th>\n",
       "      <th></th>\n",
       "      <th></th>\n",
       "      <th></th>\n",
       "      <th></th>\n",
       "      <th></th>\n",
       "      <th></th>\n",
       "      <th></th>\n",
       "      <th></th>\n",
       "      <th></th>\n",
       "      <th></th>\n",
       "      <th></th>\n",
       "      <th></th>\n",
       "      <th></th>\n",
       "      <th></th>\n",
       "    </tr>\n",
       "  </thead>\n",
       "  <tbody>\n",
       "    <tr>\n",
       "      <th>CPU</th>\n",
       "      <td>10700.0</td>\n",
       "      <td>1857.0</td>\n",
       "      <td>NaN</td>\n",
       "      <td>NaN</td>\n",
       "      <td>72700.0</td>\n",
       "      <td>5780.0</td>\n",
       "      <td>13000.0</td>\n",
       "      <td>NaN</td>\n",
       "      <td>NaN</td>\n",
       "      <td>104167.0</td>\n",
       "      <td>...</td>\n",
       "      <td>49050.0</td>\n",
       "      <td>5050.0</td>\n",
       "      <td>234000.0</td>\n",
       "      <td>3654.0</td>\n",
       "      <td>20639.0</td>\n",
       "      <td>NaN</td>\n",
       "      <td>5100.0</td>\n",
       "      <td>108249.0</td>\n",
       "      <td>231000.0</td>\n",
       "      <td>NaN</td>\n",
       "    </tr>\n",
       "    <tr>\n",
       "      <th>Disk</th>\n",
       "      <td>900.0</td>\n",
       "      <td>120.0</td>\n",
       "      <td>NaN</td>\n",
       "      <td>NaN</td>\n",
       "      <td>6650.0</td>\n",
       "      <td>320.0</td>\n",
       "      <td>1600.0</td>\n",
       "      <td>NaN</td>\n",
       "      <td>NaN</td>\n",
       "      <td>10055.0</td>\n",
       "      <td>...</td>\n",
       "      <td>5086.0</td>\n",
       "      <td>520.0</td>\n",
       "      <td>15225.0</td>\n",
       "      <td>455.0</td>\n",
       "      <td>2700.0</td>\n",
       "      <td>NaN</td>\n",
       "      <td>550.0</td>\n",
       "      <td>9800.0</td>\n",
       "      <td>21700.0</td>\n",
       "      <td>NaN</td>\n",
       "    </tr>\n",
       "    <tr>\n",
       "      <th>Tape</th>\n",
       "      <td>NaN</td>\n",
       "      <td>NaN</td>\n",
       "      <td>NaN</td>\n",
       "      <td>NaN</td>\n",
       "      <td>6500.0</td>\n",
       "      <td>NaN</td>\n",
       "      <td>NaN</td>\n",
       "      <td>NaN</td>\n",
       "      <td>NaN</td>\n",
       "      <td>6760.0</td>\n",
       "      <td>...</td>\n",
       "      <td>3315.0</td>\n",
       "      <td>NaN</td>\n",
       "      <td>33000.0</td>\n",
       "      <td>NaN</td>\n",
       "      <td>4000.0</td>\n",
       "      <td>NaN</td>\n",
       "      <td>NaN</td>\n",
       "      <td>8125.0</td>\n",
       "      <td>15000.0</td>\n",
       "      <td>NaN</td>\n",
       "    </tr>\n",
       "  </tbody>\n",
       "</table>\n",
       "<p>3 rows × 41 columns</p>\n",
       "</div>"
      ],
      "text/plain": [
       "Country     Australia  Austria  Belgium  Brazil   Canada   China  \\\n",
       "PledgeType                                                         \n",
       "CPU           10700.0   1857.0      NaN     NaN  72700.0  5780.0   \n",
       "Disk            900.0    120.0      NaN     NaN   6650.0   320.0   \n",
       "Tape              NaN      NaN      NaN     NaN   6500.0     NaN   \n",
       "\n",
       "Country     Czech Republic  Estonia  Finland    France   ...       Spain  \\\n",
       "PledgeType                                               ...               \n",
       "CPU                13000.0      NaN      NaN  104167.0   ...     49050.0   \n",
       "Disk                1600.0      NaN      NaN   10055.0   ...      5086.0   \n",
       "Tape                   NaN      NaN      NaN    6760.0   ...      3315.0   \n",
       "\n",
       "Country     Sweden  Switzerland  Taipei   Taiwan  Thailand  Turkey        UK  \\\n",
       "PledgeType                                                                     \n",
       "CPU         5050.0     234000.0  3654.0  20639.0       NaN  5100.0  108249.0   \n",
       "Disk         520.0      15225.0   455.0   2700.0       NaN   550.0    9800.0   \n",
       "Tape           NaN      33000.0     NaN   4000.0       NaN     NaN    8125.0   \n",
       "\n",
       "Country          USA  Ukraine  \n",
       "PledgeType                     \n",
       "CPU         231000.0      NaN  \n",
       "Disk         21700.0      NaN  \n",
       "Tape         15000.0      NaN  \n",
       "\n",
       "[3 rows x 41 columns]"
      ]
     },
     "execution_count": 62,
     "metadata": {},
     "output_type": "execute_result"
    }
   ],
   "source": [
    "dr.head()"
   ]
  },
  {
   "cell_type": "code",
   "execution_count": 63,
   "metadata": {
    "collapsed": false
   },
   "outputs": [
    {
     "data": {
      "text/plain": [
       "PledgeType  Country  \n",
       "CPU         Australia    10700.0\n",
       "            Austria       1857.0\n",
       "            Belgium          NaN\n",
       "            Brazil           NaN\n",
       "            Canada       72700.0\n",
       "Name: ATLAS, dtype: float64"
      ]
     },
     "execution_count": 63,
     "metadata": {},
     "output_type": "execute_result"
    }
   ],
   "source": [
    "r.head()"
   ]
  },
  {
   "cell_type": "markdown",
   "metadata": {},
   "source": [
    "** Remark:**  \n",
    "Such a spreadsheet can also be regarded as multi-dimensional data format:\n",
    "1. Country\n",
    "1. Federation\n",
    "1. Experiment\n",
    "1. PledgeType\n",
    "\n",
    "For practical reasons it is stored and filled as a 2D table.\n",
    "But with groupby one can basically get back these extra dimensions."
   ]
  },
  {
   "cell_type": "markdown",
   "metadata": {},
   "source": [
    "### Fourth Example - Time series data\n",
    "Example on weather/climate data:\n",
    "\n",
    "The \"Deutsche Wetterdienst\" has an archive with many decades of daily measurements from many weatherstations all over Germany:  http://www.dwd.de/DE/leistungen/klimadatendeutschland/klarchivtagmonat.html,\n",
    "One Example is the dataset from Zugspitze Station which dates back to \n",
    "August 1, 1900.\n",
    "\n",
    "The analysis of that data is instructive, e.g. to look for effects of climate change.\n",
    "\n",
    "Pandas provides a few special methods which are very useful for time-series analysis:\n",
    "- easy selection of time-periods\n",
    "- resampling/averaging of data over arbitrary intervals\n",
    "  - days, weeks, months, years..."
   ]
  },
  {
   "cell_type": "code",
   "execution_count": null,
   "metadata": {
    "collapsed": false
   },
   "outputs": [],
   "source": [
    "import matplotlib.pyplot as plt\n",
    "import pandas as pd\n",
    "import datetime\n",
    "import numpy as np\n",
    "# csv data file from zip file dowlnoad from \n",
    "# http://www.dwd.de/DE/leistungen/klimadatendeutschland/klarchivtagmonat.html\n",
    "# Messdatum als index und Interpretation als Datum (nicht nur String) \n",
    "df=pd.read_csv('http://www-static.etp.physik.uni-muenchen.de/kurs/Computing/sw/source/produkt_klima_Tageswerte_19000801_20151231_05792.txt',';\\s*',index_col='MESS_DATUM',parse_dates=['MESS_DATUM'],skipfooter=1)\n",
    "print (df.columns)\n",
    "df.info()\n"
   ]
  },
  {
   "cell_type": "code",
   "execution_count": 114,
   "metadata": {
    "collapsed": false
   },
   "outputs": [
    {
     "data": {
      "text/html": [
       "<div>\n",
       "<table border=\"1\" class=\"dataframe\">\n",
       "  <thead>\n",
       "    <tr style=\"text-align: right;\">\n",
       "      <th></th>\n",
       "      <th>STATIONS_ID</th>\n",
       "      <th>QUALITAETS_NIVEAU</th>\n",
       "      <th>LUFTTEMPERATUR</th>\n",
       "      <th>DAMPFDRUCK</th>\n",
       "      <th>BEDECKUNGSGRAD</th>\n",
       "      <th>LUFTDRUCK_STATIONSHOEHE</th>\n",
       "      <th>REL_FEUCHTE</th>\n",
       "      <th>WINDGESCHWINDIGKEIT</th>\n",
       "      <th>LUFTTEMPERATUR_MAXIMUM</th>\n",
       "      <th>LUFTTEMPERATUR_MINIMUM</th>\n",
       "      <th>LUFTTEMP_AM_ERDB_MINIMUM</th>\n",
       "      <th>WINDSPITZE_MAXIMUM</th>\n",
       "      <th>NIEDERSCHLAGSHOEHE</th>\n",
       "      <th>NIEDERSCHLAGSHOEHE_IND</th>\n",
       "      <th>SONNENSCHEINDAUER</th>\n",
       "      <th>SCHNEEHOEHE</th>\n",
       "      <th>eor</th>\n",
       "    </tr>\n",
       "    <tr>\n",
       "      <th>MESS_DATUM</th>\n",
       "      <th></th>\n",
       "      <th></th>\n",
       "      <th></th>\n",
       "      <th></th>\n",
       "      <th></th>\n",
       "      <th></th>\n",
       "      <th></th>\n",
       "      <th></th>\n",
       "      <th></th>\n",
       "      <th></th>\n",
       "      <th></th>\n",
       "      <th></th>\n",
       "      <th></th>\n",
       "      <th></th>\n",
       "      <th></th>\n",
       "      <th></th>\n",
       "      <th></th>\n",
       "    </tr>\n",
       "  </thead>\n",
       "  <tbody>\n",
       "    <tr>\n",
       "      <th>1900-08-01</th>\n",
       "      <td>5792</td>\n",
       "      <td>5</td>\n",
       "      <td>3.6</td>\n",
       "      <td>3.9</td>\n",
       "      <td>0.0</td>\n",
       "      <td>715.3</td>\n",
       "      <td>50.0</td>\n",
       "      <td>-999.0</td>\n",
       "      <td>6.2</td>\n",
       "      <td>-3.6</td>\n",
       "      <td>-999</td>\n",
       "      <td>-999.0</td>\n",
       "      <td>-999.0</td>\n",
       "      <td>-999</td>\n",
       "      <td>15.0</td>\n",
       "      <td>5</td>\n",
       "      <td>eor</td>\n",
       "    </tr>\n",
       "    <tr>\n",
       "      <th>1900-08-02</th>\n",
       "      <td>5792</td>\n",
       "      <td>5</td>\n",
       "      <td>5.2</td>\n",
       "      <td>8.3</td>\n",
       "      <td>5.0</td>\n",
       "      <td>713.7</td>\n",
       "      <td>88.0</td>\n",
       "      <td>-999.0</td>\n",
       "      <td>12.6</td>\n",
       "      <td>2.2</td>\n",
       "      <td>-999</td>\n",
       "      <td>-999.0</td>\n",
       "      <td>-999.0</td>\n",
       "      <td>-999</td>\n",
       "      <td>6.2</td>\n",
       "      <td>-999</td>\n",
       "      <td>eor</td>\n",
       "    </tr>\n",
       "    <tr>\n",
       "      <th>1900-08-03</th>\n",
       "      <td>5792</td>\n",
       "      <td>5</td>\n",
       "      <td>3.7</td>\n",
       "      <td>7.9</td>\n",
       "      <td>8.0</td>\n",
       "      <td>710.6</td>\n",
       "      <td>96.0</td>\n",
       "      <td>-999.0</td>\n",
       "      <td>7.9</td>\n",
       "      <td>1.2</td>\n",
       "      <td>-999</td>\n",
       "      <td>-999.0</td>\n",
       "      <td>-999.0</td>\n",
       "      <td>-999</td>\n",
       "      <td>1.3</td>\n",
       "      <td>-999</td>\n",
       "      <td>eor</td>\n",
       "    </tr>\n",
       "    <tr>\n",
       "      <th>1900-08-04</th>\n",
       "      <td>5792</td>\n",
       "      <td>5</td>\n",
       "      <td>-0.3</td>\n",
       "      <td>6.3</td>\n",
       "      <td>8.0</td>\n",
       "      <td>706.3</td>\n",
       "      <td>98.0</td>\n",
       "      <td>-999.0</td>\n",
       "      <td>5.2</td>\n",
       "      <td>-2.8</td>\n",
       "      <td>-999</td>\n",
       "      <td>-999.0</td>\n",
       "      <td>-999.0</td>\n",
       "      <td>-999</td>\n",
       "      <td>0.0</td>\n",
       "      <td>-999</td>\n",
       "      <td>eor</td>\n",
       "    </tr>\n",
       "    <tr>\n",
       "      <th>1900-08-05</th>\n",
       "      <td>5792</td>\n",
       "      <td>5</td>\n",
       "      <td>-4.0</td>\n",
       "      <td>4.4</td>\n",
       "      <td>8.0</td>\n",
       "      <td>705.9</td>\n",
       "      <td>95.0</td>\n",
       "      <td>-999.0</td>\n",
       "      <td>-0.9</td>\n",
       "      <td>-5.4</td>\n",
       "      <td>-999</td>\n",
       "      <td>-999.0</td>\n",
       "      <td>-999.0</td>\n",
       "      <td>-999</td>\n",
       "      <td>0.0</td>\n",
       "      <td>10</td>\n",
       "      <td>eor</td>\n",
       "    </tr>\n",
       "  </tbody>\n",
       "</table>\n",
       "</div>"
      ],
      "text/plain": [
       "            STATIONS_ID  QUALITAETS_NIVEAU  LUFTTEMPERATUR  DAMPFDRUCK  \\\n",
       "MESS_DATUM                                                               \n",
       "1900-08-01         5792                  5             3.6         3.9   \n",
       "1900-08-02         5792                  5             5.2         8.3   \n",
       "1900-08-03         5792                  5             3.7         7.9   \n",
       "1900-08-04         5792                  5            -0.3         6.3   \n",
       "1900-08-05         5792                  5            -4.0         4.4   \n",
       "\n",
       "            BEDECKUNGSGRAD  LUFTDRUCK_STATIONSHOEHE  REL_FEUCHTE  \\\n",
       "MESS_DATUM                                                         \n",
       "1900-08-01             0.0                    715.3         50.0   \n",
       "1900-08-02             5.0                    713.7         88.0   \n",
       "1900-08-03             8.0                    710.6         96.0   \n",
       "1900-08-04             8.0                    706.3         98.0   \n",
       "1900-08-05             8.0                    705.9         95.0   \n",
       "\n",
       "            WINDGESCHWINDIGKEIT  LUFTTEMPERATUR_MAXIMUM  \\\n",
       "MESS_DATUM                                                \n",
       "1900-08-01               -999.0                     6.2   \n",
       "1900-08-02               -999.0                    12.6   \n",
       "1900-08-03               -999.0                     7.9   \n",
       "1900-08-04               -999.0                     5.2   \n",
       "1900-08-05               -999.0                    -0.9   \n",
       "\n",
       "            LUFTTEMPERATUR_MINIMUM  LUFTTEMP_AM_ERDB_MINIMUM  \\\n",
       "MESS_DATUM                                                     \n",
       "1900-08-01                    -3.6                      -999   \n",
       "1900-08-02                     2.2                      -999   \n",
       "1900-08-03                     1.2                      -999   \n",
       "1900-08-04                    -2.8                      -999   \n",
       "1900-08-05                    -5.4                      -999   \n",
       "\n",
       "            WINDSPITZE_MAXIMUM  NIEDERSCHLAGSHOEHE  NIEDERSCHLAGSHOEHE_IND  \\\n",
       "MESS_DATUM                                                                   \n",
       "1900-08-01              -999.0              -999.0                    -999   \n",
       "1900-08-02              -999.0              -999.0                    -999   \n",
       "1900-08-03              -999.0              -999.0                    -999   \n",
       "1900-08-04              -999.0              -999.0                    -999   \n",
       "1900-08-05              -999.0              -999.0                    -999   \n",
       "\n",
       "            SONNENSCHEINDAUER  SCHNEEHOEHE  eor  \n",
       "MESS_DATUM                                       \n",
       "1900-08-01               15.0            5  eor  \n",
       "1900-08-02                6.2         -999  eor  \n",
       "1900-08-03                1.3         -999  eor  \n",
       "1900-08-04                0.0         -999  eor  \n",
       "1900-08-05                0.0           10  eor  "
      ]
     },
     "execution_count": 114,
     "metadata": {},
     "output_type": "execute_result"
    }
   ],
   "source": [
    "df.head()"
   ]
  },
  {
   "cell_type": "code",
   "execution_count": null,
   "metadata": {
    "collapsed": false
   },
   "outputs": [],
   "source": [
    "df['LUFTTEMPERATUR']\n",
    "\n",
    "df['LUFTTEMPERATUR'].plot();\n",
    "# starke Schwankungen, kein Trend erkennbar"
   ]
  },
  {
   "cell_type": "code",
   "execution_count": null,
   "metadata": {
    "collapsed": false
   },
   "outputs": [],
   "source": [
    "# nur fuer 1 Jahr\n",
    "df['LUFTTEMPERATUR']['1901'].plot();\n",
    "# crucial to have Index recognized as date \n",
    "# to allow selection of time period ('1901'), etc"
   ]
  },
  {
   "cell_type": "code",
   "execution_count": null,
   "metadata": {
    "collapsed": false
   },
   "outputs": [],
   "source": [
    "# re-sample over year\n",
    "dfy=df['LUFTTEMPERATUR'].resample('A').mean()\n",
    "dfy.plot()\n",
    "\n"
   ]
  },
  {
   "cell_type": "code",
   "execution_count": null,
   "metadata": {
    "collapsed": false
   },
   "outputs": [],
   "source": [
    "# avg per quarter\n",
    "dfq=df['LUFTTEMPERATUR'].resample('Q-NOV').mean()\n",
    "\n",
    "# Winter\n",
    "dfq[dfq.index.quarter==1].plot()\n",
    "\n",
    "# Summer\n",
    "plt.figure()\n",
    "dfq[dfq.index.quarter==3].plot()\n",
    "\n",
    "# since 1970\n",
    "plt.figure()\n",
    "dfq[(dfq.index.quarter==3) & (dfq.index.year>1970)].plot()\n"
   ]
  },
  {
   "cell_type": "code",
   "execution_count": null,
   "metadata": {
    "collapsed": true
   },
   "outputs": [],
   "source": []
  }
 ],
 "metadata": {
  "anaconda-cloud": {},
  "kernelspec": {
   "display_name": "Python 3",
   "language": "python",
   "name": "python3"
  },
  "language_info": {
   "codemirror_mode": {
    "name": "ipython",
    "version": 3
   },
   "file_extension": ".py",
   "mimetype": "text/x-python",
   "name": "python",
   "nbconvert_exporter": "python",
   "pygments_lexer": "ipython3",
   "version": "3.6.0"
  },
  "toc": {
   "nav_menu": {},
   "number_sections": true,
   "sideBar": true,
   "skip_h1_title": false,
   "title_cell": "Table of Contents",
   "title_sidebar": "Contents",
   "toc_cell": true,
   "toc_position": {
    "height": "calc(100% - 180px)",
    "left": "10px",
    "top": "150px",
    "width": "261px"
   },
   "toc_section_display": true,
   "toc_window_display": false
  }
 },
 "nbformat": 4,
 "nbformat_minor": 0
}
