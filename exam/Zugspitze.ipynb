{
 "cells": [
  {
   "cell_type": "code",
   "execution_count": 1,
   "metadata": {
    "collapsed": false
   },
   "outputs": [
    {
     "name": "stderr",
     "output_type": "stream",
     "text": [
      "/home/gduckeck/anaconda3/lib/python3.5/site-packages/ipykernel/__main__.py:8: ParserWarning: Falling back to the 'python' engine because the 'c' engine does not support skipfooter; you can avoid this warning by specifying engine='python'.\n"
     ]
    },
    {
     "name": "stdout",
     "output_type": "stream",
     "text": [
      "Index(['STATIONS_ID', 'QUALITAETS_NIVEAU', 'LUFTTEMPERATUR', 'DAMPFDRUCK',\n",
      "       'BEDECKUNGSGRAD', 'LUFTDRUCK_STATIONSHOEHE', 'REL_FEUCHTE',\n",
      "       'WINDGESCHWINDIGKEIT', 'LUFTTEMPERATUR_MAXIMUM',\n",
      "       'LUFTTEMPERATUR_MINIMUM', 'LUFTTEMP_AM_ERDB_MINIMUM',\n",
      "       'WINDSPITZE_MAXIMUM', 'NIEDERSCHLAGSHOEHE', 'NIEDERSCHLAGSHOEHE_IND',\n",
      "       'SONNENSCHEINDAUER', 'SCHNEEHOEHE', 'eor'],\n",
      "      dtype='object')\n",
      "<class 'pandas.core.frame.DataFrame'>\n",
      "DatetimeIndex: 42050 entries, 1900-08-01 to 2015-12-31\n",
      "Data columns (total 17 columns):\n",
      "STATIONS_ID                 42050 non-null int64\n",
      "QUALITAETS_NIVEAU           42050 non-null int64\n",
      "LUFTTEMPERATUR              42050 non-null float64\n",
      "DAMPFDRUCK                  42050 non-null float64\n",
      "BEDECKUNGSGRAD              42050 non-null float64\n",
      "LUFTDRUCK_STATIONSHOEHE     42050 non-null float64\n",
      "REL_FEUCHTE                 42050 non-null float64\n",
      "WINDGESCHWINDIGKEIT         42050 non-null float64\n",
      "LUFTTEMPERATUR_MAXIMUM      42050 non-null float64\n",
      "LUFTTEMPERATUR_MINIMUM      42050 non-null float64\n",
      "LUFTTEMP_AM_ERDB_MINIMUM    42050 non-null int64\n",
      "WINDSPITZE_MAXIMUM          42050 non-null float64\n",
      "NIEDERSCHLAGSHOEHE          42050 non-null float64\n",
      "NIEDERSCHLAGSHOEHE_IND      42050 non-null int64\n",
      "SONNENSCHEINDAUER           42050 non-null float64\n",
      "SCHNEEHOEHE                 42050 non-null int64\n",
      "eor                         42050 non-null object\n",
      "dtypes: float64(11), int64(5), object(1)\n",
      "memory usage: 5.8+ MB\n"
     ]
    }
   ],
   "source": [
    "import matplotlib.pyplot as plt\n",
    "import pandas as pd\n",
    "import datetime\n",
    "import numpy as np\n",
    "# csv data file from zip file dowlnoad from \n",
    "# http://www.dwd.de/DE/leistungen/klimadatendeutschland/klarchivtagmonat.html\n",
    "# Messdatum als index und Interpretation als Datum (nicht nur String) \n",
    "df=pd.read_csv('http://www-static.etp.physik.uni-muenchen.de/kurs/Computing/sw/source/produkt_klima_Tageswerte_19000801_20151231_05792.txt',';\\s*',index_col='MESS_DATUM',parse_dates=['MESS_DATUM'],skipfooter=1)\n",
    "print (df.columns)\n",
    "df.info()\n"
   ]
  },
  {
   "cell_type": "code",
   "execution_count": null,
   "metadata": {
    "collapsed": true
   },
   "outputs": [],
   "source": []
  }
 ],
 "metadata": {
  "anaconda-cloud": {},
  "kernelspec": {
   "display_name": "Python [Root]",
   "language": "python",
   "name": "Python [Root]"
  },
  "language_info": {
   "codemirror_mode": {
    "name": "ipython",
    "version": 3
   },
   "file_extension": ".py",
   "mimetype": "text/x-python",
   "name": "python",
   "nbconvert_exporter": "python",
   "pygments_lexer": "ipython3",
   "version": "3.5.2"
  },
  "toc": {
   "nav_menu": {},
   "number_sections": true,
   "sideBar": true,
   "skip_h1_title": false,
   "title_cell": "Table of Contents",
   "title_sidebar": "Contents",
   "toc_cell": false,
   "toc_position": {},
   "toc_section_display": true,
   "toc_window_display": false
  }
 },
 "nbformat": 4,
 "nbformat_minor": 0
}
