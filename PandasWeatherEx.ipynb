{
 "cells": [
  {
   "cell_type": "code",
   "execution_count": 7,
   "metadata": {},
   "outputs": [
    {
     "name": "stderr",
     "output_type": "stream",
     "text": [
      "/software/opt/xenial/x86_64/anaconda3/5.1/lib/python3.6/site-packages/ipykernel_launcher.py:8: ParserWarning: Falling back to the 'python' engine because the 'c' engine does not support skipfooter; you can avoid this warning by specifying engine='python'.\n",
      "  \n"
     ]
    },
    {
     "name": "stdout",
     "output_type": "stream",
     "text": [
      "Index(['STATIONS_ID', 'QUALITAETS_NIVEAU', 'LUFTTEMPERATUR', 'DAMPFDRUCK',\n",
      "       'BEDECKUNGSGRAD', 'LUFTDRUCK_STATIONSHOEHE', 'REL_FEUCHTE',\n",
      "       'WINDGESCHWINDIGKEIT', 'LUFTTEMPERATUR_MAXIMUM',\n",
      "       'LUFTTEMPERATUR_MINIMUM', 'LUFTTEMP_AM_ERDB_MINIMUM',\n",
      "       'WINDSPITZE_MAXIMUM', 'NIEDERSCHLAGSHOEHE', 'NIEDERSCHLAGSHOEHE_IND',\n",
      "       'SONNENSCHEINDAUER', 'SCHNEEHOEHE', 'eor'],\n",
      "      dtype='object')\n",
      "<class 'pandas.core.frame.DataFrame'>\n",
      "DatetimeIndex: 42050 entries, 1900-08-01 to 2015-12-31\n",
      "Data columns (total 17 columns):\n",
      "STATIONS_ID                 42050 non-null int64\n",
      "QUALITAETS_NIVEAU           42050 non-null int64\n",
      "LUFTTEMPERATUR              42050 non-null float64\n",
      "DAMPFDRUCK                  42050 non-null float64\n",
      "BEDECKUNGSGRAD              42050 non-null float64\n",
      "LUFTDRUCK_STATIONSHOEHE     42050 non-null float64\n",
      "REL_FEUCHTE                 42050 non-null float64\n",
      "WINDGESCHWINDIGKEIT         42050 non-null float64\n",
      "LUFTTEMPERATUR_MAXIMUM      42050 non-null float64\n",
      "LUFTTEMPERATUR_MINIMUM      42050 non-null float64\n",
      "LUFTTEMP_AM_ERDB_MINIMUM    42050 non-null int64\n",
      "WINDSPITZE_MAXIMUM          42050 non-null float64\n",
      "NIEDERSCHLAGSHOEHE          42050 non-null float64\n",
      "NIEDERSCHLAGSHOEHE_IND      42050 non-null int64\n",
      "SONNENSCHEINDAUER           42050 non-null float64\n",
      "SCHNEEHOEHE                 42050 non-null int64\n",
      "eor                         42050 non-null object\n",
      "dtypes: float64(11), int64(5), object(1)\n",
      "memory usage: 5.8+ MB\n"
     ]
    }
   ],
   "source": [
    "import matplotlib.pyplot as plt\n",
    "import pandas as pd\n",
    "import datetime\n",
    "import numpy as np\n",
    "# csv data file from zip file dowlnoad from \n",
    "# http://www.dwd.de/DE/leistungen/klimadatendeutschland/klarchivtagmonat.html\n",
    "# Messdatum als index und Interpretation als Datum (nicht nur String) \n",
    "df=pd.read_csv('http://www-static.etp.physik.uni-muenchen.de/kurs/Computing/sw/source/produkt_klima_Tageswerte_19000801_20151231_05792.txt',';\\s*',index_col='MESS_DATUM',parse_dates=['MESS_DATUM'],skipfooter=1)\n",
    "#df=pd.read_csv('http://www-static.etp.physik.uni-muenchen.de/kurs/Computing/sw/source/produkt_klima_Tageswerte_19000801_20151231_05792.txt',';\\s*',index_col='MESS_DATUM',skipfooter=1)\n",
    "print (df.columns)\n",
    "df.info()\n"
   ]
  },
  {
   "cell_type": "code",
   "execution_count": 8,
   "metadata": {},
   "outputs": [
    {
     "data": {
      "text/html": [
       "<div>\n",
       "<style scoped>\n",
       "    .dataframe tbody tr th:only-of-type {\n",
       "        vertical-align: middle;\n",
       "    }\n",
       "\n",
       "    .dataframe tbody tr th {\n",
       "        vertical-align: top;\n",
       "    }\n",
       "\n",
       "    .dataframe thead th {\n",
       "        text-align: right;\n",
       "    }\n",
       "</style>\n",
       "<table border=\"1\" class=\"dataframe\">\n",
       "  <thead>\n",
       "    <tr style=\"text-align: right;\">\n",
       "      <th></th>\n",
       "      <th>STATIONS_ID</th>\n",
       "      <th>QUALITAETS_NIVEAU</th>\n",
       "      <th>LUFTTEMPERATUR</th>\n",
       "      <th>DAMPFDRUCK</th>\n",
       "      <th>BEDECKUNGSGRAD</th>\n",
       "      <th>LUFTDRUCK_STATIONSHOEHE</th>\n",
       "      <th>REL_FEUCHTE</th>\n",
       "      <th>WINDGESCHWINDIGKEIT</th>\n",
       "      <th>LUFTTEMPERATUR_MAXIMUM</th>\n",
       "      <th>LUFTTEMPERATUR_MINIMUM</th>\n",
       "      <th>LUFTTEMP_AM_ERDB_MINIMUM</th>\n",
       "      <th>WINDSPITZE_MAXIMUM</th>\n",
       "      <th>NIEDERSCHLAGSHOEHE</th>\n",
       "      <th>NIEDERSCHLAGSHOEHE_IND</th>\n",
       "      <th>SONNENSCHEINDAUER</th>\n",
       "      <th>SCHNEEHOEHE</th>\n",
       "      <th>eor</th>\n",
       "    </tr>\n",
       "    <tr>\n",
       "      <th>MESS_DATUM</th>\n",
       "      <th></th>\n",
       "      <th></th>\n",
       "      <th></th>\n",
       "      <th></th>\n",
       "      <th></th>\n",
       "      <th></th>\n",
       "      <th></th>\n",
       "      <th></th>\n",
       "      <th></th>\n",
       "      <th></th>\n",
       "      <th></th>\n",
       "      <th></th>\n",
       "      <th></th>\n",
       "      <th></th>\n",
       "      <th></th>\n",
       "      <th></th>\n",
       "      <th></th>\n",
       "    </tr>\n",
       "  </thead>\n",
       "  <tbody>\n",
       "    <tr>\n",
       "      <th>1900-08-01</th>\n",
       "      <td>5792</td>\n",
       "      <td>5</td>\n",
       "      <td>3.6</td>\n",
       "      <td>3.9</td>\n",
       "      <td>0.0</td>\n",
       "      <td>715.3</td>\n",
       "      <td>50.0</td>\n",
       "      <td>-999.0</td>\n",
       "      <td>6.2</td>\n",
       "      <td>-3.6</td>\n",
       "      <td>-999</td>\n",
       "      <td>-999.0</td>\n",
       "      <td>-999.0</td>\n",
       "      <td>-999</td>\n",
       "      <td>15.0</td>\n",
       "      <td>5</td>\n",
       "      <td>eor</td>\n",
       "    </tr>\n",
       "    <tr>\n",
       "      <th>1900-08-02</th>\n",
       "      <td>5792</td>\n",
       "      <td>5</td>\n",
       "      <td>5.2</td>\n",
       "      <td>8.3</td>\n",
       "      <td>5.0</td>\n",
       "      <td>713.7</td>\n",
       "      <td>88.0</td>\n",
       "      <td>-999.0</td>\n",
       "      <td>12.6</td>\n",
       "      <td>2.2</td>\n",
       "      <td>-999</td>\n",
       "      <td>-999.0</td>\n",
       "      <td>-999.0</td>\n",
       "      <td>-999</td>\n",
       "      <td>6.2</td>\n",
       "      <td>-999</td>\n",
       "      <td>eor</td>\n",
       "    </tr>\n",
       "    <tr>\n",
       "      <th>1900-08-03</th>\n",
       "      <td>5792</td>\n",
       "      <td>5</td>\n",
       "      <td>3.7</td>\n",
       "      <td>7.9</td>\n",
       "      <td>8.0</td>\n",
       "      <td>710.6</td>\n",
       "      <td>96.0</td>\n",
       "      <td>-999.0</td>\n",
       "      <td>7.9</td>\n",
       "      <td>1.2</td>\n",
       "      <td>-999</td>\n",
       "      <td>-999.0</td>\n",
       "      <td>-999.0</td>\n",
       "      <td>-999</td>\n",
       "      <td>1.3</td>\n",
       "      <td>-999</td>\n",
       "      <td>eor</td>\n",
       "    </tr>\n",
       "    <tr>\n",
       "      <th>1900-08-04</th>\n",
       "      <td>5792</td>\n",
       "      <td>5</td>\n",
       "      <td>-0.3</td>\n",
       "      <td>6.3</td>\n",
       "      <td>8.0</td>\n",
       "      <td>706.3</td>\n",
       "      <td>98.0</td>\n",
       "      <td>-999.0</td>\n",
       "      <td>5.2</td>\n",
       "      <td>-2.8</td>\n",
       "      <td>-999</td>\n",
       "      <td>-999.0</td>\n",
       "      <td>-999.0</td>\n",
       "      <td>-999</td>\n",
       "      <td>0.0</td>\n",
       "      <td>-999</td>\n",
       "      <td>eor</td>\n",
       "    </tr>\n",
       "    <tr>\n",
       "      <th>1900-08-05</th>\n",
       "      <td>5792</td>\n",
       "      <td>5</td>\n",
       "      <td>-4.0</td>\n",
       "      <td>4.4</td>\n",
       "      <td>8.0</td>\n",
       "      <td>705.9</td>\n",
       "      <td>95.0</td>\n",
       "      <td>-999.0</td>\n",
       "      <td>-0.9</td>\n",
       "      <td>-5.4</td>\n",
       "      <td>-999</td>\n",
       "      <td>-999.0</td>\n",
       "      <td>-999.0</td>\n",
       "      <td>-999</td>\n",
       "      <td>0.0</td>\n",
       "      <td>10</td>\n",
       "      <td>eor</td>\n",
       "    </tr>\n",
       "  </tbody>\n",
       "</table>\n",
       "</div>"
      ],
      "text/plain": [
       "            STATIONS_ID  QUALITAETS_NIVEAU  LUFTTEMPERATUR  DAMPFDRUCK  \\\n",
       "MESS_DATUM                                                               \n",
       "1900-08-01         5792                  5             3.6         3.9   \n",
       "1900-08-02         5792                  5             5.2         8.3   \n",
       "1900-08-03         5792                  5             3.7         7.9   \n",
       "1900-08-04         5792                  5            -0.3         6.3   \n",
       "1900-08-05         5792                  5            -4.0         4.4   \n",
       "\n",
       "            BEDECKUNGSGRAD  LUFTDRUCK_STATIONSHOEHE  REL_FEUCHTE  \\\n",
       "MESS_DATUM                                                         \n",
       "1900-08-01             0.0                    715.3         50.0   \n",
       "1900-08-02             5.0                    713.7         88.0   \n",
       "1900-08-03             8.0                    710.6         96.0   \n",
       "1900-08-04             8.0                    706.3         98.0   \n",
       "1900-08-05             8.0                    705.9         95.0   \n",
       "\n",
       "            WINDGESCHWINDIGKEIT  LUFTTEMPERATUR_MAXIMUM  \\\n",
       "MESS_DATUM                                                \n",
       "1900-08-01               -999.0                     6.2   \n",
       "1900-08-02               -999.0                    12.6   \n",
       "1900-08-03               -999.0                     7.9   \n",
       "1900-08-04               -999.0                     5.2   \n",
       "1900-08-05               -999.0                    -0.9   \n",
       "\n",
       "            LUFTTEMPERATUR_MINIMUM  LUFTTEMP_AM_ERDB_MINIMUM  \\\n",
       "MESS_DATUM                                                     \n",
       "1900-08-01                    -3.6                      -999   \n",
       "1900-08-02                     2.2                      -999   \n",
       "1900-08-03                     1.2                      -999   \n",
       "1900-08-04                    -2.8                      -999   \n",
       "1900-08-05                    -5.4                      -999   \n",
       "\n",
       "            WINDSPITZE_MAXIMUM  NIEDERSCHLAGSHOEHE  NIEDERSCHLAGSHOEHE_IND  \\\n",
       "MESS_DATUM                                                                   \n",
       "1900-08-01              -999.0              -999.0                    -999   \n",
       "1900-08-02              -999.0              -999.0                    -999   \n",
       "1900-08-03              -999.0              -999.0                    -999   \n",
       "1900-08-04              -999.0              -999.0                    -999   \n",
       "1900-08-05              -999.0              -999.0                    -999   \n",
       "\n",
       "            SONNENSCHEINDAUER  SCHNEEHOEHE  eor  \n",
       "MESS_DATUM                                       \n",
       "1900-08-01               15.0            5  eor  \n",
       "1900-08-02                6.2         -999  eor  \n",
       "1900-08-03                1.3         -999  eor  \n",
       "1900-08-04                0.0         -999  eor  \n",
       "1900-08-05                0.0           10  eor  "
      ]
     },
     "execution_count": 8,
     "metadata": {},
     "output_type": "execute_result"
    }
   ],
   "source": [
    "df.head()"
   ]
  },
  {
   "cell_type": "code",
   "execution_count": 12,
   "metadata": {},
   "outputs": [
    {
     "data": {
      "text/plain": [
       "MESS_DATUM\n",
       "1900-08-31     1.793548\n",
       "1900-11-30    -2.021978\n",
       "1901-02-28   -10.910000\n",
       "1901-05-31    -7.158696\n",
       "1901-08-31     1.231522\n",
       "1901-11-30    -3.528571\n",
       "1902-02-28   -10.235556\n",
       "1902-05-31    -7.902174\n",
       "1902-08-31     0.584783\n",
       "1902-11-30    -3.228571\n",
       "1903-02-28    -9.838889\n",
       "1903-05-31    -8.036957\n",
       "1903-08-31     0.604348\n",
       "1903-11-30    -3.050549\n",
       "1904-02-29    -9.282418\n",
       "1904-05-31    -5.336957\n",
       "1904-08-31     2.440217\n",
       "1904-11-30    -4.963736\n",
       "1905-02-28   -11.824444\n",
       "1905-05-31    -6.917391\n",
       "1905-08-31     2.491304\n",
       "1905-11-30    -5.926374\n",
       "1906-02-28   -10.554444\n",
       "1906-05-31    -6.515217\n",
       "1906-08-31     1.438043\n",
       "1906-11-30    -2.771429\n",
       "1907-02-28   -13.947778\n",
       "1907-05-31    -7.897826\n",
       "1907-08-31     0.832609\n",
       "1907-11-30    -1.894505\n",
       "                ...    \n",
       "2008-11-30    -3.136264\n",
       "2009-02-28   -11.355556\n",
       "2009-05-31    -5.218478\n",
       "2009-08-31     2.955435\n",
       "2009-11-30    -2.535165\n",
       "2010-02-28   -12.602222\n",
       "2010-05-31    -7.060870\n",
       "2010-08-31     2.783696\n",
       "2010-11-30    -3.921978\n",
       "2011-02-28   -11.155556\n",
       "2011-05-31    -4.117391\n",
       "2011-08-31     2.554348\n",
       "2011-11-30     0.482418\n",
       "2012-02-29   -11.718681\n",
       "2012-05-31    -4.646739\n",
       "2012-08-31     4.228261\n",
       "2012-11-30    -0.764835\n",
       "2013-02-28   -12.105556\n",
       "2013-05-31    -5.901087\n",
       "2013-08-31     3.222826\n",
       "2013-11-30    -2.603297\n",
       "2014-02-28    -8.002222\n",
       "2014-05-31    -4.753261\n",
       "2014-08-31     1.894565\n",
       "2014-11-30    -0.810989\n",
       "2015-02-28   -10.173333\n",
       "2015-05-31    -5.634783\n",
       "2015-08-31     4.913043\n",
       "2015-11-30    -2.361538\n",
       "2016-02-29    -3.241935\n",
       "Freq: Q-NOV, Name: LUFTTEMPERATUR, Length: 463, dtype: float64"
      ]
     },
     "execution_count": 12,
     "metadata": {},
     "output_type": "execute_result"
    }
   ],
   "source": [
    "dfy=df['LUFTTEMPERATUR'].resample('Q-NOV').mean()\n",
    "dfy\n"
   ]
  },
  {
   "cell_type": "code",
   "execution_count": 13,
   "metadata": {},
   "outputs": [],
   "source": [
    "df['Tmin']=df['LUFTTEMPERATUR_MINIMUM']"
   ]
  },
  {
   "cell_type": "code",
   "execution_count": 18,
   "metadata": {},
   "outputs": [
    {
     "data": {
      "text/plain": [
       "MESS_DATUM\n",
       "1905-01-01   -31.6\n",
       "1905-01-02   -34.6\n",
       "1927-12-17   -31.1\n",
       "1927-12-18   -31.1\n",
       "1929-02-14   -30.4\n",
       "1940-02-13   -34.6\n",
       "1940-02-14   -35.6\n",
       "1940-02-15   -32.3\n",
       "1956-02-14   -32.1\n",
       "1956-02-15   -30.6\n",
       "1968-01-12   -31.5\n",
       "1968-01-13   -31.5\n",
       "1971-03-05   -31.0\n",
       "1971-03-06   -30.8\n",
       "1979-01-01   -32.7\n",
       "1979-01-02   -32.7\n",
       "1985-01-05   -30.5\n",
       "1985-01-06   -30.9\n",
       "1986-02-09   -31.0\n",
       "1986-02-10   -31.0\n",
       "1987-01-12   -31.0\n",
       "Name: Tmin, dtype: float64"
      ]
     },
     "execution_count": 18,
     "metadata": {},
     "output_type": "execute_result"
    }
   ],
   "source": [
    "df.Tmin[df.Tmin<-30]"
   ]
  },
  {
   "cell_type": "code",
   "execution_count": 19,
   "metadata": {},
   "outputs": [],
   "source": [
    "df['Temp']=df['LUFTTEMPERATUR']"
   ]
  },
  {
   "cell_type": "code",
   "execution_count": 26,
   "metadata": {},
   "outputs": [
    {
     "data": {
      "text/plain": [
       "<matplotlib.axes._subplots.AxesSubplot at 0x7f96c1368588>"
      ]
     },
     "execution_count": 26,
     "metadata": {},
     "output_type": "execute_result"
    },
    {
     "data": {
      "image/png": "[encoded data removed]",
      "text/plain": [
       "<matplotlib.figure.Figure at 0x7f96c15846a0>"
      ]
     },
     "metadata": {},
     "output_type": "display_data"
    }
   ],
   "source": [
    "df.Temp[df.Temp<-10].resample('A').count().plot()"
   ]
  },
  {
   "cell_type": "code",
   "execution_count": 31,
   "metadata": {
    "scrolled": true
   },
   "outputs": [
    {
     "data": {
      "image/png": "[encoded data removed]",
      "text/plain": [
       "<matplotlib.figure.Figure at 0x7f96c0b4c8d0>"
      ]
     },
     "metadata": {},
     "output_type": "display_data"
    }
   ],
   "source": [
    "import numpy as np\n",
    "import matplotlib.pyplot as plt\n",
    "\n",
    "# demonstrate overlaying several histos\n",
    "x1 = np.random.normal(0, 0.8, 1000)\n",
    "x2 = np.random.normal(-2, 1, 1000)\n",
    "x3 = np.random.normal(3, 2, 1000)\n",
    "\n",
    "# Options: normed=True -- normalized to 1\n",
    "# alpha=0.3 -- transparency of fill\n",
    "# histtype='stepfilled' -- only filled bar, no line in between\n",
    "kwargs = dict(histtype='stepfilled', alpha=0.3, normed=False, bins=40)\n",
    "\n",
    "h,bins,p=plt.hist(x1, **kwargs)\n",
    "#plt.hist(x2, **kwargs)\n",
    "#plt.hist(x3, **kwargs);"
   ]
  },
  {
   "cell_type": "code",
   "execution_count": 30,
   "metadata": {},
   "outputs": [],
   "source": [
    "plt.hist?"
   ]
  },
  {
   "cell_type": "code",
   "execution_count": 34,
   "metadata": {},
   "outputs": [
    {
     "data": {
      "text/plain": [
       "array([-2.90493302, -2.76551585, -2.62609869, -2.48668152, -2.34726435,\n",
       "       -2.20784718, -2.06843001, -1.92901284, -1.78959567, -1.6501785 ,\n",
       "       -1.51076134, -1.37134417, -1.231927  , -1.09250983, -0.95309266,\n",
       "       -0.81367549, -0.67425832, -0.53484115, -0.39542399, -0.25600682,\n",
       "       -0.11658965,  0.02282752,  0.16224469,  0.30166186,  0.44107903,\n",
       "        0.5804962 ,  0.71991336,  0.85933053,  0.9987477 ,  1.13816487,\n",
       "        1.27758204,  1.41699921,  1.55641638,  1.69583355,  1.83525071,\n",
       "        1.97466788,  2.11408505,  2.25350222,  2.39291939,  2.53233656,\n",
       "        2.67175373])"
      ]
     },
     "execution_count": 34,
     "metadata": {},
     "output_type": "execute_result"
    }
   ],
   "source": [
    "bins"
   ]
  },
  {
   "cell_type": "code",
   "execution_count": 36,
   "metadata": {},
   "outputs": [],
   "source": [
    "db=bins[1]-bins[0]"
   ]
  },
  {
   "cell_type": "code",
   "execution_count": 40,
   "metadata": {},
   "outputs": [],
   "source": [
    "binx=bins[:-1]+db/2.\n"
   ]
  },
  {
   "cell_type": "code",
   "execution_count": 47,
   "metadata": {},
   "outputs": [
    {
     "data": {
      "text/plain": [
       "<Container object of 40 artists>"
      ]
     },
     "execution_count": 47,
     "metadata": {},
     "output_type": "execute_result"
    },
    {
     "data": {
      "image/png": "[encoded data removed]",
      "text/plain": [
       "<matplotlib.figure.Figure at 0x7f96c1157160>"
      ]
     },
     "metadata": {},
     "output_type": "display_data"
    }
   ],
   "source": [
    "plt.bar(binx,h,width=db)"
   ]
  },
  {
   "cell_type": "code",
   "execution_count": 46,
   "metadata": {},
   "outputs": [],
   "source": [
    "plt.bar?"
   ]
  },
  {
   "cell_type": "code",
   "execution_count": 48,
   "metadata": {},
   "outputs": [],
   "source": [
    "import seaborn as sns\n",
    "sns.lmplot?"
   ]
  },
  {
   "cell_type": "code",
   "execution_count": null,
   "metadata": {},
   "outputs": [],
   "source": []
  }
 ],
 "metadata": {
  "kernelspec": {
   "display_name": "Python 3",
   "language": "python",
   "name": "python3"
  },
  "language_info": {
   "codemirror_mode": {
    "name": "ipython",
    "version": 3
   },
   "file_extension": ".py",
   "mimetype": "text/x-python",
   "name": "python",
   "nbconvert_exporter": "python",
   "pygments_lexer": "ipython3",
   "version": "3.6.4"
  },
  "toc": {
   "nav_menu": {},
   "number_sections": true,
   "sideBar": true,
   "skip_h1_title": false,
   "title_cell": "Table of Contents",
   "title_sidebar": "Contents",
   "toc_cell": false,
   "toc_position": {},
   "toc_section_display": true,
   "toc_window_display": false
  }
 },
 "nbformat": 4,
 "nbformat_minor": 2
}
