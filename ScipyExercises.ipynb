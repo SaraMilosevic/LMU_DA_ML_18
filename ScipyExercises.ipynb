{
 "cells": [
  {
   "cell_type": "markdown",
   "metadata": {
    "toc": true
   },
   "source": [
    "<h1>Table of Contents<span class=\"tocSkip\"></span></h1>\n",
    "<div class=\"toc\"><ul class=\"toc-item\"><li><span><a href=\"#Exercises-for-Numpy,-Scipy-and-Matplotlib\" data-toc-modified-id=\"Exercises-for-Numpy,-Scipy-and-Matplotlib-1\"><span class=\"toc-item-num\">1&nbsp;&nbsp;</span>Exercises for Numpy, Scipy and Matplotlib</a></span><ul class=\"toc-item\"><li><span><a href=\"#Notebook-examples\" data-toc-modified-id=\"Notebook-examples-1.1\"><span class=\"toc-item-num\">1.1&nbsp;&nbsp;</span>Notebook examples</a></span></li><li><span><a href=\"#Data-analysis-1\" data-toc-modified-id=\"Data-analysis-1-1.2\"><span class=\"toc-item-num\">1.2&nbsp;&nbsp;</span>Data-analysis-1</a></span></li><li><span><a href=\"#Data-analysis-2\" data-toc-modified-id=\"Data-analysis-2-1.3\"><span class=\"toc-item-num\">1.3&nbsp;&nbsp;</span>Data-analysis-2</a></span></li><li><span><a href=\"#Solving-differential-equation\" data-toc-modified-id=\"Solving-differential-equation-1.4\"><span class=\"toc-item-num\">1.4&nbsp;&nbsp;</span>Solving differential equation</a></span></li><li><span><a href=\"#Data-fitting---half-time-of-radioactive-source\" data-toc-modified-id=\"Data-fitting---half-time-of-radioactive-source-1.5\"><span class=\"toc-item-num\">1.5&nbsp;&nbsp;</span>Data fitting - half time of radioactive source</a></span></li><li><span><a href=\"#Polynom-fit----which-polynom-degree-is-needed?\" data-toc-modified-id=\"Polynom-fit----which-polynom-degree-is-needed?-1.6\"><span class=\"toc-item-num\">1.6&nbsp;&nbsp;</span>Polynom fit -- which polynom degree is needed?</a></span></li></ul></li></ul></div>"
   ]
  },
  {
   "cell_type": "markdown",
   "metadata": {},
   "source": [
    "## Exercises for Numpy, Scipy and Matplotlib\n",
    "\n",
    "### Notebook examples\n",
    "* Check in detail the examples presented\n",
    "* Test variations (data creation, plot options, ...)\n",
    "\n",
    "### Data-analysis-1\n",
    "The file [rohr1.dat](http://www.etp.physik.uni-muenchen.de/kurs/comp14/uebungen/source/rohr1.dat) contains a list of measurements of wire-positions of drift tubes used in the ATLAS\n",
    "Muon-Chamber Sytem   \n",
    " Read the numbers with:\n",
    " ```Ipython\n",
    "data = numpy.loadtxt('rohr1.dat')\n",
    "```\n",
    "1. Determine mean and standard-deviation *(Hint: numpy-Functions)*\n",
    "\n",
    "1. Fill the values in a histogram and plot it.\n",
    "\n",
    "In a similar way read the (x,y) coordinates of file \n",
    "[rohr2.dat](http://www.etp.physik.uni-muenchen.de/kurs/comp14/uebungen/source/rohr2.dat) using\n",
    "```Ipython\n",
    "x,y = numpy.loadtxt('rohr2.dat',unpack=True)\n",
    "```\n",
    "\n",
    "Determine for both x and y mean and standard-deviation as well as the correlation.\n",
    "\n",
    "Visualize the data:\n",
    "1. 1D histogram of both x and y\n",
    "1. (x,y) point plot\n",
    "1. 2D histogram\n",
    " \n",
    " \n",
    " \n",
    "### Data-analysis-2\n",
    "The file [faithful.csv](https://people.sc.fsu.edu/~jburkardt/data/csv/faithful.csv) contains measurement data of the **Old Faithful Geysir** , i.e. duration of the eruption and time since the last eruption.\n",
    "\n",
    "Download the file ( `wget http://...`) and read the data with numpy:\n",
    "```Ipython\n",
    "data=numpy.loadtxt('faithful.csv',delimiter=',',skiprows=1)\n",
    "```\n",
    "(Why  the options in in loadtxt(...)?)\n",
    "\n",
    "1. Determine again mean and standard-deviation for duration and wait-time\n",
    "1. Fill histograms for both values and plot it. Is it compatible with Gaussian distribution?\n",
    "1. Are there correlations between wait-time and duration or the duration of sub-sequent eruptions?\n",
    "(Make (x,y) plots for both)\n",
    "\n",
    "\n",
    "### Solving differential equation\n",
    "\n",
    "(a) Extend the example for free fall and introduce a term for air-friction:\n",
    "\n",
    "$$F_R = \\frac{1}{2} c_W \\rho_{Luft} A v^2 $$\n",
    "\n",
    "This results in a non-leinear DE which can only be solved numerically: \n",
    "\n",
    "$$ y'' = - g + \\frac{1}{2} c_W \\rho_{Luft} A / m_{fb} \\times y'^{ 2}$$\n",
    "\n",
    "Take numbers for a football:\n",
    "\n",
    "        # Luftwiderstandskraft Fussball\n",
    "        rhol = 1.184 # Luftdichte (kg/m^3)\n",
    "        rfb  =  0.11 # Fussballradius (m)\n",
    "        cwfb =  0.45 # Kugel CW-Wert\n",
    "        mfb  =  0.43 # Masse Fussball (kg)\n",
    "        g = 9.81 # Erdbeschleunigung\n",
    "        v = y[1] # Geschwindigkeit\n",
    "        fR = 0.5 * cwfb * rhol * math.pi * rfb**2 * v**2\n",
    "\n",
    "\n",
    "\n",
    "(b) The next step would be the extension to a trajectory of a thrown object with air resistance (\"Schiefer Wurf mit Luftreibung\"), the combined movement in horizontal and vertical direction.\n",
    "\n",
    "How far will a football fly which is shot under 45 degree angle?\n",
    "\n",
    "(The aerodynamic of a football is rather complex, see an interesting discussion at \n",
    "http://www.weltderphysik.de/gebiet/leben/fussball/coca-cola-formel/  )\n",
    "\n",
    "\n",
    "### Data fitting - half time of radioactive source\n",
    "In an experiment you measure the activity of a radioactive source with a counter. The counter takes readings every 30 seconds and shows the integrated number of counts during that period.\n",
    "The list of numbers below is the result of such a measurement. \n",
    "What is the lifetime of the radioactive source? *Hint: Fit an exponential* \n",
    "\n",
    "```IPython\n",
    "counts = [728, 612, 581, 460, 381, 324, 305, 211, 203, 166, 139, 110, 120, 92, 85, 77, 48, 53, 47, 38, 30, 20, 22, 17, 17, 16, 18, 11, 9]\n",
    "```"
   ]
  },
  {
   "cell_type": "markdown",
   "metadata": {
    "collapsed": true
   },
   "source": [
    "### Polynom fit -- which polynom degree is needed?\n",
    "\n",
    "Below is note book with test-data and polynom fit, check which degree of polynom is sensible"
   ]
  },
  {
   "cell_type": "code",
   "execution_count": 7,
   "metadata": {
    "collapsed": false
   },
   "outputs": [
    {
     "name": "stdout",
     "output_type": "stream",
     "text": [
      "[ -2.07592094  19.23496798]\n",
      "Chi2, n, chi2/ndf: 105.597831567 1 7.03985543778\n"
     ]
    },
    {
     "data": {
      "image/png": "[encoded data removed]",
      "text/plain": [
       "<matplotlib.figure.Figure at 0x7f8dd54420f0>"
      ]
     },
     "metadata": {},
     "output_type": "display_data"
    }
   ],
   "source": [
    "import numpy as np\n",
    "import scipy as sp\n",
    "import matplotlib.pyplot as plt\n",
    "\n",
    "# test data\n",
    "x = [ -3.5, -2.5, -1.5, -0.5, 0.5, 1.5,  2.5, 3.5, 4.5, 5.5, 6.5, 7.5, 8.5, 9.5, 10.5, 11.5]\n",
    "y = [ 219., 155., 89., 11., 54., 80., 48., 5., -47., -64., -101., -125., -124., 13., 239., 525. ]\n",
    "ey = [ 65., 41, 30., 26., 26., 24., 18., 4., 17., 33., 45., 49., 38., 6., 74., 160.]\n",
    " \n",
    "ey = np.array(ey)\n",
    "w=1./ey\n",
    "\n",
    "n=1 #polynom degree\n",
    "\n",
    "pars=sp.polyfit(x,y,n,w=w) # do the fit\n",
    "\n",
    "yr=sp.polyval(pars,x) # compute residuals based on fitted line\n",
    "chi2=sp.sum((yr-y)**2/ey**2) #compute Chi2\n",
    "\n",
    "print (pars)\n",
    "print ('Chi2, n, chi2/ndf:', chi2, n, chi2/(len(x)-n))\n",
    "\n",
    "plt.title('Polynom Regression Example')\n",
    "plt.errorbar(x,y,ey,fmt='ob')\n",
    "plt.plot(x,yr,'r--')\n",
    "plt.legend(['regression','values']);\n"
   ]
  },
  {
   "cell_type": "code",
   "execution_count": null,
   "metadata": {
    "collapsed": true
   },
   "outputs": [],
   "source": []
  }
 ],
 "metadata": {
  "anaconda-cloud": {},
  "kernelspec": {
   "display_name": "Python [Root]",
   "language": "python",
   "name": "Python [Root]"
  },
  "language_info": {
   "codemirror_mode": {
    "name": "ipython",
    "version": 3
   },
   "file_extension": ".py",
   "mimetype": "text/x-python",
   "name": "python",
   "nbconvert_exporter": "python",
   "pygments_lexer": "ipython3",
   "version": "3.5.2"
  },
  "toc": {
   "nav_menu": {},
   "number_sections": true,
   "sideBar": true,
   "skip_h1_title": false,
   "title_cell": "Table of Contents",
   "title_sidebar": "Contents",
   "toc_cell": true,
   "toc_position": {},
   "toc_section_display": true,
   "toc_window_display": false
  }
 },
 "nbformat": 4,
 "nbformat_minor": 0
}
